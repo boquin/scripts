{
 "cells": [
  {
   "cell_type": "code",
   "execution_count": 1,
   "id": "3d6e554a",
   "metadata": {},
   "outputs": [],
   "source": [
    "import pandas as pd\n",
    "import numpy as np\n",
    "import seaborn as sns\n",
    "from requests import get\n",
    "import requests\n",
    "from bs4 import BeautifulSoup\n",
    "from sklearn.linear_model import LinearRegression\n",
    "from sklearn.linear_model import LogisticRegression\n",
    "from sklearn.model_selection import train_test_split\n",
    "import matplotlib.pyplot as plt\n",
    "import plotly.express as px\n",
    "\n",
    "\n",
    "CEMBI = 'https://www.ishares.com/us/products/239525/ishares-emerging-markets-corporate-bond-etf/1467271812596.ajax?fileType=csv&fileName=CEMB_holdings&dataType=fund'\n",
    "EMBI = 'https://www.ishares.com/us/products/239572/ishares-jp-morgan-usd-emerging-markets-bond-etf/1467271812596.ajax?fileType=csv&fileName=EMB_holdings&dataType=fund'\n",
    "GBI = 'https://www.ishares.com/us/products/239528/ishares-emerging-markets-local-currency-bond-etf/1467271812596.ajax?fileType=csv&fileName=LEMB_holdings&dataType=fund'\n",
    "\n",
    "indexchoice = EMBI\n",
    "if indexchoice in [EMBI,CEMBI]:\n",
    "    categories = [\"Location\",\"Sector\",\"Name\"]\n",
    "else:\n",
    "    categories = [\"Location\",\"Sector\"]\n",
    "chartnames= {EMBI:\"EMBI\",CEMBI:\"CEMBI\",GBI:\"GBI\"}\n",
    "\n",
    "df = pd.read_csv(indexchoice, header=9)\n",
    "datalist = [\"YTM (%)\",\"Maturity\",\"Mod. Duration\",\"Yield to Worst (%)\",\"Location\"]\n",
    "df1 = df[datalist]\n",
    "df1 = df1.set_index(\"Location\")\n",
    "\n",
    "def get_year(x):\n",
    "    x = str(x)\n",
    "    try: \n",
    "        return(int(x[-4:]))\n",
    "    except:\n",
    "        pass\n",
    "    \n",
    "df1[\"year\"] = df1[\"Maturity\"].apply(get_year)\n",
    "df1 = df1[df1[\"year\"] < 2035]\n",
    "df1 = df1[df1[\"year\"] > 2027]\n",
    "df1[\"YTW\"] = pd.to_numeric(df1[\"Yield to Worst (%)\"],errors=\"coerce\")"
   ]
  },
  {
   "cell_type": "code",
   "execution_count": 21,
   "id": "f45ff608",
   "metadata": {},
   "outputs": [
    {
     "name": "stdout",
     "output_type": "stream",
     "text": [
      "[18 21 13 16 14 9 7 15 19 23 11 12 17 10 'CCC' 6 22]\n"
     ]
    },
    {
     "data": {
      "application/vnd.plotly.v1+json": {
       "config": {
        "plotlyServerURL": "https://plot.ly"
       },
       "data": [
        {
         "hovertemplate": "Outlook=Positive<br>Rating numbers=%{x}<br>YTW=%{y}<br>Country/Region=%{text}<extra></extra>",
         "legendgroup": "Positive",
         "marker": {
          "color": "#2471A3",
          "size": 15,
          "symbol": "circle"
         },
         "mode": "markers+text",
         "name": "Positive",
         "orientation": "v",
         "showlegend": true,
         "text": [
          "Azerbaijan",
          "Dominican Republic",
          "Jamaica",
          "Qatar"
         ],
         "type": "scatter",
         "x": [
          13,
          15,
          16,
          6
         ],
         "xaxis": "x",
         "y": [
          6.05,
          6.703999999999999,
          4.96,
          4.642
         ],
         "yaxis": "y"
        },
        {
         "hovertemplate": "Outlook=Stable<br>Rating numbers=%{x}<br>YTW=%{y}<br>Country/Region=%{text}<extra></extra>",
         "legendgroup": "Stable",
         "marker": {
          "color": "#ABB2B9",
          "size": 15,
          "symbol": "circle"
         },
         "mode": "markers+text",
         "name": "Stable",
         "orientation": "v",
         "showlegend": true,
         "text": [
          "Bahrain",
          "Brazil",
          "Chile",
          "China",
          "Colombia",
          "Costa Rica",
          "India",
          "Indonesia",
          "Jordan",
          "Malaysia",
          "Mexico",
          "Morocco",
          "Oman",
          "Panama",
          "Paraguay",
          "Philippines",
          "Poland",
          "Romania",
          "Saudi Arabia",
          "Serbia",
          "South Africa",
          "Turkey",
          "Uruguay"
         ],
         "type": "scatter",
         "x": [
          16,
          14,
          9,
          7,
          13,
          15,
          12,
          11,
          15,
          10,
          12,
          13,
          14,
          12,
          13,
          11,
          9,
          12,
          7,
          13,
          15,
          14,
          11
         ],
         "xaxis": "x",
         "y": [
          6.768888888888889,
          5.894285714285714,
          5.33375,
          4.8,
          7.011666666666667,
          6.279999999999999,
          5.4025,
          5.0815,
          7.46,
          5.05,
          7.733888888888889,
          5.903333333333333,
          5.6066666666666665,
          6.768000000000001,
          5.72,
          5.045,
          5.232,
          6.1240000000000006,
          4.894736842105263,
          6.265000000000001,
          7.388333333333333,
          7.732666666666666,
          4.88
         ],
         "yaxis": "y"
        },
        {
         "hovertemplate": "Outlook=Negative<br>Rating numbers=%{x}<br>YTW=%{y}<br>Country/Region=%{text}<extra></extra>",
         "legendgroup": "Negative",
         "marker": {
          "color": "#C0392B",
          "size": 15,
          "symbol": "circle"
         },
         "mode": "markers+text",
         "name": "Negative",
         "orientation": "v",
         "showlegend": true,
         "text": [
          "Hungary",
          "Peru"
         ],
         "type": "scatter",
         "x": [
          11,
          11
         ],
         "xaxis": "x",
         "y": [
          5.7250000000000005,
          6.39
         ],
         "yaxis": "y"
        }
       ],
       "layout": {
        "legend": {
         "title": {
          "text": "Outlook"
         },
         "tracegroupgap": 0
        },
        "margin": {
         "t": 60
        },
        "plot_bgcolor": "#F8F9F9",
        "template": {
         "data": {
          "bar": [
           {
            "error_x": {
             "color": "#2a3f5f"
            },
            "error_y": {
             "color": "#2a3f5f"
            },
            "marker": {
             "line": {
              "color": "#E5ECF6",
              "width": 0.5
             },
             "pattern": {
              "fillmode": "overlay",
              "size": 10,
              "solidity": 0.2
             }
            },
            "type": "bar"
           }
          ],
          "barpolar": [
           {
            "marker": {
             "line": {
              "color": "#E5ECF6",
              "width": 0.5
             },
             "pattern": {
              "fillmode": "overlay",
              "size": 10,
              "solidity": 0.2
             }
            },
            "type": "barpolar"
           }
          ],
          "carpet": [
           {
            "aaxis": {
             "endlinecolor": "#2a3f5f",
             "gridcolor": "white",
             "linecolor": "white",
             "minorgridcolor": "white",
             "startlinecolor": "#2a3f5f"
            },
            "baxis": {
             "endlinecolor": "#2a3f5f",
             "gridcolor": "white",
             "linecolor": "white",
             "minorgridcolor": "white",
             "startlinecolor": "#2a3f5f"
            },
            "type": "carpet"
           }
          ],
          "choropleth": [
           {
            "colorbar": {
             "outlinewidth": 0,
             "ticks": ""
            },
            "type": "choropleth"
           }
          ],
          "contour": [
           {
            "colorbar": {
             "outlinewidth": 0,
             "ticks": ""
            },
            "colorscale": [
             [
              0,
              "#0d0887"
             ],
             [
              0.1111111111111111,
              "#46039f"
             ],
             [
              0.2222222222222222,
              "#7201a8"
             ],
             [
              0.3333333333333333,
              "#9c179e"
             ],
             [
              0.4444444444444444,
              "#bd3786"
             ],
             [
              0.5555555555555556,
              "#d8576b"
             ],
             [
              0.6666666666666666,
              "#ed7953"
             ],
             [
              0.7777777777777778,
              "#fb9f3a"
             ],
             [
              0.8888888888888888,
              "#fdca26"
             ],
             [
              1,
              "#f0f921"
             ]
            ],
            "type": "contour"
           }
          ],
          "contourcarpet": [
           {
            "colorbar": {
             "outlinewidth": 0,
             "ticks": ""
            },
            "type": "contourcarpet"
           }
          ],
          "heatmap": [
           {
            "colorbar": {
             "outlinewidth": 0,
             "ticks": ""
            },
            "colorscale": [
             [
              0,
              "#0d0887"
             ],
             [
              0.1111111111111111,
              "#46039f"
             ],
             [
              0.2222222222222222,
              "#7201a8"
             ],
             [
              0.3333333333333333,
              "#9c179e"
             ],
             [
              0.4444444444444444,
              "#bd3786"
             ],
             [
              0.5555555555555556,
              "#d8576b"
             ],
             [
              0.6666666666666666,
              "#ed7953"
             ],
             [
              0.7777777777777778,
              "#fb9f3a"
             ],
             [
              0.8888888888888888,
              "#fdca26"
             ],
             [
              1,
              "#f0f921"
             ]
            ],
            "type": "heatmap"
           }
          ],
          "heatmapgl": [
           {
            "colorbar": {
             "outlinewidth": 0,
             "ticks": ""
            },
            "colorscale": [
             [
              0,
              "#0d0887"
             ],
             [
              0.1111111111111111,
              "#46039f"
             ],
             [
              0.2222222222222222,
              "#7201a8"
             ],
             [
              0.3333333333333333,
              "#9c179e"
             ],
             [
              0.4444444444444444,
              "#bd3786"
             ],
             [
              0.5555555555555556,
              "#d8576b"
             ],
             [
              0.6666666666666666,
              "#ed7953"
             ],
             [
              0.7777777777777778,
              "#fb9f3a"
             ],
             [
              0.8888888888888888,
              "#fdca26"
             ],
             [
              1,
              "#f0f921"
             ]
            ],
            "type": "heatmapgl"
           }
          ],
          "histogram": [
           {
            "marker": {
             "pattern": {
              "fillmode": "overlay",
              "size": 10,
              "solidity": 0.2
             }
            },
            "type": "histogram"
           }
          ],
          "histogram2d": [
           {
            "colorbar": {
             "outlinewidth": 0,
             "ticks": ""
            },
            "colorscale": [
             [
              0,
              "#0d0887"
             ],
             [
              0.1111111111111111,
              "#46039f"
             ],
             [
              0.2222222222222222,
              "#7201a8"
             ],
             [
              0.3333333333333333,
              "#9c179e"
             ],
             [
              0.4444444444444444,
              "#bd3786"
             ],
             [
              0.5555555555555556,
              "#d8576b"
             ],
             [
              0.6666666666666666,
              "#ed7953"
             ],
             [
              0.7777777777777778,
              "#fb9f3a"
             ],
             [
              0.8888888888888888,
              "#fdca26"
             ],
             [
              1,
              "#f0f921"
             ]
            ],
            "type": "histogram2d"
           }
          ],
          "histogram2dcontour": [
           {
            "colorbar": {
             "outlinewidth": 0,
             "ticks": ""
            },
            "colorscale": [
             [
              0,
              "#0d0887"
             ],
             [
              0.1111111111111111,
              "#46039f"
             ],
             [
              0.2222222222222222,
              "#7201a8"
             ],
             [
              0.3333333333333333,
              "#9c179e"
             ],
             [
              0.4444444444444444,
              "#bd3786"
             ],
             [
              0.5555555555555556,
              "#d8576b"
             ],
             [
              0.6666666666666666,
              "#ed7953"
             ],
             [
              0.7777777777777778,
              "#fb9f3a"
             ],
             [
              0.8888888888888888,
              "#fdca26"
             ],
             [
              1,
              "#f0f921"
             ]
            ],
            "type": "histogram2dcontour"
           }
          ],
          "mesh3d": [
           {
            "colorbar": {
             "outlinewidth": 0,
             "ticks": ""
            },
            "type": "mesh3d"
           }
          ],
          "parcoords": [
           {
            "line": {
             "colorbar": {
              "outlinewidth": 0,
              "ticks": ""
             }
            },
            "type": "parcoords"
           }
          ],
          "pie": [
           {
            "automargin": true,
            "type": "pie"
           }
          ],
          "scatter": [
           {
            "fillpattern": {
             "fillmode": "overlay",
             "size": 10,
             "solidity": 0.2
            },
            "type": "scatter"
           }
          ],
          "scatter3d": [
           {
            "line": {
             "colorbar": {
              "outlinewidth": 0,
              "ticks": ""
             }
            },
            "marker": {
             "colorbar": {
              "outlinewidth": 0,
              "ticks": ""
             }
            },
            "type": "scatter3d"
           }
          ],
          "scattercarpet": [
           {
            "marker": {
             "colorbar": {
              "outlinewidth": 0,
              "ticks": ""
             }
            },
            "type": "scattercarpet"
           }
          ],
          "scattergeo": [
           {
            "marker": {
             "colorbar": {
              "outlinewidth": 0,
              "ticks": ""
             }
            },
            "type": "scattergeo"
           }
          ],
          "scattergl": [
           {
            "marker": {
             "colorbar": {
              "outlinewidth": 0,
              "ticks": ""
             }
            },
            "type": "scattergl"
           }
          ],
          "scattermapbox": [
           {
            "marker": {
             "colorbar": {
              "outlinewidth": 0,
              "ticks": ""
             }
            },
            "type": "scattermapbox"
           }
          ],
          "scatterpolar": [
           {
            "marker": {
             "colorbar": {
              "outlinewidth": 0,
              "ticks": ""
             }
            },
            "type": "scatterpolar"
           }
          ],
          "scatterpolargl": [
           {
            "marker": {
             "colorbar": {
              "outlinewidth": 0,
              "ticks": ""
             }
            },
            "type": "scatterpolargl"
           }
          ],
          "scatterternary": [
           {
            "marker": {
             "colorbar": {
              "outlinewidth": 0,
              "ticks": ""
             }
            },
            "type": "scatterternary"
           }
          ],
          "surface": [
           {
            "colorbar": {
             "outlinewidth": 0,
             "ticks": ""
            },
            "colorscale": [
             [
              0,
              "#0d0887"
             ],
             [
              0.1111111111111111,
              "#46039f"
             ],
             [
              0.2222222222222222,
              "#7201a8"
             ],
             [
              0.3333333333333333,
              "#9c179e"
             ],
             [
              0.4444444444444444,
              "#bd3786"
             ],
             [
              0.5555555555555556,
              "#d8576b"
             ],
             [
              0.6666666666666666,
              "#ed7953"
             ],
             [
              0.7777777777777778,
              "#fb9f3a"
             ],
             [
              0.8888888888888888,
              "#fdca26"
             ],
             [
              1,
              "#f0f921"
             ]
            ],
            "type": "surface"
           }
          ],
          "table": [
           {
            "cells": {
             "fill": {
              "color": "#EBF0F8"
             },
             "line": {
              "color": "white"
             }
            },
            "header": {
             "fill": {
              "color": "#C8D4E3"
             },
             "line": {
              "color": "white"
             }
            },
            "type": "table"
           }
          ]
         },
         "layout": {
          "annotationdefaults": {
           "arrowcolor": "#2a3f5f",
           "arrowhead": 0,
           "arrowwidth": 1
          },
          "autotypenumbers": "strict",
          "coloraxis": {
           "colorbar": {
            "outlinewidth": 0,
            "ticks": ""
           }
          },
          "colorscale": {
           "diverging": [
            [
             0,
             "#8e0152"
            ],
            [
             0.1,
             "#c51b7d"
            ],
            [
             0.2,
             "#de77ae"
            ],
            [
             0.3,
             "#f1b6da"
            ],
            [
             0.4,
             "#fde0ef"
            ],
            [
             0.5,
             "#f7f7f7"
            ],
            [
             0.6,
             "#e6f5d0"
            ],
            [
             0.7,
             "#b8e186"
            ],
            [
             0.8,
             "#7fbc41"
            ],
            [
             0.9,
             "#4d9221"
            ],
            [
             1,
             "#276419"
            ]
           ],
           "sequential": [
            [
             0,
             "#0d0887"
            ],
            [
             0.1111111111111111,
             "#46039f"
            ],
            [
             0.2222222222222222,
             "#7201a8"
            ],
            [
             0.3333333333333333,
             "#9c179e"
            ],
            [
             0.4444444444444444,
             "#bd3786"
            ],
            [
             0.5555555555555556,
             "#d8576b"
            ],
            [
             0.6666666666666666,
             "#ed7953"
            ],
            [
             0.7777777777777778,
             "#fb9f3a"
            ],
            [
             0.8888888888888888,
             "#fdca26"
            ],
            [
             1,
             "#f0f921"
            ]
           ],
           "sequentialminus": [
            [
             0,
             "#0d0887"
            ],
            [
             0.1111111111111111,
             "#46039f"
            ],
            [
             0.2222222222222222,
             "#7201a8"
            ],
            [
             0.3333333333333333,
             "#9c179e"
            ],
            [
             0.4444444444444444,
             "#bd3786"
            ],
            [
             0.5555555555555556,
             "#d8576b"
            ],
            [
             0.6666666666666666,
             "#ed7953"
            ],
            [
             0.7777777777777778,
             "#fb9f3a"
            ],
            [
             0.8888888888888888,
             "#fdca26"
            ],
            [
             1,
             "#f0f921"
            ]
           ]
          },
          "colorway": [
           "#636efa",
           "#EF553B",
           "#00cc96",
           "#ab63fa",
           "#FFA15A",
           "#19d3f3",
           "#FF6692",
           "#B6E880",
           "#FF97FF",
           "#FECB52"
          ],
          "font": {
           "color": "#2a3f5f"
          },
          "geo": {
           "bgcolor": "white",
           "lakecolor": "white",
           "landcolor": "#E5ECF6",
           "showlakes": true,
           "showland": true,
           "subunitcolor": "white"
          },
          "hoverlabel": {
           "align": "left"
          },
          "hovermode": "closest",
          "mapbox": {
           "style": "light"
          },
          "paper_bgcolor": "white",
          "plot_bgcolor": "#E5ECF6",
          "polar": {
           "angularaxis": {
            "gridcolor": "white",
            "linecolor": "white",
            "ticks": ""
           },
           "bgcolor": "#E5ECF6",
           "radialaxis": {
            "gridcolor": "white",
            "linecolor": "white",
            "ticks": ""
           }
          },
          "scene": {
           "xaxis": {
            "backgroundcolor": "#E5ECF6",
            "gridcolor": "white",
            "gridwidth": 2,
            "linecolor": "white",
            "showbackground": true,
            "ticks": "",
            "zerolinecolor": "white"
           },
           "yaxis": {
            "backgroundcolor": "#E5ECF6",
            "gridcolor": "white",
            "gridwidth": 2,
            "linecolor": "white",
            "showbackground": true,
            "ticks": "",
            "zerolinecolor": "white"
           },
           "zaxis": {
            "backgroundcolor": "#E5ECF6",
            "gridcolor": "white",
            "gridwidth": 2,
            "linecolor": "white",
            "showbackground": true,
            "ticks": "",
            "zerolinecolor": "white"
           }
          },
          "shapedefaults": {
           "line": {
            "color": "#2a3f5f"
           }
          },
          "ternary": {
           "aaxis": {
            "gridcolor": "white",
            "linecolor": "white",
            "ticks": ""
           },
           "baxis": {
            "gridcolor": "white",
            "linecolor": "white",
            "ticks": ""
           },
           "bgcolor": "#E5ECF6",
           "caxis": {
            "gridcolor": "white",
            "linecolor": "white",
            "ticks": ""
           }
          },
          "title": {
           "x": 0.05
          },
          "xaxis": {
           "automargin": true,
           "gridcolor": "white",
           "linecolor": "white",
           "ticks": "",
           "title": {
            "standoff": 15
           },
           "zerolinecolor": "white",
           "zerolinewidth": 2
          },
          "yaxis": {
           "automargin": true,
           "gridcolor": "white",
           "linecolor": "white",
           "ticks": "",
           "title": {
            "standoff": 15
           },
           "zerolinecolor": "white",
           "zerolinewidth": 2
          }
         }
        },
        "xaxis": {
         "anchor": "y",
         "domain": [
          0,
          1
         ],
         "tickmode": "array",
         "ticktext": [
          "AA-",
          "A",
          "BBB+",
          "BBB-",
          "BB",
          "B+",
          "B-",
          "CCC-",
          "SD"
         ],
         "tickvals": [
          6,
          8,
          10,
          12,
          14,
          16,
          18,
          20
         ],
         "title": {
          "text": "Rating numbers"
         }
        },
        "yaxis": {
         "anchor": "x",
         "domain": [
          0,
          1
         ],
         "title": {
          "text": "YTW"
         }
        }
       }
      },
      "text/html": [
       "<div>                            <div id=\"d978cbc6-2be9-4eee-a8cb-29e0d73bc05c\" class=\"plotly-graph-div\" style=\"height:525px; width:100%;\"></div>            <script type=\"text/javascript\">                require([\"plotly\"], function(Plotly) {                    window.PLOTLYENV=window.PLOTLYENV || {};                                    if (document.getElementById(\"d978cbc6-2be9-4eee-a8cb-29e0d73bc05c\")) {                    Plotly.newPlot(                        \"d978cbc6-2be9-4eee-a8cb-29e0d73bc05c\",                        [{\"hovertemplate\":\"Outlook=Positive\\u003cbr\\u003eRating numbers=%{x}\\u003cbr\\u003eYTW=%{y}\\u003cbr\\u003eCountry\\u002fRegion=%{text}\\u003cextra\\u003e\\u003c\\u002fextra\\u003e\",\"legendgroup\":\"Positive\",\"marker\":{\"color\":\"#2471A3\",\"symbol\":\"circle\",\"size\":15},\"mode\":\"markers+text\",\"name\":\"Positive\",\"orientation\":\"v\",\"showlegend\":true,\"text\":[\"Azerbaijan\",\"Dominican Republic\",\"Jamaica\",\"Qatar\"],\"x\":[13.0,15.0,16.0,6.0],\"xaxis\":\"x\",\"y\":[6.05,6.703999999999999,4.96,4.642],\"yaxis\":\"y\",\"type\":\"scatter\"},{\"hovertemplate\":\"Outlook=Stable\\u003cbr\\u003eRating numbers=%{x}\\u003cbr\\u003eYTW=%{y}\\u003cbr\\u003eCountry\\u002fRegion=%{text}\\u003cextra\\u003e\\u003c\\u002fextra\\u003e\",\"legendgroup\":\"Stable\",\"marker\":{\"color\":\"#ABB2B9\",\"symbol\":\"circle\",\"size\":15},\"mode\":\"markers+text\",\"name\":\"Stable\",\"orientation\":\"v\",\"showlegend\":true,\"text\":[\"Bahrain\",\"Brazil\",\"Chile\",\"China\",\"Colombia\",\"Costa Rica\",\"India\",\"Indonesia\",\"Jordan\",\"Malaysia\",\"Mexico\",\"Morocco\",\"Oman\",\"Panama\",\"Paraguay\",\"Philippines\",\"Poland\",\"Romania\",\"Saudi Arabia\",\"Serbia\",\"South Africa\",\"Turkey\",\"Uruguay\"],\"x\":[16.0,14.0,9.0,7.0,13.0,15.0,12.0,11.0,15.0,10.0,12.0,13.0,14.0,12.0,13.0,11.0,9.0,12.0,7.0,13.0,15.0,14.0,11.0],\"xaxis\":\"x\",\"y\":[6.768888888888889,5.894285714285714,5.33375,4.8,7.011666666666667,6.279999999999999,5.4025,5.0815,7.46,5.05,7.733888888888889,5.903333333333333,5.6066666666666665,6.768000000000001,5.72,5.045,5.232,6.1240000000000006,4.894736842105263,6.265000000000001,7.388333333333333,7.732666666666666,4.88],\"yaxis\":\"y\",\"type\":\"scatter\"},{\"hovertemplate\":\"Outlook=Negative\\u003cbr\\u003eRating numbers=%{x}\\u003cbr\\u003eYTW=%{y}\\u003cbr\\u003eCountry\\u002fRegion=%{text}\\u003cextra\\u003e\\u003c\\u002fextra\\u003e\",\"legendgroup\":\"Negative\",\"marker\":{\"color\":\"#C0392B\",\"symbol\":\"circle\",\"size\":15},\"mode\":\"markers+text\",\"name\":\"Negative\",\"orientation\":\"v\",\"showlegend\":true,\"text\":[\"Hungary\",\"Peru\"],\"x\":[11.0,11.0],\"xaxis\":\"x\",\"y\":[5.7250000000000005,6.39],\"yaxis\":\"y\",\"type\":\"scatter\"}],                        {\"template\":{\"data\":{\"histogram2dcontour\":[{\"type\":\"histogram2dcontour\",\"colorbar\":{\"outlinewidth\":0,\"ticks\":\"\"},\"colorscale\":[[0.0,\"#0d0887\"],[0.1111111111111111,\"#46039f\"],[0.2222222222222222,\"#7201a8\"],[0.3333333333333333,\"#9c179e\"],[0.4444444444444444,\"#bd3786\"],[0.5555555555555556,\"#d8576b\"],[0.6666666666666666,\"#ed7953\"],[0.7777777777777778,\"#fb9f3a\"],[0.8888888888888888,\"#fdca26\"],[1.0,\"#f0f921\"]]}],\"choropleth\":[{\"type\":\"choropleth\",\"colorbar\":{\"outlinewidth\":0,\"ticks\":\"\"}}],\"histogram2d\":[{\"type\":\"histogram2d\",\"colorbar\":{\"outlinewidth\":0,\"ticks\":\"\"},\"colorscale\":[[0.0,\"#0d0887\"],[0.1111111111111111,\"#46039f\"],[0.2222222222222222,\"#7201a8\"],[0.3333333333333333,\"#9c179e\"],[0.4444444444444444,\"#bd3786\"],[0.5555555555555556,\"#d8576b\"],[0.6666666666666666,\"#ed7953\"],[0.7777777777777778,\"#fb9f3a\"],[0.8888888888888888,\"#fdca26\"],[1.0,\"#f0f921\"]]}],\"heatmap\":[{\"type\":\"heatmap\",\"colorbar\":{\"outlinewidth\":0,\"ticks\":\"\"},\"colorscale\":[[0.0,\"#0d0887\"],[0.1111111111111111,\"#46039f\"],[0.2222222222222222,\"#7201a8\"],[0.3333333333333333,\"#9c179e\"],[0.4444444444444444,\"#bd3786\"],[0.5555555555555556,\"#d8576b\"],[0.6666666666666666,\"#ed7953\"],[0.7777777777777778,\"#fb9f3a\"],[0.8888888888888888,\"#fdca26\"],[1.0,\"#f0f921\"]]}],\"heatmapgl\":[{\"type\":\"heatmapgl\",\"colorbar\":{\"outlinewidth\":0,\"ticks\":\"\"},\"colorscale\":[[0.0,\"#0d0887\"],[0.1111111111111111,\"#46039f\"],[0.2222222222222222,\"#7201a8\"],[0.3333333333333333,\"#9c179e\"],[0.4444444444444444,\"#bd3786\"],[0.5555555555555556,\"#d8576b\"],[0.6666666666666666,\"#ed7953\"],[0.7777777777777778,\"#fb9f3a\"],[0.8888888888888888,\"#fdca26\"],[1.0,\"#f0f921\"]]}],\"contourcarpet\":[{\"type\":\"contourcarpet\",\"colorbar\":{\"outlinewidth\":0,\"ticks\":\"\"}}],\"contour\":[{\"type\":\"contour\",\"colorbar\":{\"outlinewidth\":0,\"ticks\":\"\"},\"colorscale\":[[0.0,\"#0d0887\"],[0.1111111111111111,\"#46039f\"],[0.2222222222222222,\"#7201a8\"],[0.3333333333333333,\"#9c179e\"],[0.4444444444444444,\"#bd3786\"],[0.5555555555555556,\"#d8576b\"],[0.6666666666666666,\"#ed7953\"],[0.7777777777777778,\"#fb9f3a\"],[0.8888888888888888,\"#fdca26\"],[1.0,\"#f0f921\"]]}],\"surface\":[{\"type\":\"surface\",\"colorbar\":{\"outlinewidth\":0,\"ticks\":\"\"},\"colorscale\":[[0.0,\"#0d0887\"],[0.1111111111111111,\"#46039f\"],[0.2222222222222222,\"#7201a8\"],[0.3333333333333333,\"#9c179e\"],[0.4444444444444444,\"#bd3786\"],[0.5555555555555556,\"#d8576b\"],[0.6666666666666666,\"#ed7953\"],[0.7777777777777778,\"#fb9f3a\"],[0.8888888888888888,\"#fdca26\"],[1.0,\"#f0f921\"]]}],\"mesh3d\":[{\"type\":\"mesh3d\",\"colorbar\":{\"outlinewidth\":0,\"ticks\":\"\"}}],\"scatter\":[{\"fillpattern\":{\"fillmode\":\"overlay\",\"size\":10,\"solidity\":0.2},\"type\":\"scatter\"}],\"parcoords\":[{\"type\":\"parcoords\",\"line\":{\"colorbar\":{\"outlinewidth\":0,\"ticks\":\"\"}}}],\"scatterpolargl\":[{\"type\":\"scatterpolargl\",\"marker\":{\"colorbar\":{\"outlinewidth\":0,\"ticks\":\"\"}}}],\"bar\":[{\"error_x\":{\"color\":\"#2a3f5f\"},\"error_y\":{\"color\":\"#2a3f5f\"},\"marker\":{\"line\":{\"color\":\"#E5ECF6\",\"width\":0.5},\"pattern\":{\"fillmode\":\"overlay\",\"size\":10,\"solidity\":0.2}},\"type\":\"bar\"}],\"scattergeo\":[{\"type\":\"scattergeo\",\"marker\":{\"colorbar\":{\"outlinewidth\":0,\"ticks\":\"\"}}}],\"scatterpolar\":[{\"type\":\"scatterpolar\",\"marker\":{\"colorbar\":{\"outlinewidth\":0,\"ticks\":\"\"}}}],\"histogram\":[{\"marker\":{\"pattern\":{\"fillmode\":\"overlay\",\"size\":10,\"solidity\":0.2}},\"type\":\"histogram\"}],\"scattergl\":[{\"type\":\"scattergl\",\"marker\":{\"colorbar\":{\"outlinewidth\":0,\"ticks\":\"\"}}}],\"scatter3d\":[{\"type\":\"scatter3d\",\"line\":{\"colorbar\":{\"outlinewidth\":0,\"ticks\":\"\"}},\"marker\":{\"colorbar\":{\"outlinewidth\":0,\"ticks\":\"\"}}}],\"scattermapbox\":[{\"type\":\"scattermapbox\",\"marker\":{\"colorbar\":{\"outlinewidth\":0,\"ticks\":\"\"}}}],\"scatterternary\":[{\"type\":\"scatterternary\",\"marker\":{\"colorbar\":{\"outlinewidth\":0,\"ticks\":\"\"}}}],\"scattercarpet\":[{\"type\":\"scattercarpet\",\"marker\":{\"colorbar\":{\"outlinewidth\":0,\"ticks\":\"\"}}}],\"carpet\":[{\"aaxis\":{\"endlinecolor\":\"#2a3f5f\",\"gridcolor\":\"white\",\"linecolor\":\"white\",\"minorgridcolor\":\"white\",\"startlinecolor\":\"#2a3f5f\"},\"baxis\":{\"endlinecolor\":\"#2a3f5f\",\"gridcolor\":\"white\",\"linecolor\":\"white\",\"minorgridcolor\":\"white\",\"startlinecolor\":\"#2a3f5f\"},\"type\":\"carpet\"}],\"table\":[{\"cells\":{\"fill\":{\"color\":\"#EBF0F8\"},\"line\":{\"color\":\"white\"}},\"header\":{\"fill\":{\"color\":\"#C8D4E3\"},\"line\":{\"color\":\"white\"}},\"type\":\"table\"}],\"barpolar\":[{\"marker\":{\"line\":{\"color\":\"#E5ECF6\",\"width\":0.5},\"pattern\":{\"fillmode\":\"overlay\",\"size\":10,\"solidity\":0.2}},\"type\":\"barpolar\"}],\"pie\":[{\"automargin\":true,\"type\":\"pie\"}]},\"layout\":{\"autotypenumbers\":\"strict\",\"colorway\":[\"#636efa\",\"#EF553B\",\"#00cc96\",\"#ab63fa\",\"#FFA15A\",\"#19d3f3\",\"#FF6692\",\"#B6E880\",\"#FF97FF\",\"#FECB52\"],\"font\":{\"color\":\"#2a3f5f\"},\"hovermode\":\"closest\",\"hoverlabel\":{\"align\":\"left\"},\"paper_bgcolor\":\"white\",\"plot_bgcolor\":\"#E5ECF6\",\"polar\":{\"bgcolor\":\"#E5ECF6\",\"angularaxis\":{\"gridcolor\":\"white\",\"linecolor\":\"white\",\"ticks\":\"\"},\"radialaxis\":{\"gridcolor\":\"white\",\"linecolor\":\"white\",\"ticks\":\"\"}},\"ternary\":{\"bgcolor\":\"#E5ECF6\",\"aaxis\":{\"gridcolor\":\"white\",\"linecolor\":\"white\",\"ticks\":\"\"},\"baxis\":{\"gridcolor\":\"white\",\"linecolor\":\"white\",\"ticks\":\"\"},\"caxis\":{\"gridcolor\":\"white\",\"linecolor\":\"white\",\"ticks\":\"\"}},\"coloraxis\":{\"colorbar\":{\"outlinewidth\":0,\"ticks\":\"\"}},\"colorscale\":{\"sequential\":[[0.0,\"#0d0887\"],[0.1111111111111111,\"#46039f\"],[0.2222222222222222,\"#7201a8\"],[0.3333333333333333,\"#9c179e\"],[0.4444444444444444,\"#bd3786\"],[0.5555555555555556,\"#d8576b\"],[0.6666666666666666,\"#ed7953\"],[0.7777777777777778,\"#fb9f3a\"],[0.8888888888888888,\"#fdca26\"],[1.0,\"#f0f921\"]],\"sequentialminus\":[[0.0,\"#0d0887\"],[0.1111111111111111,\"#46039f\"],[0.2222222222222222,\"#7201a8\"],[0.3333333333333333,\"#9c179e\"],[0.4444444444444444,\"#bd3786\"],[0.5555555555555556,\"#d8576b\"],[0.6666666666666666,\"#ed7953\"],[0.7777777777777778,\"#fb9f3a\"],[0.8888888888888888,\"#fdca26\"],[1.0,\"#f0f921\"]],\"diverging\":[[0,\"#8e0152\"],[0.1,\"#c51b7d\"],[0.2,\"#de77ae\"],[0.3,\"#f1b6da\"],[0.4,\"#fde0ef\"],[0.5,\"#f7f7f7\"],[0.6,\"#e6f5d0\"],[0.7,\"#b8e186\"],[0.8,\"#7fbc41\"],[0.9,\"#4d9221\"],[1,\"#276419\"]]},\"xaxis\":{\"gridcolor\":\"white\",\"linecolor\":\"white\",\"ticks\":\"\",\"title\":{\"standoff\":15},\"zerolinecolor\":\"white\",\"automargin\":true,\"zerolinewidth\":2},\"yaxis\":{\"gridcolor\":\"white\",\"linecolor\":\"white\",\"ticks\":\"\",\"title\":{\"standoff\":15},\"zerolinecolor\":\"white\",\"automargin\":true,\"zerolinewidth\":2},\"scene\":{\"xaxis\":{\"backgroundcolor\":\"#E5ECF6\",\"gridcolor\":\"white\",\"linecolor\":\"white\",\"showbackground\":true,\"ticks\":\"\",\"zerolinecolor\":\"white\",\"gridwidth\":2},\"yaxis\":{\"backgroundcolor\":\"#E5ECF6\",\"gridcolor\":\"white\",\"linecolor\":\"white\",\"showbackground\":true,\"ticks\":\"\",\"zerolinecolor\":\"white\",\"gridwidth\":2},\"zaxis\":{\"backgroundcolor\":\"#E5ECF6\",\"gridcolor\":\"white\",\"linecolor\":\"white\",\"showbackground\":true,\"ticks\":\"\",\"zerolinecolor\":\"white\",\"gridwidth\":2}},\"shapedefaults\":{\"line\":{\"color\":\"#2a3f5f\"}},\"annotationdefaults\":{\"arrowcolor\":\"#2a3f5f\",\"arrowhead\":0,\"arrowwidth\":1},\"geo\":{\"bgcolor\":\"white\",\"landcolor\":\"#E5ECF6\",\"subunitcolor\":\"white\",\"showland\":true,\"showlakes\":true,\"lakecolor\":\"white\"},\"title\":{\"x\":0.05},\"mapbox\":{\"style\":\"light\"}}},\"xaxis\":{\"anchor\":\"y\",\"domain\":[0.0,1.0],\"title\":{\"text\":\"Rating numbers\"},\"tickmode\":\"array\",\"tickvals\":[6,8,10,12,14,16,18,20],\"ticktext\":[\"AA-\",\"A\",\"BBB+\",\"BBB-\",\"BB\",\"B+\",\"B-\",\"CCC-\",\"SD\"]},\"yaxis\":{\"anchor\":\"x\",\"domain\":[0.0,1.0],\"title\":{\"text\":\"YTW\"}},\"legend\":{\"title\":{\"text\":\"Outlook\"},\"tracegroupgap\":0},\"margin\":{\"t\":60},\"plot_bgcolor\":\"#F8F9F9\"},                        {\"responsive\": true}                    ).then(function(){\n",
       "                            \n",
       "var gd = document.getElementById('d978cbc6-2be9-4eee-a8cb-29e0d73bc05c');\n",
       "var x = new MutationObserver(function (mutations, observer) {{\n",
       "        var display = window.getComputedStyle(gd).display;\n",
       "        if (!display || display === 'none') {{\n",
       "            console.log([gd, 'removed!']);\n",
       "            Plotly.purge(gd);\n",
       "            observer.disconnect();\n",
       "        }}\n",
       "}});\n",
       "\n",
       "// Listen for the removal of the full notebook cells\n",
       "var notebookContainer = gd.closest('#notebook-container');\n",
       "if (notebookContainer) {{\n",
       "    x.observe(notebookContainer, {childList: true});\n",
       "}}\n",
       "\n",
       "// Listen for the clearing of the current output cell\n",
       "var outputEl = gd.closest('.output');\n",
       "if (outputEl) {{\n",
       "    x.observe(outputEl, {childList: true});\n",
       "}}\n",
       "\n",
       "                        })                };                });            </script>        </div>"
      ]
     },
     "metadata": {},
     "output_type": "display_data"
    },
    {
     "data": {
      "image/png": "[encoded data removed]",
      "text/plain": [
       "<Figure size 432x288 with 1 Axes>"
      ]
     },
     "metadata": {
      "needs_background": "light"
     },
     "output_type": "display_data"
    }
   ],
   "source": [
    "#get ratings from wikipedia\n",
    "url = \"https://en.wikipedia.org/wiki/List_of_countries_by_credit_rating\"\n",
    "results = requests.get(url)\n",
    "soup = BeautifulSoup(results.text, \"html.parser\")\n",
    "table=soup.find_all('table',{'class':\"wikitable\"})\n",
    "ratings_list = soup.find_all(\"td\", style=\"display:none\")\n",
    "\n",
    "df_lists = []\n",
    "for x in table:\n",
    "    df_demos=pd.read_html(str(x),flavor='bs4')\n",
    "    df_lists.append(df_demos)\n",
    "    \n",
    "ratings_dict = {\"AAA+\":1,\n",
    "    \"AAA\":2,\n",
    "    \"AAA-\":3,\n",
    "    \"AA+\":4,\n",
    "    \"AA\":5,\n",
    "    \"AA-\":6,\n",
    "    \"A+\":7,\n",
    "    \"A\":8,\n",
    "    \"A-\":9,\n",
    "    \"BBB+\":10,\n",
    "    \"BBB\":11,\n",
    "    \"BBB-\":12,\n",
    "    \"BB+\":13,\n",
    "    \"BB\":14,\n",
    "    \"BB-\":15,\n",
    "    \"B+\":16,\n",
    "    \"B\":17,\n",
    "    \"B-\":18,\n",
    "    \"CCC+\":19,\n",
    "    \"CCC-\":21,\n",
    "    \"CC\":22,\n",
    "    \"C\":23,            \n",
    "    \"SD\":23\n",
    "              }\n",
    "\n",
    "ratings_dict_small = {\"AAA+\":1,\n",
    "    \"AAA\":1,\n",
    "    \"AAA-\":1,\n",
    "    \"AA+\":2,\n",
    "    \"AA\":2,\n",
    "    \"AA-\":2,\n",
    "    \"A+\":3,\n",
    "    \"A\":3,\n",
    "    \"A-\":3,\n",
    "    \"BBB+\":4,\n",
    "    \"BBB\":4,\n",
    "    \"BBB-\":4,\n",
    "    \"BB+\":5,\n",
    "    \"BB\":5,\n",
    "    \"BB-\":5,\n",
    "    \"B+\":6,\n",
    "    \"B\":6,\n",
    "    \"B-\":6,\n",
    "    \"CCC+\":7,               \n",
    "    \"SD\":7\n",
    "              }\n",
    "\n",
    "sp_ratings = df_lists[1][0]\n",
    "sp_ratings[\"Rating numbers\"] = sp_ratings[\"Rating\"].replace(ratings_dict)\n",
    "sp_ratings[\"Rating bucket\"] = sp_ratings[\"Rating\"].replace(ratings_dict_small)\n",
    "sp_ratings = sp_ratings.set_index(\"Country/Region\")\n",
    "\n",
    "#merge two data sources\n",
    "df_mean = df1.groupby(\"Location\").mean() #get mean of all of the country's bonds\n",
    "new_df = sp_ratings.join(df_mean)\n",
    "new_df = new_df[new_df[\"YTW\"].notnull()]\n",
    "new_df.to_csv(\"EMBI_table.csv\")\n",
    "\n",
    "df_scat = new_df.reset_index()\n",
    "df_scat[\"Outlook\"].fillna(\"Stable\",inplace=True)\n",
    "print(df_scat[\"Rating numbers\"].unique())\n",
    "df_scat[\"Rating numbers\"] = df_scat[\"Rating numbers\"].apply(pd.to_numeric, errors=\"coerce\")\n",
    "df_scat = df_scat[df_scat[\"Rating numbers\"] < 17]\n",
    "\n",
    "color_sequence = ['#2471A3', '#ABB2B9', '#C0392B']\n",
    "outlook_colors = {outlook: color for outlook, color in zip(df_scat['Outlook'].unique(), color_sequence)}\n",
    "fig = px.scatter(df_scat, x=\"Rating numbers\", y=\"YTW\", text=\"Country/Region\",\n",
    "                 color=\"Outlook\", color_discrete_map=outlook_colors)\n",
    "fig.update_layout(plot_bgcolor='#F8F9F9') \n",
    "fig.update_traces(marker=dict(size=15))\n",
    "fig.update_layout(xaxis=dict(\n",
    "    tickmode=\"array\",\n",
    "    tickvals=np.arange(6,21,2),\n",
    "    ticktext = [\"AA-\",\"A\",\"BBB+\",\"BBB-\",\"BB\",\"B+\",\"B-\",\"CCC-\",\"SD\"]))\n",
    "fig.show()\n",
    "\n",
    "mean_ytw = dict(new_df.groupby(\"Rating numbers\").mean()[\"YTW\"])\n",
    "new_df[\"mean_ytw\"] = new_df[\"Rating numbers\"].replace(mean_ytw)\n",
    "new_df[\"spread to mean\"] =(new_df[\"YTW\"] - new_df[\"mean_ytw\"]) * 100\n",
    "new_df[\"Rating numbers\"] = new_df[\"Rating numbers\"].apply(pd.to_numeric, errors=\"coerce\")\n",
    "new_df_mod = new_df[new_df[\"Rating numbers\"] < 18]\n",
    "n_countries = 10\n",
    "new_table = new_df_mod[\"spread to mean\"].sort_values().head(n_countries)\n",
    "new_table = new_table.append(new_df_mod[\"spread to mean\"].sort_values().tail(n_countries))\n",
    "new_table.plot(kind=\"bar\",title=\"spread vs ratings\")\n",
    "new_table.to_csv(\"ytw_vs_peers.csv\")"
   ]
  },
  {
   "cell_type": "code",
   "execution_count": null,
   "id": "ed5b4a2b",
   "metadata": {},
   "outputs": [],
   "source": []
  },
  {
   "cell_type": "code",
   "execution_count": 3,
   "id": "16f48dcc",
   "metadata": {},
   "outputs": [
    {
     "data": {
      "text/plain": [
       "Series([], Name: Weight (%), dtype: float64)"
      ]
     },
     "execution_count": 3,
     "metadata": {},
     "output_type": "execute_result"
    }
   ],
   "source": [
    "\n",
    "dfc = df #[dfc.Sector == 'Financial Institutions']\n",
    "dfcn = df\n",
    "weights = dfcn[dfcn.Sector == 'Financial Institutions'].groupby(\"Location\").sum()[\"Weight (%)\"].sort_index()\n",
    "#print(weights)\n",
    "#dfcm = dfcn.groupby('Location').mean()\n",
    "new_dfc = dfcn.join(sp_ratings)\n",
    "#weights = (weights / weights.sum() * 100).sort_values()\n",
    "new_dfc[\"Weight Sum\"] = weights\n",
    "new_dfc.sort_values(\"Yield to Worst (%)\")\n",
    "new_dfc.to_csv(\"fins_ytw.csv\")\n",
    "weights.sort_values()"
   ]
  },
  {
   "cell_type": "code",
   "execution_count": 4,
   "id": "ec62801c",
   "metadata": {},
   "outputs": [
    {
     "data": {
      "application/vnd.plotly.v1+json": {
       "config": {
        "plotlyServerURL": "https://plot.ly"
       },
       "data": [
        {
         "branchvalues": "total",
         "customdata": [
          [
           4.9067567567567565
          ],
          [
           4.9028125
          ],
          [
           5.75
          ],
          [
           7.83
          ],
          [
           11.846923076923076
          ],
          [
           11.908823529411764
          ],
          [
           24.944076086956514
          ],
          [
           6.05
          ],
          [
           7.126315789473683
          ],
          [
           6.447794117647059
          ],
          [
           8.02
          ],
          [
           6.09
          ],
          [
           7.609999999999999
          ],
          [
           5.2
          ],
          [
           5.521176470588236
          ],
          [
           6.23
          ],
          [
           34.24
          ],
          [
           6.737954545454545
          ],
          [
           5.534761904761905
          ],
          [
           5.945076923076924
          ],
          [
           6.28
          ],
          [
           6.32
          ],
          [
           6.176666666666668
          ],
          [
           28.15
          ],
          [
           5.328786610878662
          ],
          [
           5.2
          ],
          [
           5.5
          ],
          [
           4.526788990825689
          ],
          [
           5.624390243902439
          ],
          [
           7.257300380228138
          ],
          [
           7.739333333333334
          ],
          [
           6.49
          ],
          [
           5.992000000000001
          ],
          [
           7.03
          ],
          [
           6.304545454545455
          ],
          [
           6.98948717948718
          ],
          [
           8.13
          ],
          [
           6.938921282798835
          ],
          [
           5.4350000000000005
          ],
          [
           5.549999999999999
          ],
          [
           6.221739130434782
          ],
          [
           9.9
          ],
          [
           5.97
          ],
          [
           26.000752688172042
          ],
          [
           5.77
          ],
          [
           14.560815450643778
          ],
          [
           12.5
          ],
          [
           11.44
          ],
          [
           11.64
          ],
          [
           6.420000000000001
          ],
          [
           7.51
          ],
          [
           50
          ],
          [
           4.82
          ],
          [
           4.8100000000000005
          ],
          [
           5.403934426229509
          ],
          [
           5.51
          ],
          [
           7
          ],
          [
           5.395400000000001
          ],
          [
           null
          ],
          [
           null
          ],
          [
           7.152972972972973
          ],
          [
           7.77
          ],
          [
           7.195072463768115
          ],
          [
           5.740503597122303
          ],
          [
           5.643061224489795
          ],
          [
           5.12083916083916
          ],
          [
           5.300121951219513
          ],
          [
           5.2752173913043485
          ],
          [
           5.875384615384616
          ],
          [
           10.25
          ],
          [
           5.75
          ],
          [
           5.781052631578948
          ],
          [
           6.63
          ],
          [
           7.490000000000001
          ],
          [
           7.327076923076922
          ],
          [
           5.163870967741936
          ],
          [
           5.65
          ],
          [
           10.855535714285715
          ],
          [
           4.786666666666666
          ],
          [
           4.81987012987013
          ],
          [
           4.64
          ],
          [
           null
          ],
          [
           null
          ],
          [
           null
          ],
          [
           null
          ],
          [
           6.05
          ],
          [
           5.06
          ],
          [
           4.9
          ],
          [
           5.2773015873015865
          ],
          [
           6.82
          ],
          [
           5.858678414096917
          ],
          [
           5.509565217391304
          ],
          [
           6.154545454545456
          ],
          [
           7.34
          ],
          [
           6.18
          ],
          [
           7.180000000000001
          ],
          [
           6.025492957746478
          ],
          [
           10.520135135135135
          ],
          [
           10.086071428571428
          ],
          [
           5.500869565217392
          ],
          [
           5.736583333333334
          ],
          [
           6.090220994475137
          ],
          [
           20.884249999999998
          ],
          [
           20.51
          ],
          [
           7.13
          ],
          [
           7.09954918032787
          ],
          [
           6.54
          ],
          [
           6.1450000000000005
          ],
          [
           5.96
          ],
          [
           5.931212121212121
          ],
          [
           6.03
          ],
          [
           5.546666666666666
          ],
          [
           5.533181818181817
          ],
          [
           6.18
          ],
          [
           5.125
          ],
          [
           4.876571428571428
          ],
          [
           4.980307692307693
          ],
          [
           6.35
          ],
          [
           null
          ],
          [
           null
          ],
          [
           10.204333333333334
          ],
          [
           11.313595505617977
          ],
          [
           10.646451612903224
          ],
          [
           5.324702380952381
          ],
          [
           5.165753012048193
          ],
          [
           5.1749374999999995
          ],
          [
           5.047759740259739
          ],
          [
           5.279886363636364
          ],
          [
           5.29
          ],
          [
           6.120000000000001
          ],
          [
           6.11
          ],
          [
           6.25
          ],
          [
           5.37
          ],
          [
           4.34
          ],
          [
           6.256100917431194
          ],
          [
           5.08
          ],
          [
           5.312005813953488
          ],
          [
           5.291086956521739
          ],
          [
           9.20111111111111
          ],
          [
           6.2796875
          ],
          [
           6.539166666666667
          ],
          [
           5.669999999999999
          ],
          [
           5.683846153846154
          ],
          [
           5.054583333333333
          ],
          [
           7.247453183520598
          ],
          [
           5.6
          ],
          [
           null
          ],
          [
           4.851111111111111
          ],
          [
           4.974
          ],
          [
           5.13
          ],
          [
           8.44
          ],
          [
           5.31
          ],
          [
           7.594265060240963
          ],
          [
           8.423749999999998
          ],
          [
           37.56645161290323
          ],
          [
           15.534473684210527
          ],
          [
           4.890727272727274
          ],
          [
           5.167828571428571
          ],
          [
           5.14
          ],
          [
           5.34
          ],
          [
           null
          ],
          [
           6.63
          ],
          [
           6.23
          ],
          [
           6.026938775510205
          ],
          [
           5.227892720306515
          ],
          [
           6.1134146341463405
          ],
          [
           5.425974025974026
          ],
          [
           5.888105263157894
          ],
          [
           5.324702380952381
          ],
          [
           10.845642023346304
          ],
          [
           5.77
          ],
          [
           7.735714285714285
          ],
          [
           10.204333333333334
          ],
          [
           5.437391304347826
          ],
          [
           5.279886363636364
          ],
          [
           5.298153846153847
          ],
          [
           7.83265306122449
          ],
          [
           5.896788321167882
          ],
          [
           null
          ],
          [
           5.34
          ],
          [
           11.874137931034484
          ],
          [
           24.944076086956514
          ],
          [
           6.05
          ],
          [
           6.730115384615385
          ],
          [
           34.24
          ],
          [
           6.152823218997362
          ],
          [
           5.328786610878662
          ],
          [
           4.526788990825689
          ],
          [
           7.274723032069971
          ],
          [
           6.719814814814816
          ],
          [
           8.13
          ],
          [
           6.938921282798835
          ],
          [
           26.000752688172042
          ],
          [
           14.36836575875487
          ],
          [
           11.503157894736843
          ],
          [
           50
          ],
          [
           null
          ],
          [
           7.152972972972973
          ],
          [
           5.790821917808219
          ],
          [
           5.146905311778292
          ],
          [
           10.25
          ],
          [
           5.7715853658536584
          ],
          [
           7.368275862068964
          ],
          [
           5.258571428571429
          ],
          [
           10.855535714285715
          ],
          [
           4.64
          ],
          [
           null
          ],
          [
           4.971724137931034
          ],
          [
           5.931610942249242
          ],
          [
           6.025492957746478
          ],
          [
           10.400980392156862
          ],
          [
           5.8897982708933725
          ],
          [
           20.77732142857143
          ],
          [
           7.102583025830257
          ],
          [
           6.276666666666667
          ],
          [
           5.546666666666666
          ],
          [
           5.174407713498624
          ],
          [
           5.1749374999999995
          ],
          [
           5.062530487804877
          ],
          [
           6.256100917431194
          ],
          [
           5.1947233201581025
          ],
          [
           9.20111111111111
          ],
          [
           6.2796875
          ],
          [
           7.247453183520598
          ],
          [
           null
          ],
          [
           5.31
          ],
          [
           28.15
          ],
          [
           7.595371428571429
          ],
          [
           25.43289855072464
          ],
          [
           5.093742331288345
          ],
          [
           5.081872146118721
          ],
          [
           null
          ],
          [
           11.874137931034484
          ],
          [
           24.944076086956514
          ],
          [
           6.4524489795918365
          ],
          [
           6.701123188405798
          ],
          [
           34.24
          ],
          [
           6.152823218997362
          ],
          [
           5.531810089020772
          ],
          [
           5.021351351351352
          ],
          [
           7.274723032069971
          ],
          [
           6.719814814814816
          ],
          [
           8.13
          ],
          [
           6.938921282798835
          ],
          [
           26.000752688172042
          ],
          [
           14.36836575875487
          ],
          [
           11.503157894736843
          ],
          [
           50
          ],
          [
           null
          ],
          [
           7.152972972972973
          ],
          [
           5.841692307692306
          ],
          [
           5.425974025974026
          ],
          [
           5.2802651515151515
          ],
          [
           10.25
          ],
          [
           5.7715853658536584
          ],
          [
           7.368275862068964
          ],
          [
           5.258571428571429
          ],
          [
           10.855535714285715
          ],
          [
           4.64
          ],
          [
           null
          ],
          [
           5.272741116751268
          ],
          [
           8.086740614334474
          ],
          [
           6.025492957746478
          ],
          [
           10.400980392156862
          ],
          [
           5.884203296703297
          ],
          [
           20.77732142857143
          ],
          [
           7.148116438356164
          ],
          [
           6.276666666666667
          ],
          [
           6.017138047138047
          ],
          [
           5.174407713498624
          ],
          [
           5.233543689320388
          ],
          [
           5.108509615384615
          ],
          [
           6.256100917431194
          ],
          [
           5.206497373029774
          ],
          [
           9.20111111111111
          ],
          [
           6.2796875
          ],
          [
           7.338196202531643
          ],
          [
           null
          ],
          [
           5.31
          ],
          [
           28.15
          ],
          [
           7.595371428571429
          ],
          [
           25.43289855072464
          ],
          [
           5.3313606911447105
          ],
          [
           5.34
          ],
          [
           5.081872146118721
          ],
          [
           null
          ],
          [
           null
          ]
         ],
         "domain": {
          "x": [
           0,
           1
          ],
          "y": [
           0,
           1
          ]
         },
         "hovertemplate": "labels=%{label}<br>Weight (%)=%{value}<br>parent=%{parent}<br>id=%{id}<br>YTM (%)=%{color}<extra></extra>",
         "ids": [
          "United Arab Emirates/Sovereign/ABU DHABI (EMIRATE OF) MTN RegS",
          "United Arab Emirates/Sovereign/ABU DHABI (EMIRATE OF) RegS",
          "United Arab Emirates/Agency/ABU DHABI CRUDE OIL PIPELINE LLC RegS",
          "Panama/Agency/AEROPUERTO INTERNACIONAL DE TOCUME RegS",
          "Angola/Sovereign/ANGOLA (REPUBLIC OF) MTN RegS",
          "Angola/Sovereign/ANGOLA (REPUBLIC OF) RegS",
          "Argentina/Sovereign/ARGENTINA REPUBLIC OF GOVERNMENT",
          "Azerbaijan/Sovereign/AZERBAIJAN (REPUBLIC OF) RegS",
          "Bahrain/Sovereign/BAHRAIN (KINGDOM OF) MTN RegS",
          "Bahrain/Sovereign/BAHRAIN (KINGDOM OF) RegS",
          "Bahrain/Sovereign/BAHRAIN KINGDOM OF (GOVERNMENT) RegS",
          "Mexico/Agency/BANCO NACIONAL DE COMERCIO EXTERIO RegS",
          "Panama/Agency/BANCO NACIONAL DE PANAMA RegS",
          "Poland/Agency/BANK GOSPODARSTWA KRAJOWEGO MTN 144A",
          "Poland/Agency/BANK GOSPODARSTWA KRAJOWEGO MTN RegS",
          "Bahrain/Agency/BAPCO ENERGIES BSCC RegS",
          "Bolivia/Sovereign/BOLIVIA PLURINATIONAL STATE OF RegS",
          "Brazil/Sovereign/BRAZIL (FEDERATIVE REPUBLIC OF)",
          "Brazil/Sovereign/BRAZIL FEDERATIVE REPUBLIC OF (GO",
          "Brazil/Sovereign/BRAZIL FEDERATIVE REPUBLIC OF (GOV",
          "Bahrain/Sovereign/CBB INTERNATIONAL SUKUK CO 7 WLL RegS",
          "Bahrain/Sovereign/CBB INTERNATIONAL SUKUK PROGRAMME MTN RegS",
          "Bahrain/Sovereign/CBB INTERNATIONAL SUKUK PROGRAMME RegS",
          "Tunisia/Sovereign/CENTRAL BANK OF TUNISIA RegS",
          "Chile/Sovereign/CHILE (REPUBLIC OF)",
          "China/Agency/CHINA DEVELOPMENT BANK MTN RegS",
          "China/Agency/CHINA LIFE INSURANCE OVERSEAS CO L RegS",
          "China/Sovereign/CHINA PEOPLES REPUBLIC OF (GOVERNM RegS",
          "China/Agency/CNAC HK FINBRIDGE CO LTD RegS",
          "Colombia/Sovereign/COLOMBIA (REPUBLIC OF)",
          "Colombia/Sovereign/COLOMBIA REPUBLIC OF (GOVERNMENT)",
          "Mexico/Agency/COMISION FEDERAL DE ELECTRICIDAD C RegS",
          "Chile/Agency/CORPORACION NACIONAL DEL COBRE DE RegS",
          "Costa Rica/Sovereign/COSTA RICA (REPUBLIC OF) 144A",
          "Costa Rica/Sovereign/COSTA RICA (REPUBLIC OF) RegS",
          "Costa Rica/Sovereign/COSTA RICA REPUBLIC OF (GOVERNMEN RegS",
          "Cote D'Ivoire (Ivory Coast)/Sovereign/COTE D IVOIRE (REPUBLIC OF) RegS",
          "Dominican Republic/Sovereign/DOMINICAN REPUBLIC (GOVERNMENT) RegS",
          "United Arab Emirates/Agency/DP WORLD CRESCENT LTD MTN RegS",
          "United Arab Emirates/Agency/DP WORLD CRESCENT LTD RegS",
          "United Arab Emirates/Agency/DP WORLD LTD MTN RegS",
          "United Arab Emirates/Agency/DP WORLD SALAAM RegS",
          "United Arab Emirates/Sovereign/DUBAI (EMIRATE OF) MTN RegS",
          "Ecuador/Sovereign/ECUADOR REPUBLIC OF (GOVERNMENT) RegS",
          "Oman/Agency/EDO SUKUK LTD RegS",
          "Egypt/Sovereign/EGYPT (ARAB REPUBLIC OF) MTN RegS",
          "Egypt/Sovereign/EGYPTIAN FINANCIAL COMPANY FOR SOV RegS",
          "El Salvador/Sovereign/EL SALVADOR REPUBLIC OF (GOVERNMEN RegS",
          "El Salvador/Sovereign/EL SALVADOR REPUBLIC RegS",
          "Chile/Agency/EMPRESA DE TRANSPORTE DE PASAJEROS RegS",
          "South Africa/Agency/ESKOM HOLDINGS SOC LTD MTN RegS",
          "Ethiopia/Sovereign/ETHIOPIA FEDERAL DEMOCRATIC REPUB RegS",
          "China/Agency/EXPORT-IMPORT BANK OF CHINA MTN RegS",
          "China/Agency/EXPORT-IMPORT BANK OF CHINA RegS",
          "India/Agency/EXPORT-IMPORT BANK OF INDIA MTN RegS",
          "India/Agency/EXPORT-IMPORT BANK OF INDIA RegS",
          "Brazil/Sovereign/FED REPUBLIC OF BRAZIL",
          "Saudi Arabia/Agency/GACI FIRST INVESTMENT CO MTN RegS",
          "Ghana/Sovereign/GHANA (REPUBLIC OF) MTN RegS",
          "Ghana/Sovereign/GHANA (REPUBLIC OF) RegS",
          "Guatemala/Sovereign/GUATEMALA REPUBLIC OF (GOVERNMENT) RegS",
          "Turkey/Sovereign/HAZINE MUSTESARLIGI VARLIK KIRALAM 144A",
          "Turkey/Sovereign/HAZINE MUSTESARLIGI VARLIK KIRALAM RegS",
          "Hungary/Sovereign/HUNGARY (GOVERNMENT) RegS",
          "Hungary/Sovereign/HUNGARY (REPUBLIC OF) RegS",
          "Indonesia/Sovereign/INDONESIA (REPUBLIC OF)",
          "Indonesia/Sovereign/INDONESIA (REPUBLIC OF) MTN RegS",
          "Indonesia/Sovereign/INDONESIA (REPUBLIC OF) RegS",
          "Indonesia/Agency/INDONESIA ASAHAN ALUMINIUM PERSERO RegS",
          "Iraq/Sovereign/IRAQ (REPUBLIC OF) RegS",
          "Jamaica/Sovereign/JAMAICA (GOVERNMENT OF)",
          "Jamaica/Sovereign/JAMAICA (GOVERNMENT)",
          "Azerbaijan/Agency/JANUB GAZ DAHLIZI GSJ RegS",
          "Jordan/Sovereign/JORDAN (HASHEMITE KINGDOM OF) MTN RegS",
          "Jordan/Sovereign/JORDAN (HASHEMITE KINGDOM OF) RegS",
          "Kazakhstan/Sovereign/KAZAKHSTAN (REPUBLIC OF) MTN RegS",
          "Kazakhstan/Sovereign/KAZAKHSTAN (REPUBLIC OF) RegS",
          "Kenya/Sovereign/KENYA (REPUBLIC OF) RegS",
          "Saudi Arabia/Sovereign/KSA SUKUK LTD MTN RegS",
          "Saudi Arabia/Sovereign/KSA SUKUK LTD RegS",
          "Kuwait/Sovereign/KUWAIT STATE OF (GOVERNMENT) MTN RegS",
          "Lebanon/Sovereign/LEBANON (REPUBLIC OF) MTN RegS",
          "Lebanon/Sovereign/LEBANON (REPUBLIC OF) RegS",
          "Lebanon/Sovereign/LEBANON REPUBLIC OF (GOVERNMENT) MTN RegS",
          "Lebanon/Sovereign/LEBANON REPUBLIC OF (GOVERNMENT) RegS",
          "Hungary/Agency/MAGYAR EXPORT IMPORT BANK ZRT RegS",
          "Malaysia/Sovereign/MALAYSIA SOVEREIGN SUKUK BHD RegS",
          "Malaysia/Sovereign/MALAYSIA SUKUK GLOBAL BHD RegS",
          "United Arab Emirates/Agency/MDGH GMTN RSC LTD MTN RegS",
          "Mexico/Sovereign/MEXICO (UNITED MEXICAN STATES)",
          "Mexico/Sovereign/MEXICO (UNITED MEXICAN STATES) (GO",
          "Mexico/Sovereign/MEXICO (UNITED MEXICAN STATES) (GO MTN",
          "Mexico/Sovereign/MEXICO (UNITED MEXICAN STATES) MTN",
          "Mexico/Agency/MEXICO CITY AIRPORT TRUST RegS",
          "Hungary/Agency/MFB MAGYAR FEJLESZTESI BANK ZRT RegS",
          "China/Agency/MINMETALS BOUNTEOUS FINANCE (BVI) RegS",
          "Morocco/Sovereign/MOROCCO (KINGDOM OF) RegS",
          "Nigeria/Sovereign/NIGERIA (FEDERAL REPUBLIC OF) MTN RegS",
          "Nigeria/Sovereign/NIGERIA (FEDERAL REPUBLIC OF) RegS",
          "Oman/Sovereign/OMAN SOVEREIGN SUKUK SAOC RegS",
          "Oman/Sovereign/OMAN SULTANATE OF (GOVERNMENT) MTN RegS",
          "Oman/Sovereign/OMAN SULTANATE OF (GOVERNMENT) RegS",
          "Pakistan/Sovereign/PAKISTAN (ISLAMIC REPUBLIC OF) MTN RegS",
          "Pakistan/Sovereign/PAKISTAN (ISLAMIC REPUBLIC OF) RegS",
          "Panama/Sovereign/PANAMA (REPUBLIC OF)",
          "Panama/Sovereign/PANAMA REPUBLIC OF (GOVERNMENT)",
          "Paraguay/Sovereign/PARAGUAY (REPUBLIC OF) RegS",
          "Paraguay/Sovereign/PARAGUAY REPUBLIC OF (GOVERNMENT) RegS",
          "Indonesia/Agency/PELABUHAN INDONESIA PERSERO PT RegS",
          "Indonesia/Agency/PERTAMINA PERSERO PT MTN RegS",
          "Indonesia/Agency/PERTAMINA PERSERO PT RegS",
          "Peru/Sovereign/PERU (REPUBLIC OF)",
          "Indonesia/Agency/PERUSAHAAN LISTRIK NEGARA (PERSERO MTN RegS",
          "Indonesia/Agency/PERUSAHAAN LISTRIK NEGARA PT RegS",
          "Indonesia/Sovereign/PERUSAHAAN PENERBIT SURAT BERHARGA 144A",
          "Indonesia/Sovereign/PERUSAHAAN PENERBIT SURAT BERHARGA MTN RegS",
          "Indonesia/Sovereign/PERUSAHAAN PENERBIT SURAT BERHARGA RegS",
          "Indonesia/Agency/PERUSAHAAN PERSEROAN (PERSERO) PT MTN RegS",
          "Venezuela/Agency/PETROLEOS DE VENEZUELA SA MTN RegS",
          "Venezuela/Agency/PETROLEOS DE VENEZUELA SA RegS",
          "Peru/Agency/PETROLEOS DEL PERU PETROPERU SA RegS",
          "Mexico/Agency/PETROLEOS MEXICANOS",
          "Mexico/Agency/PETROLEOS MEXICANOS MTN",
          "Malaysia/Agency/PETRONAS CAPITAL LTD MTN RegS",
          "Philippines/Sovereign/PHILIPPINES (REPUBLIC OF)",
          "Poland/Sovereign/POLAND (REPUBLIC OF)",
          "Qatar/Sovereign/QATAR (STATE OF) RegS",
          "Qatar/Agency/QATAR ENERGY RegS",
          "Qatar/Sovereign/QATAR STATE OF (GOVERNMENT) RegS",
          "United Arab Emirates/Sovereign/RAK CAPITAL RegS",
          "Colombia/Sovereign/REPUBLIC OF COLOMBIA",
          "Hungary/Sovereign/REPUBLIC OF HUNGARY",
          "Philippines/Sovereign/REPUBLIC OF PHILIPPINES",
          "Uruguay/Sovereign/REPUBLICA ORIENT URUGUAY",
          "Romania/Sovereign/ROMANIA (REPUBLIC OF) MTN RegS",
          "Philippines/Sovereign/ROP SUKUK TRUST 144A",
          "Saudi Arabia/Sovereign/SAUDI ARABIA (KINGDOM OF) MTN RegS",
          "Saudi Arabia/Sovereign/SAUDI ARABIA (KINGDOM OF) RegS",
          "Senegal/Sovereign/SENEGAL (REPUBLIC OF) RegS",
          "Serbia/Sovereign/SERBIA (REPUBLIC OF) MTN RegS",
          "United Arab Emirates/Sovereign/SHARJAH EMIRATE OF MTN RegS",
          "United Arab Emirates/Sovereign/SHARJAH SUKUK PROGRAMME LTD MTN RegS",
          "United Arab Emirates/Sovereign/SHARJAH SUKUK PROGRAMME LTD RegS",
          "China/Agency/SINOPEC GROUP OVERSEAS DEVELOPMENT RegS",
          "South Africa/Sovereign/SOUTH AFRICA (REPUBLIC OF)",
          "China/Agency/SPIC MTN COMPANY LTD MTN RegS",
          "Sri Lanka/Sovereign/SRI LANKA (DEMOCRATIC SOCIALIST RE RegS",
          "China/Agency/STATE GRID OVERSEAS INVESTMENT BVI MTN RegS",
          "Saudi Arabia/Agency/SUCI SECOND INVESTMENT COMPANY RegS",
          "China/Agency/THREE GORGES FINANCE I (CAYMAN ISL RegS",
          "South Africa/Agency/TRANSNET SOC LTD MTN RegS",
          "Trinidad and Tobago/Sovereign/TRINIDAD AND TOBAGO (REPUBLIC OF) RegS",
          "Turkey/Sovereign/TURKEY (REPUBLIC OF)",
          "Turkey/Sovereign/TURKEY REPUBLIC OF (GOVERNMENT)",
          "Ukraine/Sovereign/UKRAINE (GOVERNMENT OF) RegS",
          "Ukraine/Sovereign/UKRAINE REPUBLIC OF (GOVERNMENT) RegS",
          "United Arab Emirates/Sovereign/UNITED ARAB EMIRATES (GOVERNMENT O MTN RegS",
          "Uruguay/Sovereign/URUGUAY (ORIENTAL REPUBLIC OF)",
          "Uruguay/Sovereign/URUGUAY (REPUBLIC OF)",
          "United States/Cash and/or Derivatives/USD CASH",
          "Zambia/Sovereign/ZAMBIA (REPUBLIC OF) RegS",
          "Azerbaijan/Agency",
          "Bahrain/Agency",
          "Chile/Agency",
          "China/Agency",
          "Hungary/Agency",
          "India/Agency",
          "Indonesia/Agency",
          "Malaysia/Agency",
          "Mexico/Agency",
          "Oman/Agency",
          "Panama/Agency",
          "Peru/Agency",
          "Poland/Agency",
          "Qatar/Agency",
          "Saudi Arabia/Agency",
          "South Africa/Agency",
          "United Arab Emirates/Agency",
          "Venezuela/Agency",
          "United States/Cash and/or Derivatives",
          "Angola/Sovereign",
          "Argentina/Sovereign",
          "Azerbaijan/Sovereign",
          "Bahrain/Sovereign",
          "Bolivia/Sovereign",
          "Brazil/Sovereign",
          "Chile/Sovereign",
          "China/Sovereign",
          "Colombia/Sovereign",
          "Costa Rica/Sovereign",
          "Cote D'Ivoire (Ivory Coast)/Sovereign",
          "Dominican Republic/Sovereign",
          "Ecuador/Sovereign",
          "Egypt/Sovereign",
          "El Salvador/Sovereign",
          "Ethiopia/Sovereign",
          "Ghana/Sovereign",
          "Guatemala/Sovereign",
          "Hungary/Sovereign",
          "Indonesia/Sovereign",
          "Iraq/Sovereign",
          "Jamaica/Sovereign",
          "Jordan/Sovereign",
          "Kazakhstan/Sovereign",
          "Kenya/Sovereign",
          "Kuwait/Sovereign",
          "Lebanon/Sovereign",
          "Malaysia/Sovereign",
          "Mexico/Sovereign",
          "Morocco/Sovereign",
          "Nigeria/Sovereign",
          "Oman/Sovereign",
          "Pakistan/Sovereign",
          "Panama/Sovereign",
          "Paraguay/Sovereign",
          "Peru/Sovereign",
          "Philippines/Sovereign",
          "Poland/Sovereign",
          "Qatar/Sovereign",
          "Romania/Sovereign",
          "Saudi Arabia/Sovereign",
          "Senegal/Sovereign",
          "Serbia/Sovereign",
          "South Africa/Sovereign",
          "Sri Lanka/Sovereign",
          "Trinidad and Tobago/Sovereign",
          "Tunisia/Sovereign",
          "Turkey/Sovereign",
          "Ukraine/Sovereign",
          "United Arab Emirates/Sovereign",
          "Uruguay/Sovereign",
          "Zambia/Sovereign",
          "Angola",
          "Argentina",
          "Azerbaijan",
          "Bahrain",
          "Bolivia",
          "Brazil",
          "Chile",
          "China",
          "Colombia",
          "Costa Rica",
          "Cote D'Ivoire (Ivory Coast)",
          "Dominican Republic",
          "Ecuador",
          "Egypt",
          "El Salvador",
          "Ethiopia",
          "Ghana",
          "Guatemala",
          "Hungary",
          "India",
          "Indonesia",
          "Iraq",
          "Jamaica",
          "Jordan",
          "Kazakhstan",
          "Kenya",
          "Kuwait",
          "Lebanon",
          "Malaysia",
          "Mexico",
          "Morocco",
          "Nigeria",
          "Oman",
          "Pakistan",
          "Panama",
          "Paraguay",
          "Peru",
          "Philippines",
          "Poland",
          "Qatar",
          "Romania",
          "Saudi Arabia",
          "Senegal",
          "Serbia",
          "South Africa",
          "Sri Lanka",
          "Trinidad and Tobago",
          "Tunisia",
          "Turkey",
          "Ukraine",
          "United Arab Emirates",
          "United States",
          "Uruguay",
          "Venezuela",
          "Zambia"
         ],
         "labels": [
          "ABU DHABI (EMIRATE OF) MTN RegS",
          "ABU DHABI (EMIRATE OF) RegS",
          "ABU DHABI CRUDE OIL PIPELINE LLC RegS",
          "AEROPUERTO INTERNACIONAL DE TOCUME RegS",
          "ANGOLA (REPUBLIC OF) MTN RegS",
          "ANGOLA (REPUBLIC OF) RegS",
          "ARGENTINA REPUBLIC OF GOVERNMENT",
          "AZERBAIJAN (REPUBLIC OF) RegS",
          "BAHRAIN (KINGDOM OF) MTN RegS",
          "BAHRAIN (KINGDOM OF) RegS",
          "BAHRAIN KINGDOM OF (GOVERNMENT) RegS",
          "BANCO NACIONAL DE COMERCIO EXTERIO RegS",
          "BANCO NACIONAL DE PANAMA RegS",
          "BANK GOSPODARSTWA KRAJOWEGO MTN 144A",
          "BANK GOSPODARSTWA KRAJOWEGO MTN RegS",
          "BAPCO ENERGIES BSCC RegS",
          "BOLIVIA PLURINATIONAL STATE OF RegS",
          "BRAZIL (FEDERATIVE REPUBLIC OF)",
          "BRAZIL FEDERATIVE REPUBLIC OF (GO",
          "BRAZIL FEDERATIVE REPUBLIC OF (GOV",
          "CBB INTERNATIONAL SUKUK CO 7 WLL RegS",
          "CBB INTERNATIONAL SUKUK PROGRAMME MTN RegS",
          "CBB INTERNATIONAL SUKUK PROGRAMME RegS",
          "CENTRAL BANK OF TUNISIA RegS",
          "CHILE (REPUBLIC OF)",
          "CHINA DEVELOPMENT BANK MTN RegS",
          "CHINA LIFE INSURANCE OVERSEAS CO L RegS",
          "CHINA PEOPLES REPUBLIC OF (GOVERNM RegS",
          "CNAC HK FINBRIDGE CO LTD RegS",
          "COLOMBIA (REPUBLIC OF)",
          "COLOMBIA REPUBLIC OF (GOVERNMENT)",
          "COMISION FEDERAL DE ELECTRICIDAD C RegS",
          "CORPORACION NACIONAL DEL COBRE DE RegS",
          "COSTA RICA (REPUBLIC OF) 144A",
          "COSTA RICA (REPUBLIC OF) RegS",
          "COSTA RICA REPUBLIC OF (GOVERNMEN RegS",
          "COTE D IVOIRE (REPUBLIC OF) RegS",
          "DOMINICAN REPUBLIC (GOVERNMENT) RegS",
          "DP WORLD CRESCENT LTD MTN RegS",
          "DP WORLD CRESCENT LTD RegS",
          "DP WORLD LTD MTN RegS",
          "DP WORLD SALAAM RegS",
          "DUBAI (EMIRATE OF) MTN RegS",
          "ECUADOR REPUBLIC OF (GOVERNMENT) RegS",
          "EDO SUKUK LTD RegS",
          "EGYPT (ARAB REPUBLIC OF) MTN RegS",
          "EGYPTIAN FINANCIAL COMPANY FOR SOV RegS",
          "EL SALVADOR REPUBLIC OF (GOVERNMEN RegS",
          "EL SALVADOR REPUBLIC RegS",
          "EMPRESA DE TRANSPORTE DE PASAJEROS RegS",
          "ESKOM HOLDINGS SOC LTD MTN RegS",
          "ETHIOPIA FEDERAL DEMOCRATIC REPUB RegS",
          "EXPORT-IMPORT BANK OF CHINA MTN RegS",
          "EXPORT-IMPORT BANK OF CHINA RegS",
          "EXPORT-IMPORT BANK OF INDIA MTN RegS",
          "EXPORT-IMPORT BANK OF INDIA RegS",
          "FED REPUBLIC OF BRAZIL",
          "GACI FIRST INVESTMENT CO MTN RegS",
          "GHANA (REPUBLIC OF) MTN RegS",
          "GHANA (REPUBLIC OF) RegS",
          "GUATEMALA REPUBLIC OF (GOVERNMENT) RegS",
          "HAZINE MUSTESARLIGI VARLIK KIRALAM 144A",
          "HAZINE MUSTESARLIGI VARLIK KIRALAM RegS",
          "HUNGARY (GOVERNMENT) RegS",
          "HUNGARY (REPUBLIC OF) RegS",
          "INDONESIA (REPUBLIC OF)",
          "INDONESIA (REPUBLIC OF) MTN RegS",
          "INDONESIA (REPUBLIC OF) RegS",
          "INDONESIA ASAHAN ALUMINIUM PERSERO RegS",
          "IRAQ (REPUBLIC OF) RegS",
          "JAMAICA (GOVERNMENT OF)",
          "JAMAICA (GOVERNMENT)",
          "JANUB GAZ DAHLIZI GSJ RegS",
          "JORDAN (HASHEMITE KINGDOM OF) MTN RegS",
          "JORDAN (HASHEMITE KINGDOM OF) RegS",
          "KAZAKHSTAN (REPUBLIC OF) MTN RegS",
          "KAZAKHSTAN (REPUBLIC OF) RegS",
          "KENYA (REPUBLIC OF) RegS",
          "KSA SUKUK LTD MTN RegS",
          "KSA SUKUK LTD RegS",
          "KUWAIT STATE OF (GOVERNMENT) MTN RegS",
          "LEBANON (REPUBLIC OF) MTN RegS",
          "LEBANON (REPUBLIC OF) RegS",
          "LEBANON REPUBLIC OF (GOVERNMENT) MTN RegS",
          "LEBANON REPUBLIC OF (GOVERNMENT) RegS",
          "MAGYAR EXPORT IMPORT BANK ZRT RegS",
          "MALAYSIA SOVEREIGN SUKUK BHD RegS",
          "MALAYSIA SUKUK GLOBAL BHD RegS",
          "MDGH GMTN RSC LTD MTN RegS",
          "MEXICO (UNITED MEXICAN STATES)",
          "MEXICO (UNITED MEXICAN STATES) (GO",
          "MEXICO (UNITED MEXICAN STATES) (GO MTN",
          "MEXICO (UNITED MEXICAN STATES) MTN",
          "MEXICO CITY AIRPORT TRUST RegS",
          "MFB MAGYAR FEJLESZTESI BANK ZRT RegS",
          "MINMETALS BOUNTEOUS FINANCE (BVI) RegS",
          "MOROCCO (KINGDOM OF) RegS",
          "NIGERIA (FEDERAL REPUBLIC OF) MTN RegS",
          "NIGERIA (FEDERAL REPUBLIC OF) RegS",
          "OMAN SOVEREIGN SUKUK SAOC RegS",
          "OMAN SULTANATE OF (GOVERNMENT) MTN RegS",
          "OMAN SULTANATE OF (GOVERNMENT) RegS",
          "PAKISTAN (ISLAMIC REPUBLIC OF) MTN RegS",
          "PAKISTAN (ISLAMIC REPUBLIC OF) RegS",
          "PANAMA (REPUBLIC OF)",
          "PANAMA REPUBLIC OF (GOVERNMENT)",
          "PARAGUAY (REPUBLIC OF) RegS",
          "PARAGUAY REPUBLIC OF (GOVERNMENT) RegS",
          "PELABUHAN INDONESIA PERSERO PT RegS",
          "PERTAMINA PERSERO PT MTN RegS",
          "PERTAMINA PERSERO PT RegS",
          "PERU (REPUBLIC OF)",
          "PERUSAHAAN LISTRIK NEGARA (PERSERO MTN RegS",
          "PERUSAHAAN LISTRIK NEGARA PT RegS",
          "PERUSAHAAN PENERBIT SURAT BERHARGA 144A",
          "PERUSAHAAN PENERBIT SURAT BERHARGA MTN RegS",
          "PERUSAHAAN PENERBIT SURAT BERHARGA RegS",
          "PERUSAHAAN PERSEROAN (PERSERO) PT MTN RegS",
          "PETROLEOS DE VENEZUELA SA MTN RegS",
          "PETROLEOS DE VENEZUELA SA RegS",
          "PETROLEOS DEL PERU PETROPERU SA RegS",
          "PETROLEOS MEXICANOS",
          "PETROLEOS MEXICANOS MTN",
          "PETRONAS CAPITAL LTD MTN RegS",
          "PHILIPPINES (REPUBLIC OF)",
          "POLAND (REPUBLIC OF)",
          "QATAR (STATE OF) RegS",
          "QATAR ENERGY RegS",
          "QATAR STATE OF (GOVERNMENT) RegS",
          "RAK CAPITAL RegS",
          "REPUBLIC OF COLOMBIA",
          "REPUBLIC OF HUNGARY",
          "REPUBLIC OF PHILIPPINES",
          "REPUBLICA ORIENT URUGUAY",
          "ROMANIA (REPUBLIC OF) MTN RegS",
          "ROP SUKUK TRUST 144A",
          "SAUDI ARABIA (KINGDOM OF) MTN RegS",
          "SAUDI ARABIA (KINGDOM OF) RegS",
          "SENEGAL (REPUBLIC OF) RegS",
          "SERBIA (REPUBLIC OF) MTN RegS",
          "SHARJAH EMIRATE OF MTN RegS",
          "SHARJAH SUKUK PROGRAMME LTD MTN RegS",
          "SHARJAH SUKUK PROGRAMME LTD RegS",
          "SINOPEC GROUP OVERSEAS DEVELOPMENT RegS",
          "SOUTH AFRICA (REPUBLIC OF)",
          "SPIC MTN COMPANY LTD MTN RegS",
          "SRI LANKA (DEMOCRATIC SOCIALIST RE RegS",
          "STATE GRID OVERSEAS INVESTMENT BVI MTN RegS",
          "SUCI SECOND INVESTMENT COMPANY RegS",
          "THREE GORGES FINANCE I (CAYMAN ISL RegS",
          "TRANSNET SOC LTD MTN RegS",
          "TRINIDAD AND TOBAGO (REPUBLIC OF) RegS",
          "TURKEY (REPUBLIC OF)",
          "TURKEY REPUBLIC OF (GOVERNMENT)",
          "UKRAINE (GOVERNMENT OF) RegS",
          "UKRAINE REPUBLIC OF (GOVERNMENT) RegS",
          "UNITED ARAB EMIRATES (GOVERNMENT O MTN RegS",
          "URUGUAY (ORIENTAL REPUBLIC OF)",
          "URUGUAY (REPUBLIC OF)",
          "USD CASH",
          "ZAMBIA (REPUBLIC OF) RegS",
          "Agency",
          "Agency",
          "Agency",
          "Agency",
          "Agency",
          "Agency",
          "Agency",
          "Agency",
          "Agency",
          "Agency",
          "Agency",
          "Agency",
          "Agency",
          "Agency",
          "Agency",
          "Agency",
          "Agency",
          "Agency",
          "Cash and/or Derivatives",
          "Sovereign",
          "Sovereign",
          "Sovereign",
          "Sovereign",
          "Sovereign",
          "Sovereign",
          "Sovereign",
          "Sovereign",
          "Sovereign",
          "Sovereign",
          "Sovereign",
          "Sovereign",
          "Sovereign",
          "Sovereign",
          "Sovereign",
          "Sovereign",
          "Sovereign",
          "Sovereign",
          "Sovereign",
          "Sovereign",
          "Sovereign",
          "Sovereign",
          "Sovereign",
          "Sovereign",
          "Sovereign",
          "Sovereign",
          "Sovereign",
          "Sovereign",
          "Sovereign",
          "Sovereign",
          "Sovereign",
          "Sovereign",
          "Sovereign",
          "Sovereign",
          "Sovereign",
          "Sovereign",
          "Sovereign",
          "Sovereign",
          "Sovereign",
          "Sovereign",
          "Sovereign",
          "Sovereign",
          "Sovereign",
          "Sovereign",
          "Sovereign",
          "Sovereign",
          "Sovereign",
          "Sovereign",
          "Sovereign",
          "Sovereign",
          "Sovereign",
          "Sovereign",
          "Angola",
          "Argentina",
          "Azerbaijan",
          "Bahrain",
          "Bolivia",
          "Brazil",
          "Chile",
          "China",
          "Colombia",
          "Costa Rica",
          "Cote D'Ivoire (Ivory Coast)",
          "Dominican Republic",
          "Ecuador",
          "Egypt",
          "El Salvador",
          "Ethiopia",
          "Ghana",
          "Guatemala",
          "Hungary",
          "India",
          "Indonesia",
          "Iraq",
          "Jamaica",
          "Jordan",
          "Kazakhstan",
          "Kenya",
          "Kuwait",
          "Lebanon",
          "Malaysia",
          "Mexico",
          "Morocco",
          "Nigeria",
          "Oman",
          "Pakistan",
          "Panama",
          "Paraguay",
          "Peru",
          "Philippines",
          "Poland",
          "Qatar",
          "Romania",
          "Saudi Arabia",
          "Senegal",
          "Serbia",
          "South Africa",
          "Sri Lanka",
          "Trinidad and Tobago",
          "Tunisia",
          "Turkey",
          "Ukraine",
          "United Arab Emirates",
          "United States",
          "Uruguay",
          "Venezuela",
          "Zambia"
         ],
         "marker": {
          "coloraxis": "coloraxis",
          "colors": [
           4.9067567567567565,
           4.9028125,
           5.75,
           7.83,
           11.846923076923076,
           11.908823529411764,
           24.944076086956514,
           6.05,
           7.126315789473683,
           6.447794117647059,
           8.02,
           6.09,
           7.609999999999999,
           5.2,
           5.521176470588236,
           6.23,
           34.24,
           6.737954545454545,
           5.534761904761905,
           5.945076923076924,
           6.28,
           6.32,
           6.176666666666668,
           28.15,
           5.328786610878662,
           5.2,
           5.5,
           4.526788990825689,
           5.624390243902439,
           7.257300380228138,
           7.739333333333334,
           6.49,
           5.992000000000001,
           7.03,
           6.304545454545455,
           6.98948717948718,
           8.13,
           6.938921282798835,
           5.4350000000000005,
           5.549999999999999,
           6.221739130434782,
           9.9,
           5.97,
           26.000752688172042,
           5.77,
           14.560815450643778,
           12.5,
           11.44,
           11.64,
           6.420000000000001,
           7.51,
           50,
           4.82,
           4.8100000000000005,
           5.403934426229509,
           5.51,
           7,
           5.395400000000001,
           null,
           null,
           7.152972972972973,
           7.77,
           7.195072463768115,
           5.740503597122303,
           5.643061224489795,
           5.12083916083916,
           5.300121951219513,
           5.2752173913043485,
           5.875384615384616,
           10.25,
           5.75,
           5.781052631578948,
           6.63,
           7.490000000000001,
           7.327076923076922,
           5.163870967741936,
           5.65,
           10.855535714285715,
           4.786666666666666,
           4.81987012987013,
           4.64,
           null,
           null,
           null,
           null,
           6.05,
           5.06,
           4.9,
           5.2773015873015865,
           6.82,
           5.858678414096917,
           5.509565217391304,
           6.154545454545456,
           7.34,
           6.18,
           7.180000000000001,
           6.025492957746478,
           10.520135135135135,
           10.086071428571428,
           5.500869565217392,
           5.736583333333334,
           6.090220994475137,
           20.884249999999998,
           20.51,
           7.13,
           7.09954918032787,
           6.54,
           6.1450000000000005,
           5.96,
           5.931212121212121,
           6.03,
           5.546666666666666,
           5.533181818181817,
           6.18,
           5.125,
           4.876571428571428,
           4.980307692307693,
           6.35,
           null,
           null,
           10.204333333333334,
           11.313595505617977,
           10.646451612903224,
           5.324702380952381,
           5.165753012048193,
           5.1749374999999995,
           5.047759740259739,
           5.279886363636364,
           5.29,
           6.120000000000001,
           6.11,
           6.25,
           5.37,
           4.34,
           6.256100917431194,
           5.08,
           5.312005813953488,
           5.291086956521739,
           9.20111111111111,
           6.2796875,
           6.539166666666667,
           5.669999999999999,
           5.683846153846154,
           5.054583333333333,
           7.247453183520598,
           5.6,
           null,
           4.851111111111111,
           4.974,
           5.13,
           8.44,
           5.31,
           7.594265060240963,
           8.423749999999998,
           37.56645161290323,
           15.534473684210527,
           4.890727272727274,
           5.167828571428571,
           5.14,
           5.34,
           null,
           6.63,
           6.23,
           6.026938775510205,
           5.227892720306515,
           6.1134146341463405,
           5.425974025974026,
           5.888105263157894,
           5.324702380952381,
           10.845642023346304,
           5.77,
           7.735714285714285,
           10.204333333333334,
           5.437391304347826,
           5.279886363636364,
           5.298153846153847,
           7.83265306122449,
           5.896788321167882,
           null,
           5.34,
           11.874137931034484,
           24.944076086956514,
           6.05,
           6.730115384615385,
           34.24,
           6.152823218997362,
           5.328786610878662,
           4.526788990825689,
           7.274723032069971,
           6.719814814814816,
           8.13,
           6.938921282798835,
           26.000752688172042,
           14.36836575875487,
           11.503157894736843,
           50,
           null,
           7.152972972972973,
           5.790821917808219,
           5.146905311778292,
           10.25,
           5.7715853658536584,
           7.368275862068964,
           5.258571428571429,
           10.855535714285715,
           4.64,
           null,
           4.971724137931034,
           5.931610942249242,
           6.025492957746478,
           10.400980392156862,
           5.8897982708933725,
           20.77732142857143,
           7.102583025830257,
           6.276666666666667,
           5.546666666666666,
           5.174407713498624,
           5.1749374999999995,
           5.062530487804877,
           6.256100917431194,
           5.1947233201581025,
           9.20111111111111,
           6.2796875,
           7.247453183520598,
           null,
           5.31,
           28.15,
           7.595371428571429,
           25.43289855072464,
           5.093742331288345,
           5.081872146118721,
           null,
           11.874137931034484,
           24.944076086956514,
           6.4524489795918365,
           6.701123188405798,
           34.24,
           6.152823218997362,
           5.531810089020772,
           5.021351351351352,
           7.274723032069971,
           6.719814814814816,
           8.13,
           6.938921282798835,
           26.000752688172042,
           14.36836575875487,
           11.503157894736843,
           50,
           null,
           7.152972972972973,
           5.841692307692306,
           5.425974025974026,
           5.2802651515151515,
           10.25,
           5.7715853658536584,
           7.368275862068964,
           5.258571428571429,
           10.855535714285715,
           4.64,
           null,
           5.272741116751268,
           8.086740614334474,
           6.025492957746478,
           10.400980392156862,
           5.884203296703297,
           20.77732142857143,
           7.148116438356164,
           6.276666666666667,
           6.017138047138047,
           5.174407713498624,
           5.233543689320388,
           5.108509615384615,
           6.256100917431194,
           5.206497373029774,
           9.20111111111111,
           6.2796875,
           7.338196202531643,
           null,
           5.31,
           28.15,
           7.595371428571429,
           25.43289855072464,
           5.3313606911447105,
           5.34,
           5.081872146118721,
           null,
           null
          ]
         },
         "name": "",
         "parents": [
          "United Arab Emirates/Sovereign",
          "United Arab Emirates/Sovereign",
          "United Arab Emirates/Agency",
          "Panama/Agency",
          "Angola/Sovereign",
          "Angola/Sovereign",
          "Argentina/Sovereign",
          "Azerbaijan/Sovereign",
          "Bahrain/Sovereign",
          "Bahrain/Sovereign",
          "Bahrain/Sovereign",
          "Mexico/Agency",
          "Panama/Agency",
          "Poland/Agency",
          "Poland/Agency",
          "Bahrain/Agency",
          "Bolivia/Sovereign",
          "Brazil/Sovereign",
          "Brazil/Sovereign",
          "Brazil/Sovereign",
          "Bahrain/Sovereign",
          "Bahrain/Sovereign",
          "Bahrain/Sovereign",
          "Tunisia/Sovereign",
          "Chile/Sovereign",
          "China/Agency",
          "China/Agency",
          "China/Sovereign",
          "China/Agency",
          "Colombia/Sovereign",
          "Colombia/Sovereign",
          "Mexico/Agency",
          "Chile/Agency",
          "Costa Rica/Sovereign",
          "Costa Rica/Sovereign",
          "Costa Rica/Sovereign",
          "Cote D'Ivoire (Ivory Coast)/Sovereign",
          "Dominican Republic/Sovereign",
          "United Arab Emirates/Agency",
          "United Arab Emirates/Agency",
          "United Arab Emirates/Agency",
          "United Arab Emirates/Agency",
          "United Arab Emirates/Sovereign",
          "Ecuador/Sovereign",
          "Oman/Agency",
          "Egypt/Sovereign",
          "Egypt/Sovereign",
          "El Salvador/Sovereign",
          "El Salvador/Sovereign",
          "Chile/Agency",
          "South Africa/Agency",
          "Ethiopia/Sovereign",
          "China/Agency",
          "China/Agency",
          "India/Agency",
          "India/Agency",
          "Brazil/Sovereign",
          "Saudi Arabia/Agency",
          "Ghana/Sovereign",
          "Ghana/Sovereign",
          "Guatemala/Sovereign",
          "Turkey/Sovereign",
          "Turkey/Sovereign",
          "Hungary/Sovereign",
          "Hungary/Sovereign",
          "Indonesia/Sovereign",
          "Indonesia/Sovereign",
          "Indonesia/Sovereign",
          "Indonesia/Agency",
          "Iraq/Sovereign",
          "Jamaica/Sovereign",
          "Jamaica/Sovereign",
          "Azerbaijan/Agency",
          "Jordan/Sovereign",
          "Jordan/Sovereign",
          "Kazakhstan/Sovereign",
          "Kazakhstan/Sovereign",
          "Kenya/Sovereign",
          "Saudi Arabia/Sovereign",
          "Saudi Arabia/Sovereign",
          "Kuwait/Sovereign",
          "Lebanon/Sovereign",
          "Lebanon/Sovereign",
          "Lebanon/Sovereign",
          "Lebanon/Sovereign",
          "Hungary/Agency",
          "Malaysia/Sovereign",
          "Malaysia/Sovereign",
          "United Arab Emirates/Agency",
          "Mexico/Sovereign",
          "Mexico/Sovereign",
          "Mexico/Sovereign",
          "Mexico/Sovereign",
          "Mexico/Agency",
          "Hungary/Agency",
          "China/Agency",
          "Morocco/Sovereign",
          "Nigeria/Sovereign",
          "Nigeria/Sovereign",
          "Oman/Sovereign",
          "Oman/Sovereign",
          "Oman/Sovereign",
          "Pakistan/Sovereign",
          "Pakistan/Sovereign",
          "Panama/Sovereign",
          "Panama/Sovereign",
          "Paraguay/Sovereign",
          "Paraguay/Sovereign",
          "Indonesia/Agency",
          "Indonesia/Agency",
          "Indonesia/Agency",
          "Peru/Sovereign",
          "Indonesia/Agency",
          "Indonesia/Agency",
          "Indonesia/Sovereign",
          "Indonesia/Sovereign",
          "Indonesia/Sovereign",
          "Indonesia/Agency",
          "Venezuela/Agency",
          "Venezuela/Agency",
          "Peru/Agency",
          "Mexico/Agency",
          "Mexico/Agency",
          "Malaysia/Agency",
          "Philippines/Sovereign",
          "Poland/Sovereign",
          "Qatar/Sovereign",
          "Qatar/Agency",
          "Qatar/Sovereign",
          "United Arab Emirates/Sovereign",
          "Colombia/Sovereign",
          "Hungary/Sovereign",
          "Philippines/Sovereign",
          "Uruguay/Sovereign",
          "Romania/Sovereign",
          "Philippines/Sovereign",
          "Saudi Arabia/Sovereign",
          "Saudi Arabia/Sovereign",
          "Senegal/Sovereign",
          "Serbia/Sovereign",
          "United Arab Emirates/Sovereign",
          "United Arab Emirates/Sovereign",
          "United Arab Emirates/Sovereign",
          "China/Agency",
          "South Africa/Sovereign",
          "China/Agency",
          "Sri Lanka/Sovereign",
          "China/Agency",
          "Saudi Arabia/Agency",
          "China/Agency",
          "South Africa/Agency",
          "Trinidad and Tobago/Sovereign",
          "Turkey/Sovereign",
          "Turkey/Sovereign",
          "Ukraine/Sovereign",
          "Ukraine/Sovereign",
          "United Arab Emirates/Sovereign",
          "Uruguay/Sovereign",
          "Uruguay/Sovereign",
          "United States/Cash and/or Derivatives",
          "Zambia/Sovereign",
          "Azerbaijan",
          "Bahrain",
          "Chile",
          "China",
          "Hungary",
          "India",
          "Indonesia",
          "Malaysia",
          "Mexico",
          "Oman",
          "Panama",
          "Peru",
          "Poland",
          "Qatar",
          "Saudi Arabia",
          "South Africa",
          "United Arab Emirates",
          "Venezuela",
          "United States",
          "Angola",
          "Argentina",
          "Azerbaijan",
          "Bahrain",
          "Bolivia",
          "Brazil",
          "Chile",
          "China",
          "Colombia",
          "Costa Rica",
          "Cote D'Ivoire (Ivory Coast)",
          "Dominican Republic",
          "Ecuador",
          "Egypt",
          "El Salvador",
          "Ethiopia",
          "Ghana",
          "Guatemala",
          "Hungary",
          "Indonesia",
          "Iraq",
          "Jamaica",
          "Jordan",
          "Kazakhstan",
          "Kenya",
          "Kuwait",
          "Lebanon",
          "Malaysia",
          "Mexico",
          "Morocco",
          "Nigeria",
          "Oman",
          "Pakistan",
          "Panama",
          "Paraguay",
          "Peru",
          "Philippines",
          "Poland",
          "Qatar",
          "Romania",
          "Saudi Arabia",
          "Senegal",
          "Serbia",
          "South Africa",
          "Sri Lanka",
          "Trinidad and Tobago",
          "Tunisia",
          "Turkey",
          "Ukraine",
          "United Arab Emirates",
          "Uruguay",
          "Zambia",
          "",
          "",
          "",
          "",
          "",
          "",
          "",
          "",
          "",
          "",
          "",
          "",
          "",
          "",
          "",
          "",
          "",
          "",
          "",
          "",
          "",
          "",
          "",
          "",
          "",
          "",
          "",
          "",
          "",
          "",
          "",
          "",
          "",
          "",
          "",
          "",
          "",
          "",
          "",
          "",
          "",
          "",
          "",
          "",
          "",
          "",
          "",
          "",
          "",
          "",
          "",
          "",
          "",
          "",
          ""
         ],
         "type": "treemap",
         "values": [
          1.48,
          0.64,
          0.15,
          0.12,
          0.65,
          0.51,
          1.84,
          0.15,
          0.95,
          0.68,
          0.17,
          0.05,
          0.09,
          0.12,
          0.34,
          0.16,
          0.07,
          0.88,
          0.63,
          1.95,
          0.17,
          0.15,
          0.48,
          0.11,
          2.39,
          0.09,
          0.23,
          1.09,
          0.41000000000000003,
          2.63,
          0.6,
          0.06,
          0.9,
          0.25,
          0.44,
          0.39,
          0.18,
          3.43,
          0.14,
          0.11,
          0.23,
          0.11,
          0.14,
          0.93,
          0.17,
          2.33,
          0.24,
          0.26,
          0.12,
          0.08,
          0.32,
          0.04,
          0.17,
          0.11,
          0.61,
          0.16,
          0.33,
          0.5,
          0.31,
          0.45000000000000007,
          0.37,
          0.09,
          0.69,
          1.39,
          0.49,
          1.4300000000000002,
          0.8200000000000001,
          0.9199999999999999,
          0.13,
          0.23,
          0.25,
          0.57,
          0.34,
          0.22,
          0.65,
          0.62,
          0.15,
          0.56,
          0.39,
          0.77,
          0.69,
          0.03,
          0.01,
          0.03,
          0.01,
          0.21,
          0.13,
          0.16,
          0.63,
          0.13,
          2.27,
          0.22999999999999998,
          0.66,
          0.06,
          0.2,
          0.09,
          0.71,
          1.48,
          0.56,
          0.46,
          1.2,
          1.81,
          0.4,
          0.16,
          0.27,
          2.44,
          0.16,
          0.32,
          0.06,
          0.33,
          0.08,
          2.67,
          0.22000000000000003,
          0.06,
          0.16,
          0.35,
          0.65,
          0.07,
          0.02,
          0.1,
          0.3,
          1.78,
          0.62,
          1.6800000000000002,
          3.32,
          1.6,
          3.08,
          0.88,
          0.2,
          0.05,
          0.2,
          0.31,
          0.2,
          0.22,
          2.18,
          0.11,
          3.44,
          0.45999999999999996,
          0.27,
          0.32,
          0.12000000000000001,
          0.15000000000000002,
          0.13,
          0.96,
          2.67,
          0.08,
          0.72,
          0.36,
          0.15,
          0.11,
          0.17,
          0.16,
          4.15,
          0.32,
          0.31,
          0.38,
          0.55,
          1.75,
          0.22,
          0.28,
          0.22,
          0.34,
          0.16,
          0.98,
          2.61,
          0.41000000000000003,
          0.77,
          0.9500000000000001,
          1.6800000000000002,
          2.57,
          0.17,
          0.21,
          0.3,
          0.46,
          0.88,
          0.65,
          0.49,
          1.37,
          0.12,
          0.28,
          1.16,
          1.84,
          0.15,
          2.6,
          0.07,
          3.79,
          2.39,
          1.09,
          3.43,
          1.08,
          0.18,
          3.43,
          0.93,
          2.57,
          0.38,
          0.04,
          0.76,
          0.37,
          2.19,
          4.33,
          0.23,
          0.82,
          0.87,
          0.77,
          0.56,
          0.69,
          0.08,
          0.29000000000000004,
          3.29,
          0.71,
          2.04,
          3.47,
          0.56,
          2.71,
          0.48,
          2.67,
          3.63,
          1.6,
          3.2800000000000002,
          2.18,
          5.0600000000000005,
          0.27,
          0.32,
          2.67,
          0.72,
          0.16,
          0.11,
          5.25,
          0.69,
          3.2600000000000002,
          2.19,
          0.22,
          1.16,
          1.84,
          0.49,
          2.7600000000000002,
          0.07,
          3.79,
          3.37,
          3.7,
          3.43,
          1.08,
          0.18,
          3.43,
          0.93,
          2.57,
          0.38,
          0.04,
          0.76,
          0.37,
          2.6,
          0.77,
          5.28,
          0.23,
          0.82,
          0.87,
          0.77,
          0.56,
          0.69,
          0.08,
          1.97,
          5.86,
          0.71,
          2.04,
          3.64,
          0.56,
          2.92,
          0.48,
          2.9699999999999998,
          3.63,
          2.06,
          4.16,
          2.18,
          5.71,
          0.27,
          0.32,
          3.16,
          0.72,
          0.16,
          0.11,
          5.25,
          0.69,
          4.63,
          0.28,
          2.19,
          0.12,
          0.22
         ]
        }
       ],
       "layout": {
        "coloraxis": {
         "cmax": 12.587740837217018,
         "cmin": 1.6958716422575328,
         "colorbar": {
          "title": {
           "text": "YTM (%)"
          }
         },
         "colorscale": [
          [
           0,
           "rgb(0,104,55)"
          ],
          [
           0.1,
           "rgb(26,152,80)"
          ],
          [
           0.2,
           "rgb(102,189,99)"
          ],
          [
           0.3,
           "rgb(166,217,106)"
          ],
          [
           0.4,
           "rgb(217,239,139)"
          ],
          [
           0.5,
           "rgb(255,255,191)"
          ],
          [
           0.6,
           "rgb(254,224,139)"
          ],
          [
           0.7,
           "rgb(253,174,97)"
          ],
          [
           0.8,
           "rgb(244,109,67)"
          ],
          [
           0.9,
           "rgb(215,48,39)"
          ],
          [
           1,
           "rgb(165,0,38)"
          ]
         ]
        },
        "legend": {
         "tracegroupgap": 0
        },
        "margin": {
         "t": 60
        },
        "template": {
         "data": {
          "bar": [
           {
            "error_x": {
             "color": "#2a3f5f"
            },
            "error_y": {
             "color": "#2a3f5f"
            },
            "marker": {
             "line": {
              "color": "#E5ECF6",
              "width": 0.5
             },
             "pattern": {
              "fillmode": "overlay",
              "size": 10,
              "solidity": 0.2
             }
            },
            "type": "bar"
           }
          ],
          "barpolar": [
           {
            "marker": {
             "line": {
              "color": "#E5ECF6",
              "width": 0.5
             },
             "pattern": {
              "fillmode": "overlay",
              "size": 10,
              "solidity": 0.2
             }
            },
            "type": "barpolar"
           }
          ],
          "carpet": [
           {
            "aaxis": {
             "endlinecolor": "#2a3f5f",
             "gridcolor": "white",
             "linecolor": "white",
             "minorgridcolor": "white",
             "startlinecolor": "#2a3f5f"
            },
            "baxis": {
             "endlinecolor": "#2a3f5f",
             "gridcolor": "white",
             "linecolor": "white",
             "minorgridcolor": "white",
             "startlinecolor": "#2a3f5f"
            },
            "type": "carpet"
           }
          ],
          "choropleth": [
           {
            "colorbar": {
             "outlinewidth": 0,
             "ticks": ""
            },
            "type": "choropleth"
           }
          ],
          "contour": [
           {
            "colorbar": {
             "outlinewidth": 0,
             "ticks": ""
            },
            "colorscale": [
             [
              0,
              "#0d0887"
             ],
             [
              0.1111111111111111,
              "#46039f"
             ],
             [
              0.2222222222222222,
              "#7201a8"
             ],
             [
              0.3333333333333333,
              "#9c179e"
             ],
             [
              0.4444444444444444,
              "#bd3786"
             ],
             [
              0.5555555555555556,
              "#d8576b"
             ],
             [
              0.6666666666666666,
              "#ed7953"
             ],
             [
              0.7777777777777778,
              "#fb9f3a"
             ],
             [
              0.8888888888888888,
              "#fdca26"
             ],
             [
              1,
              "#f0f921"
             ]
            ],
            "type": "contour"
           }
          ],
          "contourcarpet": [
           {
            "colorbar": {
             "outlinewidth": 0,
             "ticks": ""
            },
            "type": "contourcarpet"
           }
          ],
          "heatmap": [
           {
            "colorbar": {
             "outlinewidth": 0,
             "ticks": ""
            },
            "colorscale": [
             [
              0,
              "#0d0887"
             ],
             [
              0.1111111111111111,
              "#46039f"
             ],
             [
              0.2222222222222222,
              "#7201a8"
             ],
             [
              0.3333333333333333,
              "#9c179e"
             ],
             [
              0.4444444444444444,
              "#bd3786"
             ],
             [
              0.5555555555555556,
              "#d8576b"
             ],
             [
              0.6666666666666666,
              "#ed7953"
             ],
             [
              0.7777777777777778,
              "#fb9f3a"
             ],
             [
              0.8888888888888888,
              "#fdca26"
             ],
             [
              1,
              "#f0f921"
             ]
            ],
            "type": "heatmap"
           }
          ],
          "heatmapgl": [
           {
            "colorbar": {
             "outlinewidth": 0,
             "ticks": ""
            },
            "colorscale": [
             [
              0,
              "#0d0887"
             ],
             [
              0.1111111111111111,
              "#46039f"
             ],
             [
              0.2222222222222222,
              "#7201a8"
             ],
             [
              0.3333333333333333,
              "#9c179e"
             ],
             [
              0.4444444444444444,
              "#bd3786"
             ],
             [
              0.5555555555555556,
              "#d8576b"
             ],
             [
              0.6666666666666666,
              "#ed7953"
             ],
             [
              0.7777777777777778,
              "#fb9f3a"
             ],
             [
              0.8888888888888888,
              "#fdca26"
             ],
             [
              1,
              "#f0f921"
             ]
            ],
            "type": "heatmapgl"
           }
          ],
          "histogram": [
           {
            "marker": {
             "pattern": {
              "fillmode": "overlay",
              "size": 10,
              "solidity": 0.2
             }
            },
            "type": "histogram"
           }
          ],
          "histogram2d": [
           {
            "colorbar": {
             "outlinewidth": 0,
             "ticks": ""
            },
            "colorscale": [
             [
              0,
              "#0d0887"
             ],
             [
              0.1111111111111111,
              "#46039f"
             ],
             [
              0.2222222222222222,
              "#7201a8"
             ],
             [
              0.3333333333333333,
              "#9c179e"
             ],
             [
              0.4444444444444444,
              "#bd3786"
             ],
             [
              0.5555555555555556,
              "#d8576b"
             ],
             [
              0.6666666666666666,
              "#ed7953"
             ],
             [
              0.7777777777777778,
              "#fb9f3a"
             ],
             [
              0.8888888888888888,
              "#fdca26"
             ],
             [
              1,
              "#f0f921"
             ]
            ],
            "type": "histogram2d"
           }
          ],
          "histogram2dcontour": [
           {
            "colorbar": {
             "outlinewidth": 0,
             "ticks": ""
            },
            "colorscale": [
             [
              0,
              "#0d0887"
             ],
             [
              0.1111111111111111,
              "#46039f"
             ],
             [
              0.2222222222222222,
              "#7201a8"
             ],
             [
              0.3333333333333333,
              "#9c179e"
             ],
             [
              0.4444444444444444,
              "#bd3786"
             ],
             [
              0.5555555555555556,
              "#d8576b"
             ],
             [
              0.6666666666666666,
              "#ed7953"
             ],
             [
              0.7777777777777778,
              "#fb9f3a"
             ],
             [
              0.8888888888888888,
              "#fdca26"
             ],
             [
              1,
              "#f0f921"
             ]
            ],
            "type": "histogram2dcontour"
           }
          ],
          "mesh3d": [
           {
            "colorbar": {
             "outlinewidth": 0,
             "ticks": ""
            },
            "type": "mesh3d"
           }
          ],
          "parcoords": [
           {
            "line": {
             "colorbar": {
              "outlinewidth": 0,
              "ticks": ""
             }
            },
            "type": "parcoords"
           }
          ],
          "pie": [
           {
            "automargin": true,
            "type": "pie"
           }
          ],
          "scatter": [
           {
            "fillpattern": {
             "fillmode": "overlay",
             "size": 10,
             "solidity": 0.2
            },
            "type": "scatter"
           }
          ],
          "scatter3d": [
           {
            "line": {
             "colorbar": {
              "outlinewidth": 0,
              "ticks": ""
             }
            },
            "marker": {
             "colorbar": {
              "outlinewidth": 0,
              "ticks": ""
             }
            },
            "type": "scatter3d"
           }
          ],
          "scattercarpet": [
           {
            "marker": {
             "colorbar": {
              "outlinewidth": 0,
              "ticks": ""
             }
            },
            "type": "scattercarpet"
           }
          ],
          "scattergeo": [
           {
            "marker": {
             "colorbar": {
              "outlinewidth": 0,
              "ticks": ""
             }
            },
            "type": "scattergeo"
           }
          ],
          "scattergl": [
           {
            "marker": {
             "colorbar": {
              "outlinewidth": 0,
              "ticks": ""
             }
            },
            "type": "scattergl"
           }
          ],
          "scattermapbox": [
           {
            "marker": {
             "colorbar": {
              "outlinewidth": 0,
              "ticks": ""
             }
            },
            "type": "scattermapbox"
           }
          ],
          "scatterpolar": [
           {
            "marker": {
             "colorbar": {
              "outlinewidth": 0,
              "ticks": ""
             }
            },
            "type": "scatterpolar"
           }
          ],
          "scatterpolargl": [
           {
            "marker": {
             "colorbar": {
              "outlinewidth": 0,
              "ticks": ""
             }
            },
            "type": "scatterpolargl"
           }
          ],
          "scatterternary": [
           {
            "marker": {
             "colorbar": {
              "outlinewidth": 0,
              "ticks": ""
             }
            },
            "type": "scatterternary"
           }
          ],
          "surface": [
           {
            "colorbar": {
             "outlinewidth": 0,
             "ticks": ""
            },
            "colorscale": [
             [
              0,
              "#0d0887"
             ],
             [
              0.1111111111111111,
              "#46039f"
             ],
             [
              0.2222222222222222,
              "#7201a8"
             ],
             [
              0.3333333333333333,
              "#9c179e"
             ],
             [
              0.4444444444444444,
              "#bd3786"
             ],
             [
              0.5555555555555556,
              "#d8576b"
             ],
             [
              0.6666666666666666,
              "#ed7953"
             ],
             [
              0.7777777777777778,
              "#fb9f3a"
             ],
             [
              0.8888888888888888,
              "#fdca26"
             ],
             [
              1,
              "#f0f921"
             ]
            ],
            "type": "surface"
           }
          ],
          "table": [
           {
            "cells": {
             "fill": {
              "color": "#EBF0F8"
             },
             "line": {
              "color": "white"
             }
            },
            "header": {
             "fill": {
              "color": "#C8D4E3"
             },
             "line": {
              "color": "white"
             }
            },
            "type": "table"
           }
          ]
         },
         "layout": {
          "annotationdefaults": {
           "arrowcolor": "#2a3f5f",
           "arrowhead": 0,
           "arrowwidth": 1
          },
          "autotypenumbers": "strict",
          "coloraxis": {
           "colorbar": {
            "outlinewidth": 0,
            "ticks": ""
           }
          },
          "colorscale": {
           "diverging": [
            [
             0,
             "#8e0152"
            ],
            [
             0.1,
             "#c51b7d"
            ],
            [
             0.2,
             "#de77ae"
            ],
            [
             0.3,
             "#f1b6da"
            ],
            [
             0.4,
             "#fde0ef"
            ],
            [
             0.5,
             "#f7f7f7"
            ],
            [
             0.6,
             "#e6f5d0"
            ],
            [
             0.7,
             "#b8e186"
            ],
            [
             0.8,
             "#7fbc41"
            ],
            [
             0.9,
             "#4d9221"
            ],
            [
             1,
             "#276419"
            ]
           ],
           "sequential": [
            [
             0,
             "#0d0887"
            ],
            [
             0.1111111111111111,
             "#46039f"
            ],
            [
             0.2222222222222222,
             "#7201a8"
            ],
            [
             0.3333333333333333,
             "#9c179e"
            ],
            [
             0.4444444444444444,
             "#bd3786"
            ],
            [
             0.5555555555555556,
             "#d8576b"
            ],
            [
             0.6666666666666666,
             "#ed7953"
            ],
            [
             0.7777777777777778,
             "#fb9f3a"
            ],
            [
             0.8888888888888888,
             "#fdca26"
            ],
            [
             1,
             "#f0f921"
            ]
           ],
           "sequentialminus": [
            [
             0,
             "#0d0887"
            ],
            [
             0.1111111111111111,
             "#46039f"
            ],
            [
             0.2222222222222222,
             "#7201a8"
            ],
            [
             0.3333333333333333,
             "#9c179e"
            ],
            [
             0.4444444444444444,
             "#bd3786"
            ],
            [
             0.5555555555555556,
             "#d8576b"
            ],
            [
             0.6666666666666666,
             "#ed7953"
            ],
            [
             0.7777777777777778,
             "#fb9f3a"
            ],
            [
             0.8888888888888888,
             "#fdca26"
            ],
            [
             1,
             "#f0f921"
            ]
           ]
          },
          "colorway": [
           "#636efa",
           "#EF553B",
           "#00cc96",
           "#ab63fa",
           "#FFA15A",
           "#19d3f3",
           "#FF6692",
           "#B6E880",
           "#FF97FF",
           "#FECB52"
          ],
          "font": {
           "color": "#2a3f5f"
          },
          "geo": {
           "bgcolor": "white",
           "lakecolor": "white",
           "landcolor": "#E5ECF6",
           "showlakes": true,
           "showland": true,
           "subunitcolor": "white"
          },
          "hoverlabel": {
           "align": "left"
          },
          "hovermode": "closest",
          "mapbox": {
           "style": "light"
          },
          "paper_bgcolor": "white",
          "plot_bgcolor": "#E5ECF6",
          "polar": {
           "angularaxis": {
            "gridcolor": "white",
            "linecolor": "white",
            "ticks": ""
           },
           "bgcolor": "#E5ECF6",
           "radialaxis": {
            "gridcolor": "white",
            "linecolor": "white",
            "ticks": ""
           }
          },
          "scene": {
           "xaxis": {
            "backgroundcolor": "#E5ECF6",
            "gridcolor": "white",
            "gridwidth": 2,
            "linecolor": "white",
            "showbackground": true,
            "ticks": "",
            "zerolinecolor": "white"
           },
           "yaxis": {
            "backgroundcolor": "#E5ECF6",
            "gridcolor": "white",
            "gridwidth": 2,
            "linecolor": "white",
            "showbackground": true,
            "ticks": "",
            "zerolinecolor": "white"
           },
           "zaxis": {
            "backgroundcolor": "#E5ECF6",
            "gridcolor": "white",
            "gridwidth": 2,
            "linecolor": "white",
            "showbackground": true,
            "ticks": "",
            "zerolinecolor": "white"
           }
          },
          "shapedefaults": {
           "line": {
            "color": "#2a3f5f"
           }
          },
          "ternary": {
           "aaxis": {
            "gridcolor": "white",
            "linecolor": "white",
            "ticks": ""
           },
           "baxis": {
            "gridcolor": "white",
            "linecolor": "white",
            "ticks": ""
           },
           "bgcolor": "#E5ECF6",
           "caxis": {
            "gridcolor": "white",
            "linecolor": "white",
            "ticks": ""
           }
          },
          "title": {
           "x": 0.05
          },
          "xaxis": {
           "automargin": true,
           "gridcolor": "white",
           "linecolor": "white",
           "ticks": "",
           "title": {
            "standoff": 15
           },
           "zerolinecolor": "white",
           "zerolinewidth": 2
          },
          "yaxis": {
           "automargin": true,
           "gridcolor": "white",
           "linecolor": "white",
           "ticks": "",
           "title": {
            "standoff": 15
           },
           "zerolinecolor": "white",
           "zerolinewidth": 2
          }
         }
        },
        "title": {
         "text": "EMBI"
        }
       }
      },
      "text/html": [
       "<div>                            <div id=\"cb6b574b-3343-46a1-b523-6ead1488e7a2\" class=\"plotly-graph-div\" style=\"height:525px; width:100%;\"></div>            <script type=\"text/javascript\">                require([\"plotly\"], function(Plotly) {                    window.PLOTLYENV=window.PLOTLYENV || {};                                    if (document.getElementById(\"cb6b574b-3343-46a1-b523-6ead1488e7a2\")) {                    Plotly.newPlot(                        \"cb6b574b-3343-46a1-b523-6ead1488e7a2\",                        [{\"branchvalues\":\"total\",\"customdata\":[[4.9067567567567565],[4.9028125],[5.75],[7.83],[11.846923076923076],[11.908823529411764],[24.944076086956514],[6.05],[7.126315789473683],[6.447794117647059],[8.02],[6.09],[7.609999999999999],[5.2],[5.521176470588236],[6.23],[34.24],[6.737954545454545],[5.534761904761905],[5.945076923076924],[6.28],[6.32],[6.176666666666668],[28.15],[5.328786610878662],[5.2],[5.5],[4.526788990825689],[5.624390243902439],[7.257300380228138],[7.739333333333334],[6.49],[5.992000000000001],[7.03],[6.304545454545455],[6.98948717948718],[8.13],[6.938921282798835],[5.4350000000000005],[5.549999999999999],[6.221739130434782],[9.9],[5.97],[26.000752688172042],[5.77],[14.560815450643778],[12.5],[11.44],[11.64],[6.420000000000001],[7.51],[50.0],[4.82],[4.8100000000000005],[5.403934426229509],[5.51],[7.0],[5.395400000000001],[null],[null],[7.152972972972973],[7.77],[7.195072463768115],[5.740503597122303],[5.643061224489795],[5.12083916083916],[5.300121951219513],[5.2752173913043485],[5.875384615384616],[10.25],[5.75],[5.781052631578948],[6.63],[7.490000000000001],[7.327076923076922],[5.163870967741936],[5.65],[10.855535714285715],[4.786666666666666],[4.81987012987013],[4.64],[null],[null],[null],[null],[6.05],[5.06],[4.9],[5.2773015873015865],[6.82],[5.858678414096917],[5.509565217391304],[6.154545454545456],[7.34],[6.18],[7.180000000000001],[6.025492957746478],[10.520135135135135],[10.086071428571428],[5.500869565217392],[5.736583333333334],[6.090220994475137],[20.884249999999998],[20.51],[7.13],[7.09954918032787],[6.54],[6.1450000000000005],[5.96],[5.931212121212121],[6.03],[5.546666666666666],[5.533181818181817],[6.18],[5.125],[4.876571428571428],[4.980307692307693],[6.35],[null],[null],[10.204333333333334],[11.313595505617977],[10.646451612903224],[5.324702380952381],[5.165753012048193],[5.1749374999999995],[5.047759740259739],[5.279886363636364],[5.29],[6.120000000000001],[6.11],[6.25],[5.37],[4.34],[6.256100917431194],[5.08],[5.312005813953488],[5.291086956521739],[9.20111111111111],[6.2796875],[6.539166666666667],[5.669999999999999],[5.683846153846154],[5.054583333333333],[7.247453183520598],[5.6],[null],[4.851111111111111],[4.974],[5.13],[8.44],[5.31],[7.594265060240963],[8.423749999999998],[37.56645161290323],[15.534473684210527],[4.890727272727274],[5.167828571428571],[5.14],[5.34],[null],[6.63],[6.23],[6.026938775510205],[5.227892720306515],[6.1134146341463405],[5.425974025974026],[5.888105263157894],[5.324702380952381],[10.845642023346304],[5.77],[7.735714285714285],[10.204333333333334],[5.437391304347826],[5.279886363636364],[5.298153846153847],[7.83265306122449],[5.896788321167882],[null],[5.34],[11.874137931034484],[24.944076086956514],[6.05],[6.730115384615385],[34.24],[6.152823218997362],[5.328786610878662],[4.526788990825689],[7.274723032069971],[6.719814814814816],[8.13],[6.938921282798835],[26.000752688172042],[14.36836575875487],[11.503157894736843],[50.0],[null],[7.152972972972973],[5.790821917808219],[5.146905311778292],[10.25],[5.7715853658536584],[7.368275862068964],[5.258571428571429],[10.855535714285715],[4.64],[null],[4.971724137931034],[5.931610942249242],[6.025492957746478],[10.400980392156862],[5.8897982708933725],[20.77732142857143],[7.102583025830257],[6.276666666666667],[5.546666666666666],[5.174407713498624],[5.1749374999999995],[5.062530487804877],[6.256100917431194],[5.1947233201581025],[9.20111111111111],[6.2796875],[7.247453183520598],[null],[5.31],[28.15],[7.595371428571429],[25.43289855072464],[5.093742331288345],[5.081872146118721],[null],[11.874137931034484],[24.944076086956514],[6.4524489795918365],[6.701123188405798],[34.24],[6.152823218997362],[5.531810089020772],[5.021351351351352],[7.274723032069971],[6.719814814814816],[8.13],[6.938921282798835],[26.000752688172042],[14.36836575875487],[11.503157894736843],[50.0],[null],[7.152972972972973],[5.841692307692306],[5.425974025974026],[5.2802651515151515],[10.25],[5.7715853658536584],[7.368275862068964],[5.258571428571429],[10.855535714285715],[4.64],[null],[5.272741116751268],[8.086740614334474],[6.025492957746478],[10.400980392156862],[5.884203296703297],[20.77732142857143],[7.148116438356164],[6.276666666666667],[6.017138047138047],[5.174407713498624],[5.233543689320388],[5.108509615384615],[6.256100917431194],[5.206497373029774],[9.20111111111111],[6.2796875],[7.338196202531643],[null],[5.31],[28.15],[7.595371428571429],[25.43289855072464],[5.3313606911447105],[5.34],[5.081872146118721],[null],[null]],\"domain\":{\"x\":[0.0,1.0],\"y\":[0.0,1.0]},\"hovertemplate\":\"labels=%{label}\\u003cbr\\u003eWeight (%)=%{value}\\u003cbr\\u003eparent=%{parent}\\u003cbr\\u003eid=%{id}\\u003cbr\\u003eYTM (%)=%{color}\\u003cextra\\u003e\\u003c\\u002fextra\\u003e\",\"ids\":[\"United Arab Emirates\\u002fSovereign\\u002fABU DHABI (EMIRATE OF) MTN RegS\",\"United Arab Emirates\\u002fSovereign\\u002fABU DHABI (EMIRATE OF) RegS\",\"United Arab Emirates\\u002fAgency\\u002fABU DHABI CRUDE OIL PIPELINE LLC RegS\",\"Panama\\u002fAgency\\u002fAEROPUERTO INTERNACIONAL DE TOCUME RegS\",\"Angola\\u002fSovereign\\u002fANGOLA (REPUBLIC OF) MTN RegS\",\"Angola\\u002fSovereign\\u002fANGOLA (REPUBLIC OF) RegS\",\"Argentina\\u002fSovereign\\u002fARGENTINA REPUBLIC OF GOVERNMENT\",\"Azerbaijan\\u002fSovereign\\u002fAZERBAIJAN (REPUBLIC OF) RegS\",\"Bahrain\\u002fSovereign\\u002fBAHRAIN (KINGDOM OF) MTN RegS\",\"Bahrain\\u002fSovereign\\u002fBAHRAIN (KINGDOM OF) RegS\",\"Bahrain\\u002fSovereign\\u002fBAHRAIN KINGDOM OF (GOVERNMENT) RegS\",\"Mexico\\u002fAgency\\u002fBANCO NACIONAL DE COMERCIO EXTERIO RegS\",\"Panama\\u002fAgency\\u002fBANCO NACIONAL DE PANAMA RegS\",\"Poland\\u002fAgency\\u002fBANK GOSPODARSTWA KRAJOWEGO MTN 144A\",\"Poland\\u002fAgency\\u002fBANK GOSPODARSTWA KRAJOWEGO MTN RegS\",\"Bahrain\\u002fAgency\\u002fBAPCO ENERGIES BSCC RegS\",\"Bolivia\\u002fSovereign\\u002fBOLIVIA PLURINATIONAL STATE OF RegS\",\"Brazil\\u002fSovereign\\u002fBRAZIL (FEDERATIVE REPUBLIC OF)\",\"Brazil\\u002fSovereign\\u002fBRAZIL FEDERATIVE REPUBLIC OF (GO\",\"Brazil\\u002fSovereign\\u002fBRAZIL FEDERATIVE REPUBLIC OF (GOV\",\"Bahrain\\u002fSovereign\\u002fCBB INTERNATIONAL SUKUK CO 7 WLL RegS\",\"Bahrain\\u002fSovereign\\u002fCBB INTERNATIONAL SUKUK PROGRAMME MTN RegS\",\"Bahrain\\u002fSovereign\\u002fCBB INTERNATIONAL SUKUK PROGRAMME RegS\",\"Tunisia\\u002fSovereign\\u002fCENTRAL BANK OF TUNISIA RegS\",\"Chile\\u002fSovereign\\u002fCHILE (REPUBLIC OF)\",\"China\\u002fAgency\\u002fCHINA DEVELOPMENT BANK MTN RegS\",\"China\\u002fAgency\\u002fCHINA LIFE INSURANCE OVERSEAS CO L RegS\",\"China\\u002fSovereign\\u002fCHINA PEOPLES REPUBLIC OF (GOVERNM RegS\",\"China\\u002fAgency\\u002fCNAC HK FINBRIDGE CO LTD RegS\",\"Colombia\\u002fSovereign\\u002fCOLOMBIA (REPUBLIC OF)\",\"Colombia\\u002fSovereign\\u002fCOLOMBIA REPUBLIC OF (GOVERNMENT)\",\"Mexico\\u002fAgency\\u002fCOMISION FEDERAL DE ELECTRICIDAD C RegS\",\"Chile\\u002fAgency\\u002fCORPORACION NACIONAL DEL COBRE DE RegS\",\"Costa Rica\\u002fSovereign\\u002fCOSTA RICA (REPUBLIC OF) 144A\",\"Costa Rica\\u002fSovereign\\u002fCOSTA RICA (REPUBLIC OF) RegS\",\"Costa Rica\\u002fSovereign\\u002fCOSTA RICA REPUBLIC OF (GOVERNMEN RegS\",\"Cote D'Ivoire (Ivory Coast)\\u002fSovereign\\u002fCOTE D IVOIRE (REPUBLIC OF) RegS\",\"Dominican Republic\\u002fSovereign\\u002fDOMINICAN REPUBLIC (GOVERNMENT) RegS\",\"United Arab Emirates\\u002fAgency\\u002fDP WORLD CRESCENT LTD MTN RegS\",\"United Arab Emirates\\u002fAgency\\u002fDP WORLD CRESCENT LTD RegS\",\"United Arab Emirates\\u002fAgency\\u002fDP WORLD LTD MTN RegS\",\"United Arab Emirates\\u002fAgency\\u002fDP WORLD SALAAM RegS\",\"United Arab Emirates\\u002fSovereign\\u002fDUBAI (EMIRATE OF) MTN RegS\",\"Ecuador\\u002fSovereign\\u002fECUADOR REPUBLIC OF (GOVERNMENT) RegS\",\"Oman\\u002fAgency\\u002fEDO SUKUK LTD RegS\",\"Egypt\\u002fSovereign\\u002fEGYPT (ARAB REPUBLIC OF) MTN RegS\",\"Egypt\\u002fSovereign\\u002fEGYPTIAN FINANCIAL COMPANY FOR SOV RegS\",\"El Salvador\\u002fSovereign\\u002fEL SALVADOR REPUBLIC OF (GOVERNMEN RegS\",\"El Salvador\\u002fSovereign\\u002fEL SALVADOR REPUBLIC RegS\",\"Chile\\u002fAgency\\u002fEMPRESA DE TRANSPORTE DE PASAJEROS RegS\",\"South Africa\\u002fAgency\\u002fESKOM HOLDINGS SOC LTD MTN RegS\",\"Ethiopia\\u002fSovereign\\u002fETHIOPIA FEDERAL DEMOCRATIC REPUB RegS\",\"China\\u002fAgency\\u002fEXPORT-IMPORT BANK OF CHINA MTN RegS\",\"China\\u002fAgency\\u002fEXPORT-IMPORT BANK OF CHINA RegS\",\"India\\u002fAgency\\u002fEXPORT-IMPORT BANK OF INDIA MTN RegS\",\"India\\u002fAgency\\u002fEXPORT-IMPORT BANK OF INDIA RegS\",\"Brazil\\u002fSovereign\\u002fFED REPUBLIC OF BRAZIL\",\"Saudi Arabia\\u002fAgency\\u002fGACI FIRST INVESTMENT CO MTN RegS\",\"Ghana\\u002fSovereign\\u002fGHANA (REPUBLIC OF) MTN RegS\",\"Ghana\\u002fSovereign\\u002fGHANA (REPUBLIC OF) RegS\",\"Guatemala\\u002fSovereign\\u002fGUATEMALA REPUBLIC OF (GOVERNMENT) RegS\",\"Turkey\\u002fSovereign\\u002fHAZINE MUSTESARLIGI VARLIK KIRALAM 144A\",\"Turkey\\u002fSovereign\\u002fHAZINE MUSTESARLIGI VARLIK KIRALAM RegS\",\"Hungary\\u002fSovereign\\u002fHUNGARY (GOVERNMENT) RegS\",\"Hungary\\u002fSovereign\\u002fHUNGARY (REPUBLIC OF) RegS\",\"Indonesia\\u002fSovereign\\u002fINDONESIA (REPUBLIC OF)\",\"Indonesia\\u002fSovereign\\u002fINDONESIA (REPUBLIC OF) MTN RegS\",\"Indonesia\\u002fSovereign\\u002fINDONESIA (REPUBLIC OF) RegS\",\"Indonesia\\u002fAgency\\u002fINDONESIA ASAHAN ALUMINIUM PERSERO RegS\",\"Iraq\\u002fSovereign\\u002fIRAQ (REPUBLIC OF) RegS\",\"Jamaica\\u002fSovereign\\u002fJAMAICA (GOVERNMENT OF)\",\"Jamaica\\u002fSovereign\\u002fJAMAICA (GOVERNMENT)\",\"Azerbaijan\\u002fAgency\\u002fJANUB GAZ DAHLIZI GSJ RegS\",\"Jordan\\u002fSovereign\\u002fJORDAN (HASHEMITE KINGDOM OF) MTN RegS\",\"Jordan\\u002fSovereign\\u002fJORDAN (HASHEMITE KINGDOM OF) RegS\",\"Kazakhstan\\u002fSovereign\\u002fKAZAKHSTAN (REPUBLIC OF) MTN RegS\",\"Kazakhstan\\u002fSovereign\\u002fKAZAKHSTAN (REPUBLIC OF) RegS\",\"Kenya\\u002fSovereign\\u002fKENYA (REPUBLIC OF) RegS\",\"Saudi Arabia\\u002fSovereign\\u002fKSA SUKUK LTD MTN RegS\",\"Saudi Arabia\\u002fSovereign\\u002fKSA SUKUK LTD RegS\",\"Kuwait\\u002fSovereign\\u002fKUWAIT STATE OF (GOVERNMENT) MTN RegS\",\"Lebanon\\u002fSovereign\\u002fLEBANON (REPUBLIC OF) MTN RegS\",\"Lebanon\\u002fSovereign\\u002fLEBANON (REPUBLIC OF) RegS\",\"Lebanon\\u002fSovereign\\u002fLEBANON REPUBLIC OF (GOVERNMENT) MTN RegS\",\"Lebanon\\u002fSovereign\\u002fLEBANON REPUBLIC OF (GOVERNMENT) RegS\",\"Hungary\\u002fAgency\\u002fMAGYAR EXPORT IMPORT BANK ZRT RegS\",\"Malaysia\\u002fSovereign\\u002fMALAYSIA SOVEREIGN SUKUK BHD RegS\",\"Malaysia\\u002fSovereign\\u002fMALAYSIA SUKUK GLOBAL BHD RegS\",\"United Arab Emirates\\u002fAgency\\u002fMDGH GMTN RSC LTD MTN RegS\",\"Mexico\\u002fSovereign\\u002fMEXICO (UNITED MEXICAN STATES)\",\"Mexico\\u002fSovereign\\u002fMEXICO (UNITED MEXICAN STATES) (GO\",\"Mexico\\u002fSovereign\\u002fMEXICO (UNITED MEXICAN STATES) (GO MTN\",\"Mexico\\u002fSovereign\\u002fMEXICO (UNITED MEXICAN STATES) MTN\",\"Mexico\\u002fAgency\\u002fMEXICO CITY AIRPORT TRUST RegS\",\"Hungary\\u002fAgency\\u002fMFB MAGYAR FEJLESZTESI BANK ZRT RegS\",\"China\\u002fAgency\\u002fMINMETALS BOUNTEOUS FINANCE (BVI) RegS\",\"Morocco\\u002fSovereign\\u002fMOROCCO (KINGDOM OF) RegS\",\"Nigeria\\u002fSovereign\\u002fNIGERIA (FEDERAL REPUBLIC OF) MTN RegS\",\"Nigeria\\u002fSovereign\\u002fNIGERIA (FEDERAL REPUBLIC OF) RegS\",\"Oman\\u002fSovereign\\u002fOMAN SOVEREIGN SUKUK SAOC RegS\",\"Oman\\u002fSovereign\\u002fOMAN SULTANATE OF (GOVERNMENT) MTN RegS\",\"Oman\\u002fSovereign\\u002fOMAN SULTANATE OF (GOVERNMENT) RegS\",\"Pakistan\\u002fSovereign\\u002fPAKISTAN (ISLAMIC REPUBLIC OF) MTN RegS\",\"Pakistan\\u002fSovereign\\u002fPAKISTAN (ISLAMIC REPUBLIC OF) RegS\",\"Panama\\u002fSovereign\\u002fPANAMA (REPUBLIC OF)\",\"Panama\\u002fSovereign\\u002fPANAMA REPUBLIC OF (GOVERNMENT)\",\"Paraguay\\u002fSovereign\\u002fPARAGUAY (REPUBLIC OF) RegS\",\"Paraguay\\u002fSovereign\\u002fPARAGUAY REPUBLIC OF (GOVERNMENT) RegS\",\"Indonesia\\u002fAgency\\u002fPELABUHAN INDONESIA PERSERO PT RegS\",\"Indonesia\\u002fAgency\\u002fPERTAMINA PERSERO PT MTN RegS\",\"Indonesia\\u002fAgency\\u002fPERTAMINA PERSERO PT RegS\",\"Peru\\u002fSovereign\\u002fPERU (REPUBLIC OF)\",\"Indonesia\\u002fAgency\\u002fPERUSAHAAN LISTRIK NEGARA (PERSERO MTN RegS\",\"Indonesia\\u002fAgency\\u002fPERUSAHAAN LISTRIK NEGARA PT RegS\",\"Indonesia\\u002fSovereign\\u002fPERUSAHAAN PENERBIT SURAT BERHARGA 144A\",\"Indonesia\\u002fSovereign\\u002fPERUSAHAAN PENERBIT SURAT BERHARGA MTN RegS\",\"Indonesia\\u002fSovereign\\u002fPERUSAHAAN PENERBIT SURAT BERHARGA RegS\",\"Indonesia\\u002fAgency\\u002fPERUSAHAAN PERSEROAN (PERSERO) PT MTN RegS\",\"Venezuela\\u002fAgency\\u002fPETROLEOS DE VENEZUELA SA MTN RegS\",\"Venezuela\\u002fAgency\\u002fPETROLEOS DE VENEZUELA SA RegS\",\"Peru\\u002fAgency\\u002fPETROLEOS DEL PERU PETROPERU SA RegS\",\"Mexico\\u002fAgency\\u002fPETROLEOS MEXICANOS\",\"Mexico\\u002fAgency\\u002fPETROLEOS MEXICANOS MTN\",\"Malaysia\\u002fAgency\\u002fPETRONAS CAPITAL LTD MTN RegS\",\"Philippines\\u002fSovereign\\u002fPHILIPPINES (REPUBLIC OF)\",\"Poland\\u002fSovereign\\u002fPOLAND (REPUBLIC OF)\",\"Qatar\\u002fSovereign\\u002fQATAR (STATE OF) RegS\",\"Qatar\\u002fAgency\\u002fQATAR ENERGY RegS\",\"Qatar\\u002fSovereign\\u002fQATAR STATE OF (GOVERNMENT) RegS\",\"United Arab Emirates\\u002fSovereign\\u002fRAK CAPITAL RegS\",\"Colombia\\u002fSovereign\\u002fREPUBLIC OF COLOMBIA\",\"Hungary\\u002fSovereign\\u002fREPUBLIC OF HUNGARY\",\"Philippines\\u002fSovereign\\u002fREPUBLIC OF PHILIPPINES\",\"Uruguay\\u002fSovereign\\u002fREPUBLICA ORIENT URUGUAY\",\"Romania\\u002fSovereign\\u002fROMANIA (REPUBLIC OF) MTN RegS\",\"Philippines\\u002fSovereign\\u002fROP SUKUK TRUST 144A\",\"Saudi Arabia\\u002fSovereign\\u002fSAUDI ARABIA (KINGDOM OF) MTN RegS\",\"Saudi Arabia\\u002fSovereign\\u002fSAUDI ARABIA (KINGDOM OF) RegS\",\"Senegal\\u002fSovereign\\u002fSENEGAL (REPUBLIC OF) RegS\",\"Serbia\\u002fSovereign\\u002fSERBIA (REPUBLIC OF) MTN RegS\",\"United Arab Emirates\\u002fSovereign\\u002fSHARJAH EMIRATE OF MTN RegS\",\"United Arab Emirates\\u002fSovereign\\u002fSHARJAH SUKUK PROGRAMME LTD MTN RegS\",\"United Arab Emirates\\u002fSovereign\\u002fSHARJAH SUKUK PROGRAMME LTD RegS\",\"China\\u002fAgency\\u002fSINOPEC GROUP OVERSEAS DEVELOPMENT RegS\",\"South Africa\\u002fSovereign\\u002fSOUTH AFRICA (REPUBLIC OF)\",\"China\\u002fAgency\\u002fSPIC MTN COMPANY LTD MTN RegS\",\"Sri Lanka\\u002fSovereign\\u002fSRI LANKA (DEMOCRATIC SOCIALIST RE RegS\",\"China\\u002fAgency\\u002fSTATE GRID OVERSEAS INVESTMENT BVI MTN RegS\",\"Saudi Arabia\\u002fAgency\\u002fSUCI SECOND INVESTMENT COMPANY RegS\",\"China\\u002fAgency\\u002fTHREE GORGES FINANCE I (CAYMAN ISL RegS\",\"South Africa\\u002fAgency\\u002fTRANSNET SOC LTD MTN RegS\",\"Trinidad and Tobago\\u002fSovereign\\u002fTRINIDAD AND TOBAGO (REPUBLIC OF) RegS\",\"Turkey\\u002fSovereign\\u002fTURKEY (REPUBLIC OF)\",\"Turkey\\u002fSovereign\\u002fTURKEY REPUBLIC OF (GOVERNMENT)\",\"Ukraine\\u002fSovereign\\u002fUKRAINE (GOVERNMENT OF) RegS\",\"Ukraine\\u002fSovereign\\u002fUKRAINE REPUBLIC OF (GOVERNMENT) RegS\",\"United Arab Emirates\\u002fSovereign\\u002fUNITED ARAB EMIRATES (GOVERNMENT O MTN RegS\",\"Uruguay\\u002fSovereign\\u002fURUGUAY (ORIENTAL REPUBLIC OF)\",\"Uruguay\\u002fSovereign\\u002fURUGUAY (REPUBLIC OF)\",\"United States\\u002fCash and\\u002for Derivatives\\u002fUSD CASH\",\"Zambia\\u002fSovereign\\u002fZAMBIA (REPUBLIC OF) RegS\",\"Azerbaijan\\u002fAgency\",\"Bahrain\\u002fAgency\",\"Chile\\u002fAgency\",\"China\\u002fAgency\",\"Hungary\\u002fAgency\",\"India\\u002fAgency\",\"Indonesia\\u002fAgency\",\"Malaysia\\u002fAgency\",\"Mexico\\u002fAgency\",\"Oman\\u002fAgency\",\"Panama\\u002fAgency\",\"Peru\\u002fAgency\",\"Poland\\u002fAgency\",\"Qatar\\u002fAgency\",\"Saudi Arabia\\u002fAgency\",\"South Africa\\u002fAgency\",\"United Arab Emirates\\u002fAgency\",\"Venezuela\\u002fAgency\",\"United States\\u002fCash and\\u002for Derivatives\",\"Angola\\u002fSovereign\",\"Argentina\\u002fSovereign\",\"Azerbaijan\\u002fSovereign\",\"Bahrain\\u002fSovereign\",\"Bolivia\\u002fSovereign\",\"Brazil\\u002fSovereign\",\"Chile\\u002fSovereign\",\"China\\u002fSovereign\",\"Colombia\\u002fSovereign\",\"Costa Rica\\u002fSovereign\",\"Cote D'Ivoire (Ivory Coast)\\u002fSovereign\",\"Dominican Republic\\u002fSovereign\",\"Ecuador\\u002fSovereign\",\"Egypt\\u002fSovereign\",\"El Salvador\\u002fSovereign\",\"Ethiopia\\u002fSovereign\",\"Ghana\\u002fSovereign\",\"Guatemala\\u002fSovereign\",\"Hungary\\u002fSovereign\",\"Indonesia\\u002fSovereign\",\"Iraq\\u002fSovereign\",\"Jamaica\\u002fSovereign\",\"Jordan\\u002fSovereign\",\"Kazakhstan\\u002fSovereign\",\"Kenya\\u002fSovereign\",\"Kuwait\\u002fSovereign\",\"Lebanon\\u002fSovereign\",\"Malaysia\\u002fSovereign\",\"Mexico\\u002fSovereign\",\"Morocco\\u002fSovereign\",\"Nigeria\\u002fSovereign\",\"Oman\\u002fSovereign\",\"Pakistan\\u002fSovereign\",\"Panama\\u002fSovereign\",\"Paraguay\\u002fSovereign\",\"Peru\\u002fSovereign\",\"Philippines\\u002fSovereign\",\"Poland\\u002fSovereign\",\"Qatar\\u002fSovereign\",\"Romania\\u002fSovereign\",\"Saudi Arabia\\u002fSovereign\",\"Senegal\\u002fSovereign\",\"Serbia\\u002fSovereign\",\"South Africa\\u002fSovereign\",\"Sri Lanka\\u002fSovereign\",\"Trinidad and Tobago\\u002fSovereign\",\"Tunisia\\u002fSovereign\",\"Turkey\\u002fSovereign\",\"Ukraine\\u002fSovereign\",\"United Arab Emirates\\u002fSovereign\",\"Uruguay\\u002fSovereign\",\"Zambia\\u002fSovereign\",\"Angola\",\"Argentina\",\"Azerbaijan\",\"Bahrain\",\"Bolivia\",\"Brazil\",\"Chile\",\"China\",\"Colombia\",\"Costa Rica\",\"Cote D'Ivoire (Ivory Coast)\",\"Dominican Republic\",\"Ecuador\",\"Egypt\",\"El Salvador\",\"Ethiopia\",\"Ghana\",\"Guatemala\",\"Hungary\",\"India\",\"Indonesia\",\"Iraq\",\"Jamaica\",\"Jordan\",\"Kazakhstan\",\"Kenya\",\"Kuwait\",\"Lebanon\",\"Malaysia\",\"Mexico\",\"Morocco\",\"Nigeria\",\"Oman\",\"Pakistan\",\"Panama\",\"Paraguay\",\"Peru\",\"Philippines\",\"Poland\",\"Qatar\",\"Romania\",\"Saudi Arabia\",\"Senegal\",\"Serbia\",\"South Africa\",\"Sri Lanka\",\"Trinidad and Tobago\",\"Tunisia\",\"Turkey\",\"Ukraine\",\"United Arab Emirates\",\"United States\",\"Uruguay\",\"Venezuela\",\"Zambia\"],\"labels\":[\"ABU DHABI (EMIRATE OF) MTN RegS\",\"ABU DHABI (EMIRATE OF) RegS\",\"ABU DHABI CRUDE OIL PIPELINE LLC RegS\",\"AEROPUERTO INTERNACIONAL DE TOCUME RegS\",\"ANGOLA (REPUBLIC OF) MTN RegS\",\"ANGOLA (REPUBLIC OF) RegS\",\"ARGENTINA REPUBLIC OF GOVERNMENT\",\"AZERBAIJAN (REPUBLIC OF) RegS\",\"BAHRAIN (KINGDOM OF) MTN RegS\",\"BAHRAIN (KINGDOM OF) RegS\",\"BAHRAIN KINGDOM OF (GOVERNMENT) RegS\",\"BANCO NACIONAL DE COMERCIO EXTERIO RegS\",\"BANCO NACIONAL DE PANAMA RegS\",\"BANK GOSPODARSTWA KRAJOWEGO MTN 144A\",\"BANK GOSPODARSTWA KRAJOWEGO MTN RegS\",\"BAPCO ENERGIES BSCC RegS\",\"BOLIVIA PLURINATIONAL STATE OF RegS\",\"BRAZIL (FEDERATIVE REPUBLIC OF)\",\"BRAZIL FEDERATIVE REPUBLIC OF (GO\",\"BRAZIL FEDERATIVE REPUBLIC OF (GOV\",\"CBB INTERNATIONAL SUKUK CO 7 WLL RegS\",\"CBB INTERNATIONAL SUKUK PROGRAMME MTN RegS\",\"CBB INTERNATIONAL SUKUK PROGRAMME RegS\",\"CENTRAL BANK OF TUNISIA RegS\",\"CHILE (REPUBLIC OF)\",\"CHINA DEVELOPMENT BANK MTN RegS\",\"CHINA LIFE INSURANCE OVERSEAS CO L RegS\",\"CHINA PEOPLES REPUBLIC OF (GOVERNM RegS\",\"CNAC HK FINBRIDGE CO LTD RegS\",\"COLOMBIA (REPUBLIC OF)\",\"COLOMBIA REPUBLIC OF (GOVERNMENT)\",\"COMISION FEDERAL DE ELECTRICIDAD C RegS\",\"CORPORACION NACIONAL DEL COBRE DE RegS\",\"COSTA RICA (REPUBLIC OF) 144A\",\"COSTA RICA (REPUBLIC OF) RegS\",\"COSTA RICA REPUBLIC OF (GOVERNMEN RegS\",\"COTE D IVOIRE (REPUBLIC OF) RegS\",\"DOMINICAN REPUBLIC (GOVERNMENT) RegS\",\"DP WORLD CRESCENT LTD MTN RegS\",\"DP WORLD CRESCENT LTD RegS\",\"DP WORLD LTD MTN RegS\",\"DP WORLD SALAAM RegS\",\"DUBAI (EMIRATE OF) MTN RegS\",\"ECUADOR REPUBLIC OF (GOVERNMENT) RegS\",\"EDO SUKUK LTD RegS\",\"EGYPT (ARAB REPUBLIC OF) MTN RegS\",\"EGYPTIAN FINANCIAL COMPANY FOR SOV RegS\",\"EL SALVADOR REPUBLIC OF (GOVERNMEN RegS\",\"EL SALVADOR REPUBLIC RegS\",\"EMPRESA DE TRANSPORTE DE PASAJEROS RegS\",\"ESKOM HOLDINGS SOC LTD MTN RegS\",\"ETHIOPIA FEDERAL DEMOCRATIC REPUB RegS\",\"EXPORT-IMPORT BANK OF CHINA MTN RegS\",\"EXPORT-IMPORT BANK OF CHINA RegS\",\"EXPORT-IMPORT BANK OF INDIA MTN RegS\",\"EXPORT-IMPORT BANK OF INDIA RegS\",\"FED REPUBLIC OF BRAZIL\",\"GACI FIRST INVESTMENT CO MTN RegS\",\"GHANA (REPUBLIC OF) MTN RegS\",\"GHANA (REPUBLIC OF) RegS\",\"GUATEMALA REPUBLIC OF (GOVERNMENT) RegS\",\"HAZINE MUSTESARLIGI VARLIK KIRALAM 144A\",\"HAZINE MUSTESARLIGI VARLIK KIRALAM RegS\",\"HUNGARY (GOVERNMENT) RegS\",\"HUNGARY (REPUBLIC OF) RegS\",\"INDONESIA (REPUBLIC OF)\",\"INDONESIA (REPUBLIC OF) MTN RegS\",\"INDONESIA (REPUBLIC OF) RegS\",\"INDONESIA ASAHAN ALUMINIUM PERSERO RegS\",\"IRAQ (REPUBLIC OF) RegS\",\"JAMAICA (GOVERNMENT OF)\",\"JAMAICA (GOVERNMENT)\",\"JANUB GAZ DAHLIZI GSJ RegS\",\"JORDAN (HASHEMITE KINGDOM OF) MTN RegS\",\"JORDAN (HASHEMITE KINGDOM OF) RegS\",\"KAZAKHSTAN (REPUBLIC OF) MTN RegS\",\"KAZAKHSTAN (REPUBLIC OF) RegS\",\"KENYA (REPUBLIC OF) RegS\",\"KSA SUKUK LTD MTN RegS\",\"KSA SUKUK LTD RegS\",\"KUWAIT STATE OF (GOVERNMENT) MTN RegS\",\"LEBANON (REPUBLIC OF) MTN RegS\",\"LEBANON (REPUBLIC OF) RegS\",\"LEBANON REPUBLIC OF (GOVERNMENT) MTN RegS\",\"LEBANON REPUBLIC OF (GOVERNMENT) RegS\",\"MAGYAR EXPORT IMPORT BANK ZRT RegS\",\"MALAYSIA SOVEREIGN SUKUK BHD RegS\",\"MALAYSIA SUKUK GLOBAL BHD RegS\",\"MDGH GMTN RSC LTD MTN RegS\",\"MEXICO (UNITED MEXICAN STATES)\",\"MEXICO (UNITED MEXICAN STATES) (GO\",\"MEXICO (UNITED MEXICAN STATES) (GO MTN\",\"MEXICO (UNITED MEXICAN STATES) MTN\",\"MEXICO CITY AIRPORT TRUST RegS\",\"MFB MAGYAR FEJLESZTESI BANK ZRT RegS\",\"MINMETALS BOUNTEOUS FINANCE (BVI) RegS\",\"MOROCCO (KINGDOM OF) RegS\",\"NIGERIA (FEDERAL REPUBLIC OF) MTN RegS\",\"NIGERIA (FEDERAL REPUBLIC OF) RegS\",\"OMAN SOVEREIGN SUKUK SAOC RegS\",\"OMAN SULTANATE OF (GOVERNMENT) MTN RegS\",\"OMAN SULTANATE OF (GOVERNMENT) RegS\",\"PAKISTAN (ISLAMIC REPUBLIC OF) MTN RegS\",\"PAKISTAN (ISLAMIC REPUBLIC OF) RegS\",\"PANAMA (REPUBLIC OF)\",\"PANAMA REPUBLIC OF (GOVERNMENT)\",\"PARAGUAY (REPUBLIC OF) RegS\",\"PARAGUAY REPUBLIC OF (GOVERNMENT) RegS\",\"PELABUHAN INDONESIA PERSERO PT RegS\",\"PERTAMINA PERSERO PT MTN RegS\",\"PERTAMINA PERSERO PT RegS\",\"PERU (REPUBLIC OF)\",\"PERUSAHAAN LISTRIK NEGARA (PERSERO MTN RegS\",\"PERUSAHAAN LISTRIK NEGARA PT RegS\",\"PERUSAHAAN PENERBIT SURAT BERHARGA 144A\",\"PERUSAHAAN PENERBIT SURAT BERHARGA MTN RegS\",\"PERUSAHAAN PENERBIT SURAT BERHARGA RegS\",\"PERUSAHAAN PERSEROAN (PERSERO) PT MTN RegS\",\"PETROLEOS DE VENEZUELA SA MTN RegS\",\"PETROLEOS DE VENEZUELA SA RegS\",\"PETROLEOS DEL PERU PETROPERU SA RegS\",\"PETROLEOS MEXICANOS\",\"PETROLEOS MEXICANOS MTN\",\"PETRONAS CAPITAL LTD MTN RegS\",\"PHILIPPINES (REPUBLIC OF)\",\"POLAND (REPUBLIC OF)\",\"QATAR (STATE OF) RegS\",\"QATAR ENERGY RegS\",\"QATAR STATE OF (GOVERNMENT) RegS\",\"RAK CAPITAL RegS\",\"REPUBLIC OF COLOMBIA\",\"REPUBLIC OF HUNGARY\",\"REPUBLIC OF PHILIPPINES\",\"REPUBLICA ORIENT URUGUAY\",\"ROMANIA (REPUBLIC OF) MTN RegS\",\"ROP SUKUK TRUST 144A\",\"SAUDI ARABIA (KINGDOM OF) MTN RegS\",\"SAUDI ARABIA (KINGDOM OF) RegS\",\"SENEGAL (REPUBLIC OF) RegS\",\"SERBIA (REPUBLIC OF) MTN RegS\",\"SHARJAH EMIRATE OF MTN RegS\",\"SHARJAH SUKUK PROGRAMME LTD MTN RegS\",\"SHARJAH SUKUK PROGRAMME LTD RegS\",\"SINOPEC GROUP OVERSEAS DEVELOPMENT RegS\",\"SOUTH AFRICA (REPUBLIC OF)\",\"SPIC MTN COMPANY LTD MTN RegS\",\"SRI LANKA (DEMOCRATIC SOCIALIST RE RegS\",\"STATE GRID OVERSEAS INVESTMENT BVI MTN RegS\",\"SUCI SECOND INVESTMENT COMPANY RegS\",\"THREE GORGES FINANCE I (CAYMAN ISL RegS\",\"TRANSNET SOC LTD MTN RegS\",\"TRINIDAD AND TOBAGO (REPUBLIC OF) RegS\",\"TURKEY (REPUBLIC OF)\",\"TURKEY REPUBLIC OF (GOVERNMENT)\",\"UKRAINE (GOVERNMENT OF) RegS\",\"UKRAINE REPUBLIC OF (GOVERNMENT) RegS\",\"UNITED ARAB EMIRATES (GOVERNMENT O MTN RegS\",\"URUGUAY (ORIENTAL REPUBLIC OF)\",\"URUGUAY (REPUBLIC OF)\",\"USD CASH\",\"ZAMBIA (REPUBLIC OF) RegS\",\"Agency\",\"Agency\",\"Agency\",\"Agency\",\"Agency\",\"Agency\",\"Agency\",\"Agency\",\"Agency\",\"Agency\",\"Agency\",\"Agency\",\"Agency\",\"Agency\",\"Agency\",\"Agency\",\"Agency\",\"Agency\",\"Cash and\\u002for Derivatives\",\"Sovereign\",\"Sovereign\",\"Sovereign\",\"Sovereign\",\"Sovereign\",\"Sovereign\",\"Sovereign\",\"Sovereign\",\"Sovereign\",\"Sovereign\",\"Sovereign\",\"Sovereign\",\"Sovereign\",\"Sovereign\",\"Sovereign\",\"Sovereign\",\"Sovereign\",\"Sovereign\",\"Sovereign\",\"Sovereign\",\"Sovereign\",\"Sovereign\",\"Sovereign\",\"Sovereign\",\"Sovereign\",\"Sovereign\",\"Sovereign\",\"Sovereign\",\"Sovereign\",\"Sovereign\",\"Sovereign\",\"Sovereign\",\"Sovereign\",\"Sovereign\",\"Sovereign\",\"Sovereign\",\"Sovereign\",\"Sovereign\",\"Sovereign\",\"Sovereign\",\"Sovereign\",\"Sovereign\",\"Sovereign\",\"Sovereign\",\"Sovereign\",\"Sovereign\",\"Sovereign\",\"Sovereign\",\"Sovereign\",\"Sovereign\",\"Sovereign\",\"Sovereign\",\"Angola\",\"Argentina\",\"Azerbaijan\",\"Bahrain\",\"Bolivia\",\"Brazil\",\"Chile\",\"China\",\"Colombia\",\"Costa Rica\",\"Cote D'Ivoire (Ivory Coast)\",\"Dominican Republic\",\"Ecuador\",\"Egypt\",\"El Salvador\",\"Ethiopia\",\"Ghana\",\"Guatemala\",\"Hungary\",\"India\",\"Indonesia\",\"Iraq\",\"Jamaica\",\"Jordan\",\"Kazakhstan\",\"Kenya\",\"Kuwait\",\"Lebanon\",\"Malaysia\",\"Mexico\",\"Morocco\",\"Nigeria\",\"Oman\",\"Pakistan\",\"Panama\",\"Paraguay\",\"Peru\",\"Philippines\",\"Poland\",\"Qatar\",\"Romania\",\"Saudi Arabia\",\"Senegal\",\"Serbia\",\"South Africa\",\"Sri Lanka\",\"Trinidad and Tobago\",\"Tunisia\",\"Turkey\",\"Ukraine\",\"United Arab Emirates\",\"United States\",\"Uruguay\",\"Venezuela\",\"Zambia\"],\"marker\":{\"coloraxis\":\"coloraxis\",\"colors\":[4.9067567567567565,4.9028125,5.75,7.83,11.846923076923076,11.908823529411764,24.944076086956514,6.05,7.126315789473683,6.447794117647059,8.02,6.09,7.609999999999999,5.2,5.521176470588236,6.23,34.24,6.737954545454545,5.534761904761905,5.945076923076924,6.28,6.32,6.176666666666668,28.15,5.328786610878662,5.2,5.5,4.526788990825689,5.624390243902439,7.257300380228138,7.739333333333334,6.49,5.992000000000001,7.03,6.304545454545455,6.98948717948718,8.13,6.938921282798835,5.4350000000000005,5.549999999999999,6.221739130434782,9.9,5.97,26.000752688172042,5.77,14.560815450643778,12.5,11.44,11.64,6.420000000000001,7.51,50.0,4.82,4.8100000000000005,5.403934426229509,5.51,7.0,5.395400000000001,null,null,7.152972972972973,7.77,7.195072463768115,5.740503597122303,5.643061224489795,5.12083916083916,5.300121951219513,5.2752173913043485,5.875384615384616,10.25,5.75,5.781052631578948,6.63,7.490000000000001,7.327076923076922,5.163870967741936,5.65,10.855535714285715,4.786666666666666,4.81987012987013,4.64,null,null,null,null,6.05,5.06,4.9,5.2773015873015865,6.82,5.858678414096917,5.509565217391304,6.154545454545456,7.34,6.18,7.180000000000001,6.025492957746478,10.520135135135135,10.086071428571428,5.500869565217392,5.736583333333334,6.090220994475137,20.884249999999998,20.51,7.13,7.09954918032787,6.54,6.1450000000000005,5.96,5.931212121212121,6.03,5.546666666666666,5.533181818181817,6.18,5.125,4.876571428571428,4.980307692307693,6.35,null,null,10.204333333333334,11.313595505617977,10.646451612903224,5.324702380952381,5.165753012048193,5.1749374999999995,5.047759740259739,5.279886363636364,5.29,6.120000000000001,6.11,6.25,5.37,4.34,6.256100917431194,5.08,5.312005813953488,5.291086956521739,9.20111111111111,6.2796875,6.539166666666667,5.669999999999999,5.683846153846154,5.054583333333333,7.247453183520598,5.6,null,4.851111111111111,4.974,5.13,8.44,5.31,7.594265060240963,8.423749999999998,37.56645161290323,15.534473684210527,4.890727272727274,5.167828571428571,5.14,5.34,null,6.63,6.23,6.026938775510205,5.227892720306515,6.1134146341463405,5.425974025974026,5.888105263157894,5.324702380952381,10.845642023346304,5.77,7.735714285714285,10.204333333333334,5.437391304347826,5.279886363636364,5.298153846153847,7.83265306122449,5.896788321167882,null,5.34,11.874137931034484,24.944076086956514,6.05,6.730115384615385,34.24,6.152823218997362,5.328786610878662,4.526788990825689,7.274723032069971,6.719814814814816,8.13,6.938921282798835,26.000752688172042,14.36836575875487,11.503157894736843,50.0,null,7.152972972972973,5.790821917808219,5.146905311778292,10.25,5.7715853658536584,7.368275862068964,5.258571428571429,10.855535714285715,4.64,null,4.971724137931034,5.931610942249242,6.025492957746478,10.400980392156862,5.8897982708933725,20.77732142857143,7.102583025830257,6.276666666666667,5.546666666666666,5.174407713498624,5.1749374999999995,5.062530487804877,6.256100917431194,5.1947233201581025,9.20111111111111,6.2796875,7.247453183520598,null,5.31,28.15,7.595371428571429,25.43289855072464,5.093742331288345,5.081872146118721,null,11.874137931034484,24.944076086956514,6.4524489795918365,6.701123188405798,34.24,6.152823218997362,5.531810089020772,5.021351351351352,7.274723032069971,6.719814814814816,8.13,6.938921282798835,26.000752688172042,14.36836575875487,11.503157894736843,50.0,null,7.152972972972973,5.841692307692306,5.425974025974026,5.2802651515151515,10.25,5.7715853658536584,7.368275862068964,5.258571428571429,10.855535714285715,4.64,null,5.272741116751268,8.086740614334474,6.025492957746478,10.400980392156862,5.884203296703297,20.77732142857143,7.148116438356164,6.276666666666667,6.017138047138047,5.174407713498624,5.233543689320388,5.108509615384615,6.256100917431194,5.206497373029774,9.20111111111111,6.2796875,7.338196202531643,null,5.31,28.15,7.595371428571429,25.43289855072464,5.3313606911447105,5.34,5.081872146118721,null,null]},\"name\":\"\",\"parents\":[\"United Arab Emirates\\u002fSovereign\",\"United Arab Emirates\\u002fSovereign\",\"United Arab Emirates\\u002fAgency\",\"Panama\\u002fAgency\",\"Angola\\u002fSovereign\",\"Angola\\u002fSovereign\",\"Argentina\\u002fSovereign\",\"Azerbaijan\\u002fSovereign\",\"Bahrain\\u002fSovereign\",\"Bahrain\\u002fSovereign\",\"Bahrain\\u002fSovereign\",\"Mexico\\u002fAgency\",\"Panama\\u002fAgency\",\"Poland\\u002fAgency\",\"Poland\\u002fAgency\",\"Bahrain\\u002fAgency\",\"Bolivia\\u002fSovereign\",\"Brazil\\u002fSovereign\",\"Brazil\\u002fSovereign\",\"Brazil\\u002fSovereign\",\"Bahrain\\u002fSovereign\",\"Bahrain\\u002fSovereign\",\"Bahrain\\u002fSovereign\",\"Tunisia\\u002fSovereign\",\"Chile\\u002fSovereign\",\"China\\u002fAgency\",\"China\\u002fAgency\",\"China\\u002fSovereign\",\"China\\u002fAgency\",\"Colombia\\u002fSovereign\",\"Colombia\\u002fSovereign\",\"Mexico\\u002fAgency\",\"Chile\\u002fAgency\",\"Costa Rica\\u002fSovereign\",\"Costa Rica\\u002fSovereign\",\"Costa Rica\\u002fSovereign\",\"Cote D'Ivoire (Ivory Coast)\\u002fSovereign\",\"Dominican Republic\\u002fSovereign\",\"United Arab Emirates\\u002fAgency\",\"United Arab Emirates\\u002fAgency\",\"United Arab Emirates\\u002fAgency\",\"United Arab Emirates\\u002fAgency\",\"United Arab Emirates\\u002fSovereign\",\"Ecuador\\u002fSovereign\",\"Oman\\u002fAgency\",\"Egypt\\u002fSovereign\",\"Egypt\\u002fSovereign\",\"El Salvador\\u002fSovereign\",\"El Salvador\\u002fSovereign\",\"Chile\\u002fAgency\",\"South Africa\\u002fAgency\",\"Ethiopia\\u002fSovereign\",\"China\\u002fAgency\",\"China\\u002fAgency\",\"India\\u002fAgency\",\"India\\u002fAgency\",\"Brazil\\u002fSovereign\",\"Saudi Arabia\\u002fAgency\",\"Ghana\\u002fSovereign\",\"Ghana\\u002fSovereign\",\"Guatemala\\u002fSovereign\",\"Turkey\\u002fSovereign\",\"Turkey\\u002fSovereign\",\"Hungary\\u002fSovereign\",\"Hungary\\u002fSovereign\",\"Indonesia\\u002fSovereign\",\"Indonesia\\u002fSovereign\",\"Indonesia\\u002fSovereign\",\"Indonesia\\u002fAgency\",\"Iraq\\u002fSovereign\",\"Jamaica\\u002fSovereign\",\"Jamaica\\u002fSovereign\",\"Azerbaijan\\u002fAgency\",\"Jordan\\u002fSovereign\",\"Jordan\\u002fSovereign\",\"Kazakhstan\\u002fSovereign\",\"Kazakhstan\\u002fSovereign\",\"Kenya\\u002fSovereign\",\"Saudi Arabia\\u002fSovereign\",\"Saudi Arabia\\u002fSovereign\",\"Kuwait\\u002fSovereign\",\"Lebanon\\u002fSovereign\",\"Lebanon\\u002fSovereign\",\"Lebanon\\u002fSovereign\",\"Lebanon\\u002fSovereign\",\"Hungary\\u002fAgency\",\"Malaysia\\u002fSovereign\",\"Malaysia\\u002fSovereign\",\"United Arab Emirates\\u002fAgency\",\"Mexico\\u002fSovereign\",\"Mexico\\u002fSovereign\",\"Mexico\\u002fSovereign\",\"Mexico\\u002fSovereign\",\"Mexico\\u002fAgency\",\"Hungary\\u002fAgency\",\"China\\u002fAgency\",\"Morocco\\u002fSovereign\",\"Nigeria\\u002fSovereign\",\"Nigeria\\u002fSovereign\",\"Oman\\u002fSovereign\",\"Oman\\u002fSovereign\",\"Oman\\u002fSovereign\",\"Pakistan\\u002fSovereign\",\"Pakistan\\u002fSovereign\",\"Panama\\u002fSovereign\",\"Panama\\u002fSovereign\",\"Paraguay\\u002fSovereign\",\"Paraguay\\u002fSovereign\",\"Indonesia\\u002fAgency\",\"Indonesia\\u002fAgency\",\"Indonesia\\u002fAgency\",\"Peru\\u002fSovereign\",\"Indonesia\\u002fAgency\",\"Indonesia\\u002fAgency\",\"Indonesia\\u002fSovereign\",\"Indonesia\\u002fSovereign\",\"Indonesia\\u002fSovereign\",\"Indonesia\\u002fAgency\",\"Venezuela\\u002fAgency\",\"Venezuela\\u002fAgency\",\"Peru\\u002fAgency\",\"Mexico\\u002fAgency\",\"Mexico\\u002fAgency\",\"Malaysia\\u002fAgency\",\"Philippines\\u002fSovereign\",\"Poland\\u002fSovereign\",\"Qatar\\u002fSovereign\",\"Qatar\\u002fAgency\",\"Qatar\\u002fSovereign\",\"United Arab Emirates\\u002fSovereign\",\"Colombia\\u002fSovereign\",\"Hungary\\u002fSovereign\",\"Philippines\\u002fSovereign\",\"Uruguay\\u002fSovereign\",\"Romania\\u002fSovereign\",\"Philippines\\u002fSovereign\",\"Saudi Arabia\\u002fSovereign\",\"Saudi Arabia\\u002fSovereign\",\"Senegal\\u002fSovereign\",\"Serbia\\u002fSovereign\",\"United Arab Emirates\\u002fSovereign\",\"United Arab Emirates\\u002fSovereign\",\"United Arab Emirates\\u002fSovereign\",\"China\\u002fAgency\",\"South Africa\\u002fSovereign\",\"China\\u002fAgency\",\"Sri Lanka\\u002fSovereign\",\"China\\u002fAgency\",\"Saudi Arabia\\u002fAgency\",\"China\\u002fAgency\",\"South Africa\\u002fAgency\",\"Trinidad and Tobago\\u002fSovereign\",\"Turkey\\u002fSovereign\",\"Turkey\\u002fSovereign\",\"Ukraine\\u002fSovereign\",\"Ukraine\\u002fSovereign\",\"United Arab Emirates\\u002fSovereign\",\"Uruguay\\u002fSovereign\",\"Uruguay\\u002fSovereign\",\"United States\\u002fCash and\\u002for Derivatives\",\"Zambia\\u002fSovereign\",\"Azerbaijan\",\"Bahrain\",\"Chile\",\"China\",\"Hungary\",\"India\",\"Indonesia\",\"Malaysia\",\"Mexico\",\"Oman\",\"Panama\",\"Peru\",\"Poland\",\"Qatar\",\"Saudi Arabia\",\"South Africa\",\"United Arab Emirates\",\"Venezuela\",\"United States\",\"Angola\",\"Argentina\",\"Azerbaijan\",\"Bahrain\",\"Bolivia\",\"Brazil\",\"Chile\",\"China\",\"Colombia\",\"Costa Rica\",\"Cote D'Ivoire (Ivory Coast)\",\"Dominican Republic\",\"Ecuador\",\"Egypt\",\"El Salvador\",\"Ethiopia\",\"Ghana\",\"Guatemala\",\"Hungary\",\"Indonesia\",\"Iraq\",\"Jamaica\",\"Jordan\",\"Kazakhstan\",\"Kenya\",\"Kuwait\",\"Lebanon\",\"Malaysia\",\"Mexico\",\"Morocco\",\"Nigeria\",\"Oman\",\"Pakistan\",\"Panama\",\"Paraguay\",\"Peru\",\"Philippines\",\"Poland\",\"Qatar\",\"Romania\",\"Saudi Arabia\",\"Senegal\",\"Serbia\",\"South Africa\",\"Sri Lanka\",\"Trinidad and Tobago\",\"Tunisia\",\"Turkey\",\"Ukraine\",\"United Arab Emirates\",\"Uruguay\",\"Zambia\",\"\",\"\",\"\",\"\",\"\",\"\",\"\",\"\",\"\",\"\",\"\",\"\",\"\",\"\",\"\",\"\",\"\",\"\",\"\",\"\",\"\",\"\",\"\",\"\",\"\",\"\",\"\",\"\",\"\",\"\",\"\",\"\",\"\",\"\",\"\",\"\",\"\",\"\",\"\",\"\",\"\",\"\",\"\",\"\",\"\",\"\",\"\",\"\",\"\",\"\",\"\",\"\",\"\",\"\",\"\"],\"values\":[1.48,0.64,0.15,0.12,0.65,0.51,1.84,0.15,0.95,0.68,0.17,0.05,0.09,0.12,0.34,0.16,0.07,0.88,0.63,1.95,0.17,0.15,0.48,0.11,2.39,0.09,0.23,1.09,0.41000000000000003,2.63,0.6,0.06,0.9,0.25,0.44,0.39,0.18,3.43,0.14,0.11,0.23,0.11,0.14,0.93,0.17,2.33,0.24,0.26,0.12,0.08,0.32,0.04,0.17,0.11,0.61,0.16,0.33,0.5,0.31,0.45000000000000007,0.37,0.09,0.69,1.39,0.49,1.4300000000000002,0.8200000000000001,0.9199999999999999,0.13,0.23,0.25,0.57,0.34,0.22,0.65,0.62,0.15,0.56,0.39,0.77,0.69,0.03,0.01,0.03,0.01,0.21,0.13,0.16,0.63,0.13,2.27,0.22999999999999998,0.66,0.06,0.2,0.09,0.71,1.48,0.56,0.46,1.2,1.81,0.4,0.16,0.27,2.44,0.16,0.32,0.06,0.33,0.08,2.67,0.22000000000000003,0.06,0.16,0.35,0.65,0.07,0.02,0.1,0.3,1.78,0.62,1.6800000000000002,3.32,1.6,3.08,0.88,0.2,0.05,0.2,0.31,0.2,0.22,2.18,0.11,3.44,0.45999999999999996,0.27,0.32,0.12000000000000001,0.15000000000000002,0.13,0.96,2.67,0.08,0.72,0.36,0.15,0.11,0.17,0.16,4.15,0.32,0.31,0.38,0.55,1.75,0.22,0.28,0.22,0.34,0.16,0.98,2.61,0.41000000000000003,0.77,0.9500000000000001,1.6800000000000002,2.57,0.17,0.21,0.3,0.46,0.88,0.65,0.49,1.37,0.12,0.28,1.16,1.84,0.15,2.6,0.07,3.79,2.39,1.09,3.43,1.08,0.18,3.43,0.93,2.57,0.38,0.04,0.76,0.37,2.19,4.33,0.23,0.82,0.87,0.77,0.56,0.69,0.08,0.29000000000000004,3.29,0.71,2.04,3.47,0.56,2.71,0.48,2.67,3.63,1.6,3.2800000000000002,2.18,5.0600000000000005,0.27,0.32,2.67,0.72,0.16,0.11,5.25,0.69,3.2600000000000002,2.19,0.22,1.16,1.84,0.49,2.7600000000000002,0.07,3.79,3.37,3.7,3.43,1.08,0.18,3.43,0.93,2.57,0.38,0.04,0.76,0.37,2.6,0.77,5.28,0.23,0.82,0.87,0.77,0.56,0.69,0.08,1.97,5.86,0.71,2.04,3.64,0.56,2.92,0.48,2.9699999999999998,3.63,2.06,4.16,2.18,5.71,0.27,0.32,3.16,0.72,0.16,0.11,5.25,0.69,4.63,0.28,2.19,0.12,0.22],\"type\":\"treemap\"}],                        {\"template\":{\"data\":{\"histogram2dcontour\":[{\"type\":\"histogram2dcontour\",\"colorbar\":{\"outlinewidth\":0,\"ticks\":\"\"},\"colorscale\":[[0.0,\"#0d0887\"],[0.1111111111111111,\"#46039f\"],[0.2222222222222222,\"#7201a8\"],[0.3333333333333333,\"#9c179e\"],[0.4444444444444444,\"#bd3786\"],[0.5555555555555556,\"#d8576b\"],[0.6666666666666666,\"#ed7953\"],[0.7777777777777778,\"#fb9f3a\"],[0.8888888888888888,\"#fdca26\"],[1.0,\"#f0f921\"]]}],\"choropleth\":[{\"type\":\"choropleth\",\"colorbar\":{\"outlinewidth\":0,\"ticks\":\"\"}}],\"histogram2d\":[{\"type\":\"histogram2d\",\"colorbar\":{\"outlinewidth\":0,\"ticks\":\"\"},\"colorscale\":[[0.0,\"#0d0887\"],[0.1111111111111111,\"#46039f\"],[0.2222222222222222,\"#7201a8\"],[0.3333333333333333,\"#9c179e\"],[0.4444444444444444,\"#bd3786\"],[0.5555555555555556,\"#d8576b\"],[0.6666666666666666,\"#ed7953\"],[0.7777777777777778,\"#fb9f3a\"],[0.8888888888888888,\"#fdca26\"],[1.0,\"#f0f921\"]]}],\"heatmap\":[{\"type\":\"heatmap\",\"colorbar\":{\"outlinewidth\":0,\"ticks\":\"\"},\"colorscale\":[[0.0,\"#0d0887\"],[0.1111111111111111,\"#46039f\"],[0.2222222222222222,\"#7201a8\"],[0.3333333333333333,\"#9c179e\"],[0.4444444444444444,\"#bd3786\"],[0.5555555555555556,\"#d8576b\"],[0.6666666666666666,\"#ed7953\"],[0.7777777777777778,\"#fb9f3a\"],[0.8888888888888888,\"#fdca26\"],[1.0,\"#f0f921\"]]}],\"heatmapgl\":[{\"type\":\"heatmapgl\",\"colorbar\":{\"outlinewidth\":0,\"ticks\":\"\"},\"colorscale\":[[0.0,\"#0d0887\"],[0.1111111111111111,\"#46039f\"],[0.2222222222222222,\"#7201a8\"],[0.3333333333333333,\"#9c179e\"],[0.4444444444444444,\"#bd3786\"],[0.5555555555555556,\"#d8576b\"],[0.6666666666666666,\"#ed7953\"],[0.7777777777777778,\"#fb9f3a\"],[0.8888888888888888,\"#fdca26\"],[1.0,\"#f0f921\"]]}],\"contourcarpet\":[{\"type\":\"contourcarpet\",\"colorbar\":{\"outlinewidth\":0,\"ticks\":\"\"}}],\"contour\":[{\"type\":\"contour\",\"colorbar\":{\"outlinewidth\":0,\"ticks\":\"\"},\"colorscale\":[[0.0,\"#0d0887\"],[0.1111111111111111,\"#46039f\"],[0.2222222222222222,\"#7201a8\"],[0.3333333333333333,\"#9c179e\"],[0.4444444444444444,\"#bd3786\"],[0.5555555555555556,\"#d8576b\"],[0.6666666666666666,\"#ed7953\"],[0.7777777777777778,\"#fb9f3a\"],[0.8888888888888888,\"#fdca26\"],[1.0,\"#f0f921\"]]}],\"surface\":[{\"type\":\"surface\",\"colorbar\":{\"outlinewidth\":0,\"ticks\":\"\"},\"colorscale\":[[0.0,\"#0d0887\"],[0.1111111111111111,\"#46039f\"],[0.2222222222222222,\"#7201a8\"],[0.3333333333333333,\"#9c179e\"],[0.4444444444444444,\"#bd3786\"],[0.5555555555555556,\"#d8576b\"],[0.6666666666666666,\"#ed7953\"],[0.7777777777777778,\"#fb9f3a\"],[0.8888888888888888,\"#fdca26\"],[1.0,\"#f0f921\"]]}],\"mesh3d\":[{\"type\":\"mesh3d\",\"colorbar\":{\"outlinewidth\":0,\"ticks\":\"\"}}],\"scatter\":[{\"fillpattern\":{\"fillmode\":\"overlay\",\"size\":10,\"solidity\":0.2},\"type\":\"scatter\"}],\"parcoords\":[{\"type\":\"parcoords\",\"line\":{\"colorbar\":{\"outlinewidth\":0,\"ticks\":\"\"}}}],\"scatterpolargl\":[{\"type\":\"scatterpolargl\",\"marker\":{\"colorbar\":{\"outlinewidth\":0,\"ticks\":\"\"}}}],\"bar\":[{\"error_x\":{\"color\":\"#2a3f5f\"},\"error_y\":{\"color\":\"#2a3f5f\"},\"marker\":{\"line\":{\"color\":\"#E5ECF6\",\"width\":0.5},\"pattern\":{\"fillmode\":\"overlay\",\"size\":10,\"solidity\":0.2}},\"type\":\"bar\"}],\"scattergeo\":[{\"type\":\"scattergeo\",\"marker\":{\"colorbar\":{\"outlinewidth\":0,\"ticks\":\"\"}}}],\"scatterpolar\":[{\"type\":\"scatterpolar\",\"marker\":{\"colorbar\":{\"outlinewidth\":0,\"ticks\":\"\"}}}],\"histogram\":[{\"marker\":{\"pattern\":{\"fillmode\":\"overlay\",\"size\":10,\"solidity\":0.2}},\"type\":\"histogram\"}],\"scattergl\":[{\"type\":\"scattergl\",\"marker\":{\"colorbar\":{\"outlinewidth\":0,\"ticks\":\"\"}}}],\"scatter3d\":[{\"type\":\"scatter3d\",\"line\":{\"colorbar\":{\"outlinewidth\":0,\"ticks\":\"\"}},\"marker\":{\"colorbar\":{\"outlinewidth\":0,\"ticks\":\"\"}}}],\"scattermapbox\":[{\"type\":\"scattermapbox\",\"marker\":{\"colorbar\":{\"outlinewidth\":0,\"ticks\":\"\"}}}],\"scatterternary\":[{\"type\":\"scatterternary\",\"marker\":{\"colorbar\":{\"outlinewidth\":0,\"ticks\":\"\"}}}],\"scattercarpet\":[{\"type\":\"scattercarpet\",\"marker\":{\"colorbar\":{\"outlinewidth\":0,\"ticks\":\"\"}}}],\"carpet\":[{\"aaxis\":{\"endlinecolor\":\"#2a3f5f\",\"gridcolor\":\"white\",\"linecolor\":\"white\",\"minorgridcolor\":\"white\",\"startlinecolor\":\"#2a3f5f\"},\"baxis\":{\"endlinecolor\":\"#2a3f5f\",\"gridcolor\":\"white\",\"linecolor\":\"white\",\"minorgridcolor\":\"white\",\"startlinecolor\":\"#2a3f5f\"},\"type\":\"carpet\"}],\"table\":[{\"cells\":{\"fill\":{\"color\":\"#EBF0F8\"},\"line\":{\"color\":\"white\"}},\"header\":{\"fill\":{\"color\":\"#C8D4E3\"},\"line\":{\"color\":\"white\"}},\"type\":\"table\"}],\"barpolar\":[{\"marker\":{\"line\":{\"color\":\"#E5ECF6\",\"width\":0.5},\"pattern\":{\"fillmode\":\"overlay\",\"size\":10,\"solidity\":0.2}},\"type\":\"barpolar\"}],\"pie\":[{\"automargin\":true,\"type\":\"pie\"}]},\"layout\":{\"autotypenumbers\":\"strict\",\"colorway\":[\"#636efa\",\"#EF553B\",\"#00cc96\",\"#ab63fa\",\"#FFA15A\",\"#19d3f3\",\"#FF6692\",\"#B6E880\",\"#FF97FF\",\"#FECB52\"],\"font\":{\"color\":\"#2a3f5f\"},\"hovermode\":\"closest\",\"hoverlabel\":{\"align\":\"left\"},\"paper_bgcolor\":\"white\",\"plot_bgcolor\":\"#E5ECF6\",\"polar\":{\"bgcolor\":\"#E5ECF6\",\"angularaxis\":{\"gridcolor\":\"white\",\"linecolor\":\"white\",\"ticks\":\"\"},\"radialaxis\":{\"gridcolor\":\"white\",\"linecolor\":\"white\",\"ticks\":\"\"}},\"ternary\":{\"bgcolor\":\"#E5ECF6\",\"aaxis\":{\"gridcolor\":\"white\",\"linecolor\":\"white\",\"ticks\":\"\"},\"baxis\":{\"gridcolor\":\"white\",\"linecolor\":\"white\",\"ticks\":\"\"},\"caxis\":{\"gridcolor\":\"white\",\"linecolor\":\"white\",\"ticks\":\"\"}},\"coloraxis\":{\"colorbar\":{\"outlinewidth\":0,\"ticks\":\"\"}},\"colorscale\":{\"sequential\":[[0.0,\"#0d0887\"],[0.1111111111111111,\"#46039f\"],[0.2222222222222222,\"#7201a8\"],[0.3333333333333333,\"#9c179e\"],[0.4444444444444444,\"#bd3786\"],[0.5555555555555556,\"#d8576b\"],[0.6666666666666666,\"#ed7953\"],[0.7777777777777778,\"#fb9f3a\"],[0.8888888888888888,\"#fdca26\"],[1.0,\"#f0f921\"]],\"sequentialminus\":[[0.0,\"#0d0887\"],[0.1111111111111111,\"#46039f\"],[0.2222222222222222,\"#7201a8\"],[0.3333333333333333,\"#9c179e\"],[0.4444444444444444,\"#bd3786\"],[0.5555555555555556,\"#d8576b\"],[0.6666666666666666,\"#ed7953\"],[0.7777777777777778,\"#fb9f3a\"],[0.8888888888888888,\"#fdca26\"],[1.0,\"#f0f921\"]],\"diverging\":[[0,\"#8e0152\"],[0.1,\"#c51b7d\"],[0.2,\"#de77ae\"],[0.3,\"#f1b6da\"],[0.4,\"#fde0ef\"],[0.5,\"#f7f7f7\"],[0.6,\"#e6f5d0\"],[0.7,\"#b8e186\"],[0.8,\"#7fbc41\"],[0.9,\"#4d9221\"],[1,\"#276419\"]]},\"xaxis\":{\"gridcolor\":\"white\",\"linecolor\":\"white\",\"ticks\":\"\",\"title\":{\"standoff\":15},\"zerolinecolor\":\"white\",\"automargin\":true,\"zerolinewidth\":2},\"yaxis\":{\"gridcolor\":\"white\",\"linecolor\":\"white\",\"ticks\":\"\",\"title\":{\"standoff\":15},\"zerolinecolor\":\"white\",\"automargin\":true,\"zerolinewidth\":2},\"scene\":{\"xaxis\":{\"backgroundcolor\":\"#E5ECF6\",\"gridcolor\":\"white\",\"linecolor\":\"white\",\"showbackground\":true,\"ticks\":\"\",\"zerolinecolor\":\"white\",\"gridwidth\":2},\"yaxis\":{\"backgroundcolor\":\"#E5ECF6\",\"gridcolor\":\"white\",\"linecolor\":\"white\",\"showbackground\":true,\"ticks\":\"\",\"zerolinecolor\":\"white\",\"gridwidth\":2},\"zaxis\":{\"backgroundcolor\":\"#E5ECF6\",\"gridcolor\":\"white\",\"linecolor\":\"white\",\"showbackground\":true,\"ticks\":\"\",\"zerolinecolor\":\"white\",\"gridwidth\":2}},\"shapedefaults\":{\"line\":{\"color\":\"#2a3f5f\"}},\"annotationdefaults\":{\"arrowcolor\":\"#2a3f5f\",\"arrowhead\":0,\"arrowwidth\":1},\"geo\":{\"bgcolor\":\"white\",\"landcolor\":\"#E5ECF6\",\"subunitcolor\":\"white\",\"showland\":true,\"showlakes\":true,\"lakecolor\":\"white\"},\"title\":{\"x\":0.05},\"mapbox\":{\"style\":\"light\"}}},\"coloraxis\":{\"colorbar\":{\"title\":{\"text\":\"YTM (%)\"}},\"colorscale\":[[0.0,\"rgb(0,104,55)\"],[0.1,\"rgb(26,152,80)\"],[0.2,\"rgb(102,189,99)\"],[0.3,\"rgb(166,217,106)\"],[0.4,\"rgb(217,239,139)\"],[0.5,\"rgb(255,255,191)\"],[0.6,\"rgb(254,224,139)\"],[0.7,\"rgb(253,174,97)\"],[0.8,\"rgb(244,109,67)\"],[0.9,\"rgb(215,48,39)\"],[1.0,\"rgb(165,0,38)\"]],\"cmin\":1.6958716422575328,\"cmax\":12.587740837217018},\"legend\":{\"tracegroupgap\":0},\"margin\":{\"t\":60},\"title\":{\"text\":\"EMBI\"}},                        {\"responsive\": true}                    ).then(function(){\n",
       "                            \n",
       "var gd = document.getElementById('cb6b574b-3343-46a1-b523-6ead1488e7a2');\n",
       "var x = new MutationObserver(function (mutations, observer) {{\n",
       "        var display = window.getComputedStyle(gd).display;\n",
       "        if (!display || display === 'none') {{\n",
       "            console.log([gd, 'removed!']);\n",
       "            Plotly.purge(gd);\n",
       "            observer.disconnect();\n",
       "        }}\n",
       "}});\n",
       "\n",
       "// Listen for the removal of the full notebook cells\n",
       "var notebookContainer = gd.closest('#notebook-container');\n",
       "if (notebookContainer) {{\n",
       "    x.observe(notebookContainer, {childList: true});\n",
       "}}\n",
       "\n",
       "// Listen for the clearing of the current output cell\n",
       "var outputEl = gd.closest('.output');\n",
       "if (outputEl) {{\n",
       "    x.observe(outputEl, {childList: true});\n",
       "}}\n",
       "\n",
       "                        })                };                });            </script>        </div>"
      ]
     },
     "metadata": {},
     "output_type": "display_data"
    },
    {
     "data": {
      "text/plain": [
       "<Figure size 432x288 with 0 Axes>"
      ]
     },
     "metadata": {},
     "output_type": "display_data"
    }
   ],
   "source": [
    "%matplotlib inline\n",
    "new_dfc = new_dfc[new_dfc[\"Weight (%)\"] != 0].head(1000)\n",
    "new_dfc\n",
    "temp_bool = new_dfc.isnull().sum() > 100\n",
    "new_dfc = new_dfc.loc[:, ~temp_bool]\n",
    "temp_bool = new_dfc.isnull().sum(axis=1) > 20\n",
    "new_dfc = new_dfc.loc[ ~temp_bool,]\n",
    "new_dfc[\"YTM (%)\"] = pd.to_numeric(new_dfc[\"YTM (%)\"],errors=\"coerce\").round(2)\n",
    "\n",
    "def create_treemap(df):\n",
    "    df_des = df[\"YTM (%)\"].fillna(0).describe()\n",
    "    scale_max = df_des[\"mean\"] + df_des[\"std\"] * 1\n",
    "    scale_min = df_des[\"mean\"] - df_des[\"std\"] * 1   \n",
    "    fig = px.treemap(df, \n",
    "                     path=categories,\n",
    "                     values=\"Weight (%)\",\n",
    "                     color= \"YTM (%)\",\n",
    "                     color_continuous_scale='rdylgn_r',\n",
    "                     range_color = [scale_min,scale_max]\n",
    "                    )\n",
    "    zmin = -20\n",
    "    fig.update_layout(title=f'{chartnames[indexchoice]}')\n",
    "    plt.savefig(f'{indexchoice[-28:-20]}.png')\n",
    "    fig.show()\n",
    "    \n",
    "create_treemap(new_dfc)"
   ]
  },
  {
   "cell_type": "code",
   "execution_count": 5,
   "id": "10d4c502",
   "metadata": {},
   "outputs": [
    {
     "data": {
      "text/plain": [
       "count    613.000000\n",
       "mean       7.095204\n",
       "std        5.458530\n",
       "min        0.000000\n",
       "25%        5.140000\n",
       "50%        5.760000\n",
       "75%        7.240000\n",
       "max       50.000000\n",
       "Name: YTM (%), dtype: float64"
      ]
     },
     "execution_count": 5,
     "metadata": {},
     "output_type": "execute_result"
    }
   ],
   "source": [
    "df[\"YTM (%)\"] = pd.to_numeric(new_dfc[\"YTM (%)\"],errors=\"coerce\").round(2)\n",
    "df[\"YTM (%)\"].fillna(0).describe()"
   ]
  },
  {
   "cell_type": "code",
   "execution_count": 6,
   "id": "5eb37818",
   "metadata": {},
   "outputs": [
    {
     "data": {
      "text/plain": [
       "<AxesSubplot:>"
      ]
     },
     "execution_count": 6,
     "metadata": {},
     "output_type": "execute_result"
    },
    {
     "data": {
      "image/png": "[encoded data removed]",
      "text/plain": [
       "<Figure size 432x288 with 1 Axes>"
      ]
     },
     "metadata": {
      "needs_background": "light"
     },
     "output_type": "display_data"
    }
   ],
   "source": [
    "df3 = pd.read_csv('https://www.bis.org/statistics/full_credit_gap_csv.zip',on_bad_lines='skip')\n",
    "df3.set_index([\"Borrowers' country\"],inplace=True)\n",
    "df_gap = df3[df3[\"Credit gap data type\"] == 'Credit-to-GDP gaps (actual-trend)']\n",
    "df_gap\n",
    "em_list = [\"Argentina\",\"Brazil\",\"Chile\",\"China\",\"Colombia\",\"Hungary\",\"Indonesia\",\"Israel\",\n",
    "                \"India\",\"Korea\",\"Mexico\",\"Malaysia\",\"Poland\",\"Russia\",\"Saudi Arabia\",\"Thailand\",\n",
    "                \"South Africa\"] #,\"Czech Republic\"\n",
    "df_gap = df_gap.T\n",
    "df_gap.columns = [x for x in df_gap.columns.tolist()]\n",
    "df_ratio = df3[df3[\"Credit gap data type\"] == 'Credit-to-GDP ratios (actual data)'].T\n",
    "df_ratio.columns = [x for x in df_ratio.columns.tolist()]\n",
    "df_ratio\n",
    "#df_gap\n",
    "\n",
    "df_ratio[em_list].iloc[-1].sort_values().plot(kind=\"bar\")"
   ]
  },
  {
   "cell_type": "code",
   "execution_count": 7,
   "id": "be730f2f",
   "metadata": {},
   "outputs": [
    {
     "data": {
      "application/vnd.plotly.v1+json": {
       "config": {
        "plotlyServerURL": "https://plot.ly"
       },
       "data": [
        {
         "hovertemplate": "Credit Gap=%{x}<br>Credit to GDP=%{y}<br>index=%{text}<extra></extra>",
         "legendgroup": "",
         "marker": {
          "color": "#636efa",
          "symbol": "circle"
         },
         "mode": "markers+text",
         "name": "",
         "orientation": "v",
         "showlegend": false,
         "text": [
          "Korea",
          "Thailand",
          "India",
          "Argentina",
          "Israel",
          "Saudi Arabia",
          "Brazil",
          "China",
          "Indonesia",
          "Mexico",
          "Colombia",
          "Hungary",
          "South Africa",
          "Malaysia",
          "Russia",
          "Chile",
          "Poland"
         ],
         "type": "scatter",
         "x": [
          12.1,
          9,
          0.5,
          0.1,
          -0.7,
          -0.7,
          -1.1,
          -1.8,
          -2,
          -4.6,
          -6.6,
          -7,
          -7.2,
          -8.8,
          -11.8,
          -17.8,
          -23
         ],
         "xaxis": "x",
         "y": [
          225.6,
          178.4,
          99.6,
          22.8,
          112.8,
          73,
          85.2,
          228,
          38.9,
          37.2,
          59.2,
          93.8,
          66.4,
          156.1,
          100.1,
          137.5,
          62.8
         ],
         "yaxis": "y"
        }
       ],
       "layout": {
        "legend": {
         "tracegroupgap": 0
        },
        "margin": {
         "t": 60
        },
        "template": {
         "data": {
          "bar": [
           {
            "error_x": {
             "color": "#2a3f5f"
            },
            "error_y": {
             "color": "#2a3f5f"
            },
            "marker": {
             "line": {
              "color": "#E5ECF6",
              "width": 0.5
             },
             "pattern": {
              "fillmode": "overlay",
              "size": 10,
              "solidity": 0.2
             }
            },
            "type": "bar"
           }
          ],
          "barpolar": [
           {
            "marker": {
             "line": {
              "color": "#E5ECF6",
              "width": 0.5
             },
             "pattern": {
              "fillmode": "overlay",
              "size": 10,
              "solidity": 0.2
             }
            },
            "type": "barpolar"
           }
          ],
          "carpet": [
           {
            "aaxis": {
             "endlinecolor": "#2a3f5f",
             "gridcolor": "white",
             "linecolor": "white",
             "minorgridcolor": "white",
             "startlinecolor": "#2a3f5f"
            },
            "baxis": {
             "endlinecolor": "#2a3f5f",
             "gridcolor": "white",
             "linecolor": "white",
             "minorgridcolor": "white",
             "startlinecolor": "#2a3f5f"
            },
            "type": "carpet"
           }
          ],
          "choropleth": [
           {
            "colorbar": {
             "outlinewidth": 0,
             "ticks": ""
            },
            "type": "choropleth"
           }
          ],
          "contour": [
           {
            "colorbar": {
             "outlinewidth": 0,
             "ticks": ""
            },
            "colorscale": [
             [
              0,
              "#0d0887"
             ],
             [
              0.1111111111111111,
              "#46039f"
             ],
             [
              0.2222222222222222,
              "#7201a8"
             ],
             [
              0.3333333333333333,
              "#9c179e"
             ],
             [
              0.4444444444444444,
              "#bd3786"
             ],
             [
              0.5555555555555556,
              "#d8576b"
             ],
             [
              0.6666666666666666,
              "#ed7953"
             ],
             [
              0.7777777777777778,
              "#fb9f3a"
             ],
             [
              0.8888888888888888,
              "#fdca26"
             ],
             [
              1,
              "#f0f921"
             ]
            ],
            "type": "contour"
           }
          ],
          "contourcarpet": [
           {
            "colorbar": {
             "outlinewidth": 0,
             "ticks": ""
            },
            "type": "contourcarpet"
           }
          ],
          "heatmap": [
           {
            "colorbar": {
             "outlinewidth": 0,
             "ticks": ""
            },
            "colorscale": [
             [
              0,
              "#0d0887"
             ],
             [
              0.1111111111111111,
              "#46039f"
             ],
             [
              0.2222222222222222,
              "#7201a8"
             ],
             [
              0.3333333333333333,
              "#9c179e"
             ],
             [
              0.4444444444444444,
              "#bd3786"
             ],
             [
              0.5555555555555556,
              "#d8576b"
             ],
             [
              0.6666666666666666,
              "#ed7953"
             ],
             [
              0.7777777777777778,
              "#fb9f3a"
             ],
             [
              0.8888888888888888,
              "#fdca26"
             ],
             [
              1,
              "#f0f921"
             ]
            ],
            "type": "heatmap"
           }
          ],
          "heatmapgl": [
           {
            "colorbar": {
             "outlinewidth": 0,
             "ticks": ""
            },
            "colorscale": [
             [
              0,
              "#0d0887"
             ],
             [
              0.1111111111111111,
              "#46039f"
             ],
             [
              0.2222222222222222,
              "#7201a8"
             ],
             [
              0.3333333333333333,
              "#9c179e"
             ],
             [
              0.4444444444444444,
              "#bd3786"
             ],
             [
              0.5555555555555556,
              "#d8576b"
             ],
             [
              0.6666666666666666,
              "#ed7953"
             ],
             [
              0.7777777777777778,
              "#fb9f3a"
             ],
             [
              0.8888888888888888,
              "#fdca26"
             ],
             [
              1,
              "#f0f921"
             ]
            ],
            "type": "heatmapgl"
           }
          ],
          "histogram": [
           {
            "marker": {
             "pattern": {
              "fillmode": "overlay",
              "size": 10,
              "solidity": 0.2
             }
            },
            "type": "histogram"
           }
          ],
          "histogram2d": [
           {
            "colorbar": {
             "outlinewidth": 0,
             "ticks": ""
            },
            "colorscale": [
             [
              0,
              "#0d0887"
             ],
             [
              0.1111111111111111,
              "#46039f"
             ],
             [
              0.2222222222222222,
              "#7201a8"
             ],
             [
              0.3333333333333333,
              "#9c179e"
             ],
             [
              0.4444444444444444,
              "#bd3786"
             ],
             [
              0.5555555555555556,
              "#d8576b"
             ],
             [
              0.6666666666666666,
              "#ed7953"
             ],
             [
              0.7777777777777778,
              "#fb9f3a"
             ],
             [
              0.8888888888888888,
              "#fdca26"
             ],
             [
              1,
              "#f0f921"
             ]
            ],
            "type": "histogram2d"
           }
          ],
          "histogram2dcontour": [
           {
            "colorbar": {
             "outlinewidth": 0,
             "ticks": ""
            },
            "colorscale": [
             [
              0,
              "#0d0887"
             ],
             [
              0.1111111111111111,
              "#46039f"
             ],
             [
              0.2222222222222222,
              "#7201a8"
             ],
             [
              0.3333333333333333,
              "#9c179e"
             ],
             [
              0.4444444444444444,
              "#bd3786"
             ],
             [
              0.5555555555555556,
              "#d8576b"
             ],
             [
              0.6666666666666666,
              "#ed7953"
             ],
             [
              0.7777777777777778,
              "#fb9f3a"
             ],
             [
              0.8888888888888888,
              "#fdca26"
             ],
             [
              1,
              "#f0f921"
             ]
            ],
            "type": "histogram2dcontour"
           }
          ],
          "mesh3d": [
           {
            "colorbar": {
             "outlinewidth": 0,
             "ticks": ""
            },
            "type": "mesh3d"
           }
          ],
          "parcoords": [
           {
            "line": {
             "colorbar": {
              "outlinewidth": 0,
              "ticks": ""
             }
            },
            "type": "parcoords"
           }
          ],
          "pie": [
           {
            "automargin": true,
            "type": "pie"
           }
          ],
          "scatter": [
           {
            "fillpattern": {
             "fillmode": "overlay",
             "size": 10,
             "solidity": 0.2
            },
            "type": "scatter"
           }
          ],
          "scatter3d": [
           {
            "line": {
             "colorbar": {
              "outlinewidth": 0,
              "ticks": ""
             }
            },
            "marker": {
             "colorbar": {
              "outlinewidth": 0,
              "ticks": ""
             }
            },
            "type": "scatter3d"
           }
          ],
          "scattercarpet": [
           {
            "marker": {
             "colorbar": {
              "outlinewidth": 0,
              "ticks": ""
             }
            },
            "type": "scattercarpet"
           }
          ],
          "scattergeo": [
           {
            "marker": {
             "colorbar": {
              "outlinewidth": 0,
              "ticks": ""
             }
            },
            "type": "scattergeo"
           }
          ],
          "scattergl": [
           {
            "marker": {
             "colorbar": {
              "outlinewidth": 0,
              "ticks": ""
             }
            },
            "type": "scattergl"
           }
          ],
          "scattermapbox": [
           {
            "marker": {
             "colorbar": {
              "outlinewidth": 0,
              "ticks": ""
             }
            },
            "type": "scattermapbox"
           }
          ],
          "scatterpolar": [
           {
            "marker": {
             "colorbar": {
              "outlinewidth": 0,
              "ticks": ""
             }
            },
            "type": "scatterpolar"
           }
          ],
          "scatterpolargl": [
           {
            "marker": {
             "colorbar": {
              "outlinewidth": 0,
              "ticks": ""
             }
            },
            "type": "scatterpolargl"
           }
          ],
          "scatterternary": [
           {
            "marker": {
             "colorbar": {
              "outlinewidth": 0,
              "ticks": ""
             }
            },
            "type": "scatterternary"
           }
          ],
          "surface": [
           {
            "colorbar": {
             "outlinewidth": 0,
             "ticks": ""
            },
            "colorscale": [
             [
              0,
              "#0d0887"
             ],
             [
              0.1111111111111111,
              "#46039f"
             ],
             [
              0.2222222222222222,
              "#7201a8"
             ],
             [
              0.3333333333333333,
              "#9c179e"
             ],
             [
              0.4444444444444444,
              "#bd3786"
             ],
             [
              0.5555555555555556,
              "#d8576b"
             ],
             [
              0.6666666666666666,
              "#ed7953"
             ],
             [
              0.7777777777777778,
              "#fb9f3a"
             ],
             [
              0.8888888888888888,
              "#fdca26"
             ],
             [
              1,
              "#f0f921"
             ]
            ],
            "type": "surface"
           }
          ],
          "table": [
           {
            "cells": {
             "fill": {
              "color": "#EBF0F8"
             },
             "line": {
              "color": "white"
             }
            },
            "header": {
             "fill": {
              "color": "#C8D4E3"
             },
             "line": {
              "color": "white"
             }
            },
            "type": "table"
           }
          ]
         },
         "layout": {
          "annotationdefaults": {
           "arrowcolor": "#2a3f5f",
           "arrowhead": 0,
           "arrowwidth": 1
          },
          "autotypenumbers": "strict",
          "coloraxis": {
           "colorbar": {
            "outlinewidth": 0,
            "ticks": ""
           }
          },
          "colorscale": {
           "diverging": [
            [
             0,
             "#8e0152"
            ],
            [
             0.1,
             "#c51b7d"
            ],
            [
             0.2,
             "#de77ae"
            ],
            [
             0.3,
             "#f1b6da"
            ],
            [
             0.4,
             "#fde0ef"
            ],
            [
             0.5,
             "#f7f7f7"
            ],
            [
             0.6,
             "#e6f5d0"
            ],
            [
             0.7,
             "#b8e186"
            ],
            [
             0.8,
             "#7fbc41"
            ],
            [
             0.9,
             "#4d9221"
            ],
            [
             1,
             "#276419"
            ]
           ],
           "sequential": [
            [
             0,
             "#0d0887"
            ],
            [
             0.1111111111111111,
             "#46039f"
            ],
            [
             0.2222222222222222,
             "#7201a8"
            ],
            [
             0.3333333333333333,
             "#9c179e"
            ],
            [
             0.4444444444444444,
             "#bd3786"
            ],
            [
             0.5555555555555556,
             "#d8576b"
            ],
            [
             0.6666666666666666,
             "#ed7953"
            ],
            [
             0.7777777777777778,
             "#fb9f3a"
            ],
            [
             0.8888888888888888,
             "#fdca26"
            ],
            [
             1,
             "#f0f921"
            ]
           ],
           "sequentialminus": [
            [
             0,
             "#0d0887"
            ],
            [
             0.1111111111111111,
             "#46039f"
            ],
            [
             0.2222222222222222,
             "#7201a8"
            ],
            [
             0.3333333333333333,
             "#9c179e"
            ],
            [
             0.4444444444444444,
             "#bd3786"
            ],
            [
             0.5555555555555556,
             "#d8576b"
            ],
            [
             0.6666666666666666,
             "#ed7953"
            ],
            [
             0.7777777777777778,
             "#fb9f3a"
            ],
            [
             0.8888888888888888,
             "#fdca26"
            ],
            [
             1,
             "#f0f921"
            ]
           ]
          },
          "colorway": [
           "#636efa",
           "#EF553B",
           "#00cc96",
           "#ab63fa",
           "#FFA15A",
           "#19d3f3",
           "#FF6692",
           "#B6E880",
           "#FF97FF",
           "#FECB52"
          ],
          "font": {
           "color": "#2a3f5f"
          },
          "geo": {
           "bgcolor": "white",
           "lakecolor": "white",
           "landcolor": "#E5ECF6",
           "showlakes": true,
           "showland": true,
           "subunitcolor": "white"
          },
          "hoverlabel": {
           "align": "left"
          },
          "hovermode": "closest",
          "mapbox": {
           "style": "light"
          },
          "paper_bgcolor": "white",
          "plot_bgcolor": "#E5ECF6",
          "polar": {
           "angularaxis": {
            "gridcolor": "white",
            "linecolor": "white",
            "ticks": ""
           },
           "bgcolor": "#E5ECF6",
           "radialaxis": {
            "gridcolor": "white",
            "linecolor": "white",
            "ticks": ""
           }
          },
          "scene": {
           "xaxis": {
            "backgroundcolor": "#E5ECF6",
            "gridcolor": "white",
            "gridwidth": 2,
            "linecolor": "white",
            "showbackground": true,
            "ticks": "",
            "zerolinecolor": "white"
           },
           "yaxis": {
            "backgroundcolor": "#E5ECF6",
            "gridcolor": "white",
            "gridwidth": 2,
            "linecolor": "white",
            "showbackground": true,
            "ticks": "",
            "zerolinecolor": "white"
           },
           "zaxis": {
            "backgroundcolor": "#E5ECF6",
            "gridcolor": "white",
            "gridwidth": 2,
            "linecolor": "white",
            "showbackground": true,
            "ticks": "",
            "zerolinecolor": "white"
           }
          },
          "shapedefaults": {
           "line": {
            "color": "#2a3f5f"
           }
          },
          "ternary": {
           "aaxis": {
            "gridcolor": "white",
            "linecolor": "white",
            "ticks": ""
           },
           "baxis": {
            "gridcolor": "white",
            "linecolor": "white",
            "ticks": ""
           },
           "bgcolor": "#E5ECF6",
           "caxis": {
            "gridcolor": "white",
            "linecolor": "white",
            "ticks": ""
           }
          },
          "title": {
           "x": 0.05
          },
          "xaxis": {
           "automargin": true,
           "gridcolor": "white",
           "linecolor": "white",
           "ticks": "",
           "title": {
            "standoff": 15
           },
           "zerolinecolor": "white",
           "zerolinewidth": 2
          },
          "yaxis": {
           "automargin": true,
           "gridcolor": "white",
           "linecolor": "white",
           "ticks": "",
           "title": {
            "standoff": 15
           },
           "zerolinecolor": "white",
           "zerolinewidth": 2
          }
         }
        },
        "xaxis": {
         "anchor": "y",
         "domain": [
          0,
          1
         ],
         "title": {
          "text": "Credit Gap"
         }
        },
        "yaxis": {
         "anchor": "x",
         "domain": [
          0,
          1
         ],
         "title": {
          "text": "Credit to GDP"
         }
        }
       }
      },
      "text/html": [
       "<div>                            <div id=\"1cb9aad1-a7d0-474a-bbed-19ded9cbd022\" class=\"plotly-graph-div\" style=\"height:525px; width:100%;\"></div>            <script type=\"text/javascript\">                require([\"plotly\"], function(Plotly) {                    window.PLOTLYENV=window.PLOTLYENV || {};                                    if (document.getElementById(\"1cb9aad1-a7d0-474a-bbed-19ded9cbd022\")) {                    Plotly.newPlot(                        \"1cb9aad1-a7d0-474a-bbed-19ded9cbd022\",                        [{\"hovertemplate\":\"Credit Gap=%{x}\\u003cbr\\u003eCredit to GDP=%{y}\\u003cbr\\u003eindex=%{text}\\u003cextra\\u003e\\u003c\\u002fextra\\u003e\",\"legendgroup\":\"\",\"marker\":{\"color\":\"#636efa\",\"symbol\":\"circle\"},\"mode\":\"markers+text\",\"name\":\"\",\"orientation\":\"v\",\"showlegend\":false,\"text\":[\"Korea\",\"Thailand\",\"India\",\"Argentina\",\"Israel\",\"Saudi Arabia\",\"Brazil\",\"China\",\"Indonesia\",\"Mexico\",\"Colombia\",\"Hungary\",\"South Africa\",\"Malaysia\",\"Russia\",\"Chile\",\"Poland\"],\"x\":[12.1,9.0,0.5,0.1,-0.7,-0.7,-1.1,-1.8,-2.0,-4.6,-6.6,-7.0,-7.2,-8.8,-11.8,-17.8,-23.0],\"xaxis\":\"x\",\"y\":[225.6,178.4,99.6,22.8,112.8,73.0,85.2,228.0,38.9,37.2,59.2,93.8,66.4,156.1,100.1,137.5,62.8],\"yaxis\":\"y\",\"type\":\"scatter\"}],                        {\"template\":{\"data\":{\"histogram2dcontour\":[{\"type\":\"histogram2dcontour\",\"colorbar\":{\"outlinewidth\":0,\"ticks\":\"\"},\"colorscale\":[[0.0,\"#0d0887\"],[0.1111111111111111,\"#46039f\"],[0.2222222222222222,\"#7201a8\"],[0.3333333333333333,\"#9c179e\"],[0.4444444444444444,\"#bd3786\"],[0.5555555555555556,\"#d8576b\"],[0.6666666666666666,\"#ed7953\"],[0.7777777777777778,\"#fb9f3a\"],[0.8888888888888888,\"#fdca26\"],[1.0,\"#f0f921\"]]}],\"choropleth\":[{\"type\":\"choropleth\",\"colorbar\":{\"outlinewidth\":0,\"ticks\":\"\"}}],\"histogram2d\":[{\"type\":\"histogram2d\",\"colorbar\":{\"outlinewidth\":0,\"ticks\":\"\"},\"colorscale\":[[0.0,\"#0d0887\"],[0.1111111111111111,\"#46039f\"],[0.2222222222222222,\"#7201a8\"],[0.3333333333333333,\"#9c179e\"],[0.4444444444444444,\"#bd3786\"],[0.5555555555555556,\"#d8576b\"],[0.6666666666666666,\"#ed7953\"],[0.7777777777777778,\"#fb9f3a\"],[0.8888888888888888,\"#fdca26\"],[1.0,\"#f0f921\"]]}],\"heatmap\":[{\"type\":\"heatmap\",\"colorbar\":{\"outlinewidth\":0,\"ticks\":\"\"},\"colorscale\":[[0.0,\"#0d0887\"],[0.1111111111111111,\"#46039f\"],[0.2222222222222222,\"#7201a8\"],[0.3333333333333333,\"#9c179e\"],[0.4444444444444444,\"#bd3786\"],[0.5555555555555556,\"#d8576b\"],[0.6666666666666666,\"#ed7953\"],[0.7777777777777778,\"#fb9f3a\"],[0.8888888888888888,\"#fdca26\"],[1.0,\"#f0f921\"]]}],\"heatmapgl\":[{\"type\":\"heatmapgl\",\"colorbar\":{\"outlinewidth\":0,\"ticks\":\"\"},\"colorscale\":[[0.0,\"#0d0887\"],[0.1111111111111111,\"#46039f\"],[0.2222222222222222,\"#7201a8\"],[0.3333333333333333,\"#9c179e\"],[0.4444444444444444,\"#bd3786\"],[0.5555555555555556,\"#d8576b\"],[0.6666666666666666,\"#ed7953\"],[0.7777777777777778,\"#fb9f3a\"],[0.8888888888888888,\"#fdca26\"],[1.0,\"#f0f921\"]]}],\"contourcarpet\":[{\"type\":\"contourcarpet\",\"colorbar\":{\"outlinewidth\":0,\"ticks\":\"\"}}],\"contour\":[{\"type\":\"contour\",\"colorbar\":{\"outlinewidth\":0,\"ticks\":\"\"},\"colorscale\":[[0.0,\"#0d0887\"],[0.1111111111111111,\"#46039f\"],[0.2222222222222222,\"#7201a8\"],[0.3333333333333333,\"#9c179e\"],[0.4444444444444444,\"#bd3786\"],[0.5555555555555556,\"#d8576b\"],[0.6666666666666666,\"#ed7953\"],[0.7777777777777778,\"#fb9f3a\"],[0.8888888888888888,\"#fdca26\"],[1.0,\"#f0f921\"]]}],\"surface\":[{\"type\":\"surface\",\"colorbar\":{\"outlinewidth\":0,\"ticks\":\"\"},\"colorscale\":[[0.0,\"#0d0887\"],[0.1111111111111111,\"#46039f\"],[0.2222222222222222,\"#7201a8\"],[0.3333333333333333,\"#9c179e\"],[0.4444444444444444,\"#bd3786\"],[0.5555555555555556,\"#d8576b\"],[0.6666666666666666,\"#ed7953\"],[0.7777777777777778,\"#fb9f3a\"],[0.8888888888888888,\"#fdca26\"],[1.0,\"#f0f921\"]]}],\"mesh3d\":[{\"type\":\"mesh3d\",\"colorbar\":{\"outlinewidth\":0,\"ticks\":\"\"}}],\"scatter\":[{\"fillpattern\":{\"fillmode\":\"overlay\",\"size\":10,\"solidity\":0.2},\"type\":\"scatter\"}],\"parcoords\":[{\"type\":\"parcoords\",\"line\":{\"colorbar\":{\"outlinewidth\":0,\"ticks\":\"\"}}}],\"scatterpolargl\":[{\"type\":\"scatterpolargl\",\"marker\":{\"colorbar\":{\"outlinewidth\":0,\"ticks\":\"\"}}}],\"bar\":[{\"error_x\":{\"color\":\"#2a3f5f\"},\"error_y\":{\"color\":\"#2a3f5f\"},\"marker\":{\"line\":{\"color\":\"#E5ECF6\",\"width\":0.5},\"pattern\":{\"fillmode\":\"overlay\",\"size\":10,\"solidity\":0.2}},\"type\":\"bar\"}],\"scattergeo\":[{\"type\":\"scattergeo\",\"marker\":{\"colorbar\":{\"outlinewidth\":0,\"ticks\":\"\"}}}],\"scatterpolar\":[{\"type\":\"scatterpolar\",\"marker\":{\"colorbar\":{\"outlinewidth\":0,\"ticks\":\"\"}}}],\"histogram\":[{\"marker\":{\"pattern\":{\"fillmode\":\"overlay\",\"size\":10,\"solidity\":0.2}},\"type\":\"histogram\"}],\"scattergl\":[{\"type\":\"scattergl\",\"marker\":{\"colorbar\":{\"outlinewidth\":0,\"ticks\":\"\"}}}],\"scatter3d\":[{\"type\":\"scatter3d\",\"line\":{\"colorbar\":{\"outlinewidth\":0,\"ticks\":\"\"}},\"marker\":{\"colorbar\":{\"outlinewidth\":0,\"ticks\":\"\"}}}],\"scattermapbox\":[{\"type\":\"scattermapbox\",\"marker\":{\"colorbar\":{\"outlinewidth\":0,\"ticks\":\"\"}}}],\"scatterternary\":[{\"type\":\"scatterternary\",\"marker\":{\"colorbar\":{\"outlinewidth\":0,\"ticks\":\"\"}}}],\"scattercarpet\":[{\"type\":\"scattercarpet\",\"marker\":{\"colorbar\":{\"outlinewidth\":0,\"ticks\":\"\"}}}],\"carpet\":[{\"aaxis\":{\"endlinecolor\":\"#2a3f5f\",\"gridcolor\":\"white\",\"linecolor\":\"white\",\"minorgridcolor\":\"white\",\"startlinecolor\":\"#2a3f5f\"},\"baxis\":{\"endlinecolor\":\"#2a3f5f\",\"gridcolor\":\"white\",\"linecolor\":\"white\",\"minorgridcolor\":\"white\",\"startlinecolor\":\"#2a3f5f\"},\"type\":\"carpet\"}],\"table\":[{\"cells\":{\"fill\":{\"color\":\"#EBF0F8\"},\"line\":{\"color\":\"white\"}},\"header\":{\"fill\":{\"color\":\"#C8D4E3\"},\"line\":{\"color\":\"white\"}},\"type\":\"table\"}],\"barpolar\":[{\"marker\":{\"line\":{\"color\":\"#E5ECF6\",\"width\":0.5},\"pattern\":{\"fillmode\":\"overlay\",\"size\":10,\"solidity\":0.2}},\"type\":\"barpolar\"}],\"pie\":[{\"automargin\":true,\"type\":\"pie\"}]},\"layout\":{\"autotypenumbers\":\"strict\",\"colorway\":[\"#636efa\",\"#EF553B\",\"#00cc96\",\"#ab63fa\",\"#FFA15A\",\"#19d3f3\",\"#FF6692\",\"#B6E880\",\"#FF97FF\",\"#FECB52\"],\"font\":{\"color\":\"#2a3f5f\"},\"hovermode\":\"closest\",\"hoverlabel\":{\"align\":\"left\"},\"paper_bgcolor\":\"white\",\"plot_bgcolor\":\"#E5ECF6\",\"polar\":{\"bgcolor\":\"#E5ECF6\",\"angularaxis\":{\"gridcolor\":\"white\",\"linecolor\":\"white\",\"ticks\":\"\"},\"radialaxis\":{\"gridcolor\":\"white\",\"linecolor\":\"white\",\"ticks\":\"\"}},\"ternary\":{\"bgcolor\":\"#E5ECF6\",\"aaxis\":{\"gridcolor\":\"white\",\"linecolor\":\"white\",\"ticks\":\"\"},\"baxis\":{\"gridcolor\":\"white\",\"linecolor\":\"white\",\"ticks\":\"\"},\"caxis\":{\"gridcolor\":\"white\",\"linecolor\":\"white\",\"ticks\":\"\"}},\"coloraxis\":{\"colorbar\":{\"outlinewidth\":0,\"ticks\":\"\"}},\"colorscale\":{\"sequential\":[[0.0,\"#0d0887\"],[0.1111111111111111,\"#46039f\"],[0.2222222222222222,\"#7201a8\"],[0.3333333333333333,\"#9c179e\"],[0.4444444444444444,\"#bd3786\"],[0.5555555555555556,\"#d8576b\"],[0.6666666666666666,\"#ed7953\"],[0.7777777777777778,\"#fb9f3a\"],[0.8888888888888888,\"#fdca26\"],[1.0,\"#f0f921\"]],\"sequentialminus\":[[0.0,\"#0d0887\"],[0.1111111111111111,\"#46039f\"],[0.2222222222222222,\"#7201a8\"],[0.3333333333333333,\"#9c179e\"],[0.4444444444444444,\"#bd3786\"],[0.5555555555555556,\"#d8576b\"],[0.6666666666666666,\"#ed7953\"],[0.7777777777777778,\"#fb9f3a\"],[0.8888888888888888,\"#fdca26\"],[1.0,\"#f0f921\"]],\"diverging\":[[0,\"#8e0152\"],[0.1,\"#c51b7d\"],[0.2,\"#de77ae\"],[0.3,\"#f1b6da\"],[0.4,\"#fde0ef\"],[0.5,\"#f7f7f7\"],[0.6,\"#e6f5d0\"],[0.7,\"#b8e186\"],[0.8,\"#7fbc41\"],[0.9,\"#4d9221\"],[1,\"#276419\"]]},\"xaxis\":{\"gridcolor\":\"white\",\"linecolor\":\"white\",\"ticks\":\"\",\"title\":{\"standoff\":15},\"zerolinecolor\":\"white\",\"automargin\":true,\"zerolinewidth\":2},\"yaxis\":{\"gridcolor\":\"white\",\"linecolor\":\"white\",\"ticks\":\"\",\"title\":{\"standoff\":15},\"zerolinecolor\":\"white\",\"automargin\":true,\"zerolinewidth\":2},\"scene\":{\"xaxis\":{\"backgroundcolor\":\"#E5ECF6\",\"gridcolor\":\"white\",\"linecolor\":\"white\",\"showbackground\":true,\"ticks\":\"\",\"zerolinecolor\":\"white\",\"gridwidth\":2},\"yaxis\":{\"backgroundcolor\":\"#E5ECF6\",\"gridcolor\":\"white\",\"linecolor\":\"white\",\"showbackground\":true,\"ticks\":\"\",\"zerolinecolor\":\"white\",\"gridwidth\":2},\"zaxis\":{\"backgroundcolor\":\"#E5ECF6\",\"gridcolor\":\"white\",\"linecolor\":\"white\",\"showbackground\":true,\"ticks\":\"\",\"zerolinecolor\":\"white\",\"gridwidth\":2}},\"shapedefaults\":{\"line\":{\"color\":\"#2a3f5f\"}},\"annotationdefaults\":{\"arrowcolor\":\"#2a3f5f\",\"arrowhead\":0,\"arrowwidth\":1},\"geo\":{\"bgcolor\":\"white\",\"landcolor\":\"#E5ECF6\",\"subunitcolor\":\"white\",\"showland\":true,\"showlakes\":true,\"lakecolor\":\"white\"},\"title\":{\"x\":0.05},\"mapbox\":{\"style\":\"light\"}}},\"xaxis\":{\"anchor\":\"y\",\"domain\":[0.0,1.0],\"title\":{\"text\":\"Credit Gap\"}},\"yaxis\":{\"anchor\":\"x\",\"domain\":[0.0,1.0],\"title\":{\"text\":\"Credit to GDP\"}},\"legend\":{\"tracegroupgap\":0},\"margin\":{\"t\":60}},                        {\"responsive\": true}                    ).then(function(){\n",
       "                            \n",
       "var gd = document.getElementById('1cb9aad1-a7d0-474a-bbed-19ded9cbd022');\n",
       "var x = new MutationObserver(function (mutations, observer) {{\n",
       "        var display = window.getComputedStyle(gd).display;\n",
       "        if (!display || display === 'none') {{\n",
       "            console.log([gd, 'removed!']);\n",
       "            Plotly.purge(gd);\n",
       "            observer.disconnect();\n",
       "        }}\n",
       "}});\n",
       "\n",
       "// Listen for the removal of the full notebook cells\n",
       "var notebookContainer = gd.closest('#notebook-container');\n",
       "if (notebookContainer) {{\n",
       "    x.observe(notebookContainer, {childList: true});\n",
       "}}\n",
       "\n",
       "// Listen for the clearing of the current output cell\n",
       "var outputEl = gd.closest('.output');\n",
       "if (outputEl) {{\n",
       "    x.observe(outputEl, {childList: true});\n",
       "}}\n",
       "\n",
       "                        })                };                });            </script>        </div>"
      ]
     },
     "metadata": {},
     "output_type": "display_data"
    }
   ],
   "source": [
    "df_credit = pd.merge(df_gap[em_list].iloc[-1],df_ratio[em_list].iloc[-1],left_index=True,right_index=True)\n",
    "df_credit.columns = [\"Credit Gap\",\"Credit to GDP\"]\n",
    "df_credit = df_credit.sort_values(by = [\"Credit Gap\",\"Credit to GDP\"],ascending=False)\n",
    "df_credit.to_csv(\"credit_gaps.csv\")\n",
    "df_credit\n",
    "\n",
    "fig = px.scatter(df_credit, x=\"Credit Gap\",y=\"Credit to GDP\",text=df_credit.index)\n",
    "fig.show()\n"
   ]
  },
  {
   "cell_type": "code",
   "execution_count": 8,
   "id": "27d819f2",
   "metadata": {},
   "outputs": [
    {
     "data": {
      "text/plain": [
       "<AxesSubplot:>"
      ]
     },
     "execution_count": 8,
     "metadata": {},
     "output_type": "execute_result"
    },
    {
     "data": {
      "image/png": "[encoded data removed]",
      "text/plain": [
       "<Figure size 432x288 with 1 Axes>"
      ]
     },
     "metadata": {
      "needs_background": "light"
     },
     "output_type": "display_data"
    }
   ],
   "source": [
    "df_gap[em_list][13:].apply(pd.to_numeric)[\"Brazil\"].plot()\n",
    "\n"
   ]
  },
  {
   "cell_type": "code",
   "execution_count": 9,
   "id": "a47bbbc0",
   "metadata": {},
   "outputs": [],
   "source": [
    "#linear regression on ratings\n",
    "# df_for_reg = new_df[new_df[\"Rating\"] < 17]\n",
    "\n",
    "# X = df_for_reg[\"Rating\"].values.reshape(-1,1)\n",
    "# y = df_for_reg[\"YTW\"].values.reshape(-1,1)\n",
    "# print(f\"X is type {type(X)} and shape {X.shape}\")\n",
    "# print(f\"y is type {type(y)} and shape {y.shape}\")\n",
    "\n",
    "# # all parameters not specified are set to their defaults\n",
    "# linearR = LinearRegression()\n",
    "# linearR.fit(X,y)\n",
    "\n",
    "# # #use the trainged model to make predictions\n",
    "# predictions = linearR.predict(X)\n",
    "\n",
    "# # #I create a datframe to quickly look at whether the predictions worked\n",
    "# dfp = pd.DataFrame(zip(predictions,df_for_reg[\"YTW\"],df_for_reg[\"Rating\"],df_for_reg.index))\n",
    "# dfp.columns = [\"predictions\",\"YTW\",\"rating\",\"country\"]\n",
    "# dfp[\"diff\"] = dfp[\"YTW\"] - dfp[\"predictions\"]\n",
    "# dfp[\"predictions\"] = [x[0] for x in dfp[\"predictions\"]]\n",
    "# dfp[\"diff\"] = [x[0] for x in dfp[\"diff\"]]\n",
    "# dfp = dfp.set_index(\"country\")\n",
    "# dfp.sort_values(\"diff\")[\"diff\"].plot(kind=\"bar\")"
   ]
  }
 ],
 "metadata": {
  "kernelspec": {
   "display_name": "Python 3",
   "language": "python",
   "name": "python3"
  },
  "language_info": {
   "codemirror_mode": {
    "name": "ipython",
    "version": 3
   },
   "file_extension": ".py",
   "mimetype": "text/x-python",
   "name": "python",
   "nbconvert_exporter": "python",
   "pygments_lexer": "ipython3",
   "version": "3.8.8"
  }
 },
 "nbformat": 4,
 "nbformat_minor": 5
}
